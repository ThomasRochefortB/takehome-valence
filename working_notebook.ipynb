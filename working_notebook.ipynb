{
 "cells": [
  {
   "cell_type": "code",
   "execution_count": 1,
   "metadata": {},
   "outputs": [],
   "source": [
    "%load_ext autoreload\n",
    "%autoreload 2"
   ]
  },
  {
   "cell_type": "code",
   "execution_count": 2,
   "metadata": {},
   "outputs": [
    {
     "name": "stderr",
     "output_type": "stream",
     "text": [
      "/home/thomas/anaconda3/envs/takehome/lib/python3.12/site-packages/pinecone/data/index.py:1: TqdmWarning: IProgress not found. Please update jupyter and ipywidgets. See https://ipywidgets.readthedocs.io/en/stable/user_install.html\n",
      "  from tqdm.autonotebook import tqdm\n",
      "/home/thomas/anaconda3/envs/takehome/lib/python3.12/site-packages/fuzzywuzzy/fuzz.py:11: UserWarning: Using slow pure-python SequenceMatcher. Install python-Levenshtein to remove this warning\n",
      "  warnings.warn('Using slow pure-python SequenceMatcher. Install python-Levenshtein to remove this warning')\n"
     ]
    }
   ],
   "source": [
    "from tools import query_vector_db_articles, get_smiles_from_pubchem, predict_energy_from_smiles\n",
    "title = \"Targeted therapy in advanced non-small cell lung cancer: current advances and future trends.\"\n",
    "title2 = \"Low titers of SARS-CoV-2 neutralizing antibodies after first vaccination dose in cancer patients receiving checkpoint inhibitors.\""
   ]
  },
  {
   "cell_type": "code",
   "execution_count": 3,
   "metadata": {},
   "outputs": [
    {
     "data": {
      "text/plain": []
     },
     "execution_count": 3,
     "metadata": {},
     "output_type": "execute_result"
    }
   ],
   "source": [
    "## CODE TO DELETE PINECONE:\n",
    "import os\n",
    "from pinecone.grpc import PineconeGRPC as Pinecone\n",
    "\n",
    "pc = Pinecone(api_key=os.getenv(\"PINECONE_API_KEY\"))\n",
    "index = pc.Index(\"pubmed\")\n",
    "\n",
    "index.delete(delete_all=True)"
   ]
  },
  {
   "cell_type": "code",
   "execution_count": 5,
   "metadata": {},
   "outputs": [],
   "source": [
    "# completion llm  \n",
    "from langchain_cohere import ChatCohere\n",
    "\n",
    "llm = ChatCohere(model=\"command-r-plus\",temperature=0.0,max_tokens=4096)"
   ]
  },
  {
   "cell_type": "code",
   "execution_count": 6,
   "metadata": {},
   "outputs": [],
   "source": [
    "from langchain.agents import AgentExecutor\n",
    "from langchain_cohere.react_multi_hop.agent import create_cohere_react_agent\n",
    "from langchain_core.prompts import ChatPromptTemplate\n",
    "from langchain.agents import AgentExecutor, create_react_agent\n",
    "from langchain_core.runnables.history import RunnableWithMessageHistory\n",
    "from langchain.memory import ChatMessageHistory\n",
    "\n",
    "# Preamble\n",
    "preamble = \"\"\"\n",
    "You are an expert who answers the user's question with the most relevant datasource.\n",
    "You must answer in a precise and concise manner.\n",
    "You are equipped with a vectordatabase about scientific articles,\n",
    "a tool to get the SMILES string of a given molecule name,\n",
    "and a tool to predict the energy of a molecule from its SMILES string.\n",
    "\"\"\"\n",
    "\n",
    "# Prompt template\n",
    "prompt = ChatPromptTemplate.from_template(\"{input}\")\n",
    "# Create the ReAct agent\n",
    "agent = create_cohere_react_agent(\n",
    "   llm=llm,\n",
    "   tools=[query_vector_db_articles,get_smiles_from_pubchem, predict_energy_from_smiles],\n",
    "   prompt=prompt,\n",
    ")\n",
    "\n",
    "agent_executor = AgentExecutor(agent=agent,\n",
    "                               tools=[query_vector_db_articles,get_smiles_from_pubchem, predict_energy_from_smiles],\n",
    "                               verbose=True,\n",
    "                               handle_parsing_errors=True,)\n",
    "\n",
    "memory = ChatMessageHistory(session_id=\"test-session\")\n",
    "\n",
    "agent_with_chat_history = RunnableWithMessageHistory(\n",
    "    agent_executor,\n",
    "    # This is needed because in most real world scenarios, a session id is needed\n",
    "    # It isn't really used here because we are using a simple in memory ChatMessageHistory\n",
    "    lambda session_id: memory,\n",
    "    input_messages_key=\"input\",\n",
    "    history_messages_key=\"chat_history\",\n",
    ")"
   ]
  },
  {
   "cell_type": "markdown",
   "metadata": {},
   "source": []
  },
  {
   "cell_type": "code",
   "execution_count": null,
   "metadata": {},
   "outputs": [],
   "source": []
  },
  {
   "cell_type": "code",
   "execution_count": 7,
   "metadata": {},
   "outputs": [
    {
     "name": "stderr",
     "output_type": "stream",
     "text": [
      "Parent run b2d44ea3-194c-4bc8-b796-773431b2c2b8 not found for run 5c4003e2-6eb2-45e7-9b3b-14d95dbb0f85. Treating as a root run.\n"
     ]
    },
    {
     "name": "stdout",
     "output_type": "stream",
     "text": [
      "\n",
      "\n",
      "\u001b[1m> Entering new AgentExecutor chain...\u001b[0m\n",
      "\u001b[32;1m\u001b[1;3m\n",
      "I will search for the paper 'Targeted therapy in advanced non-small cell lung cancer: current advances and future trends' and then write an answer based on the information I find.\n",
      "{'tool_name': 'query_vector_db_articles', 'parameters': {'query': 'Targeted therapy in advanced non-small cell lung cancer: current advances and future trends', 'metadata': {'title': 'Targeted therapy in advanced non-small cell lung cancer: current advances and future trends'}}}\n",
      "\u001b[0mNo results found, Looking for the article online\n",
      "Found a similar title with a similarity score of 99:\n",
      "Targeted therapy in advanced non-small cell lung cancer: current advances and future trends.\n",
      "Title: Targeted therapy in advanced non-small cell lung cancer: current advances and future trends\n",
      "Authors: Umair Majeed, Rami Manochakian, Yujie Zhao, Yanyan Lou\n",
      "Journal: Journal of Hematology &amp; Oncology\n",
      "Published Date: 2021-07-08\n",
      "Open access PDF available at: https://jhoonline.biomedcentral.com/counter/pdf/10.1186/s13045-021-01121-2\n",
      "Downloaded the PDF as: .saved_pdfs/10.1186_s13045-021-01121-2.pdf\n",
      "Article successfully added to the vector database.\n",
      "Waiting for the database to update...\n",
      "\u001b[36;1m\u001b[1;3m[Document(page_content='Majeed\\xa0 et\\xa0al. J Hematol Oncol          (2021) 14:108  \\nhttps://doi.org/10.1186/s13045-021-01121-2\\nREVIEW\\nTargeted therapy in\\xa0advanced non-small cell \\nlung cancer: current advances and\\xa0future trends\\nUmair Majeed, Rami Manochakian, Yujie Zhao and Yanyan Lou*  \\nAbstract \\nLung cancer remains the leading cause of cancer-related mortality in both men and women in the US and worldwide. \\nNon-small cell lung cancer is the most common variety accounting for 84% of the cases. For a subset of patients with \\nactionable mutations, targeted therapy continues to provide durable responses. Advances in molecular and immu-\\nnohistochemical techniques have made it possible to usher lung cancer into the era of personalized medicine, with \\nthe patient getting individualized treatment based on these markers. This review summarizes the recent advances \\nin advanced NSCLC targeted therapy, focusing on first-in-human and early phase I/II clinical trials in patients with \\nadvanced disease. We have divided our discussion into different topics based on these agents’ mechanisms of action. \\nThis article is aimed to be the most current review of available and upcoming targeted NSCLC treatment options. We \\nwill also summarize the currently available phase I/II clinical trial for NSCLC patients at the end of each section.\\nKeywords: Advanced NSCLC, Targeted therapy, Phase I/II clinical trials, First-in-human, Lung cancer\\n© The Author(s) 2021. Open Access This article is licensed under a Creative Commons Attribution 4.0 International License, which \\npermits use, sharing, adaptation, distribution and reproduction in any medium or format, as long as you give appropriate credit to the \\noriginal author(s) and the source, provide a link to the Creative Commons licence, and indicate if changes were made. The images or \\nother third party material in this article are included in the article’s Creative Commons licence, unless indicated otherwise in a credit line \\nto the material. If material is not included in the article’s Creative Commons licence and your intended use is not permitted by statutory \\nregulation or exceeds the permitted use, you will need to obtain permission directly from the copyright holder. To view a copy of this \\nlicence, visit http:// creat iveco mmons. org/ licen ses/ by/4. 0/. The Creative Commons Public Domain Dedication waiver (http:// creat iveco  \\nmmons. org/ publi cdoma in/ zero/1. 0/) applies to the data made available in this article, unless otherwise stated in a credit line to the data.Background\\nLung cancer remains the number one cause of cancer-\\nrelated death worldwide. Overall, lung cancer causes \\nmore deaths than breast, prostate, colorectal, and brain \\ncancers combined [1]. In 2021, an estimated 235,760 \\nnew lung cancer cases will be diagnosed in the US, and \\n131,880 people will die from this disease [2]. Non-small \\ncell lung cancer (NSCLC) is the most common type of \\nlung cancer, accounting for more than two-thirds of the \\ncases, with most patients (84%) having advance disease at \\nthe time of diagnosis [3]. Identification of targetable alter -\\nation (i.e., EGFR, ALK, PI3K/AKT/mTOR, RAS-MAPK, \\nRET, MET, BRAF, and NTRK/ROS1) in patients with \\nadvanced NSCLC has evolved its treatment paradigm [4]. \\nThe approval and adoption of agents targeting these alter -\\nations has contributed to the decline in incidence-based \\nmortality from 35% among men with NSCLC diagnosed \\nin 2001 to 26% among those diagnosed in 2014. Similar patterns have been found among women with NSCLC \\n[5]. Despite these new therapeutic options for patients \\nwith advanced NSCLC, there continues to be significant \\nchallenges as resistance development and disease pro -\\ngression occurs in most of these patients [6]. This has led \\nto research in identifying drugs that can overcome these \\nresistance pathways. Next-generation sequencing, which \\ncan be performed on the tumor tissue and circulating \\ntumor DNA (ctDNA) in the blood, is now the standard', metadata={'page': 0.0, 'source': '.saved_pdfs/10.1186_s13045-021-01121-2.pdf', 'title': 'targeted therapy advanced nonsmall cell lung cancer current advances future trends'}), Document(page_content='resistance pathways. Next-generation sequencing, which \\ncan be performed on the tumor tissue and circulating \\ntumor DNA (ctDNA) in the blood, is now the standard \\nof care for all patients with advanced NSCLC [7]. It helps \\nin the rapid identification of actionable mutations and \\nresistance mechanisms.\\nIn this review after highlighting the different driver \\ngenomic alterations and their relative frequencies in \\nadvanced NSCLC we summarize the clinical efficacy and \\nsafety of FDA approved targeted therapies. We then dis -\\ncuss the recently published data on the first-in-human \\nclinical trials and some of the most promising drugs in \\nthe pipeline for this disease. Literature was searched \\nfor first-in-human, phase I and phase II clinical tri -\\nals in NSCLC using PubMed, Google Scholar, and the \\nAmerican Society of Clinical Oncology (ASCO) meeting \\nabstracts. Each study was individually reviewed, and data Open Access\\n*Correspondence:  lou.yanyan@mayo.edu\\nDivision of Hematology and Medical Oncology, Mayo Clinic, 4500 San \\nPablo Rd, Jacksonville, FL 32224, USA', metadata={'page': 0.0, 'source': '.saved_pdfs/10.1186_s13045-021-01121-2.pdf', 'title': 'targeted therapy advanced nonsmall cell lung cancer current advances future trends'}), Document(page_content='Page 14 of 20 Majeed\\xa0et\\xa0al. J Hematol Oncol          (2021) 14:108 \\ndocetaxel in previously treated advanced or metastatic \\nnon-small cell lung cancer (NSCLC) without actionable \\ngenomic alterations (TROPION-Lung01) is currently \\nalso underway (NCT04656652) [106].\\nMGC018 is an investigational ADC with a Duo -\\ncarmycin payload linked to an anti-B7-H3 mAB. It is \\nhypothesized that MGC018 has activity against B7-H3 \\nexpressing tumors (NCT03729596) [107].\\xa0Table\\xa0 11 sum -\\nmarizes the ongoing phase I/II clinical trials involv -\\ning\\xa0ADC in patients with advanced NSCLC.\\nPI3K/AKT/mTORC inhibitors\\nThe PI3K/AKT/mTOR pathway has been heavily impli -\\ncated in both tumorigenesis and progression of disease \\nin NSCLC. In a study, 1144 patients with NSCLC under -\\nwent next generation sequencing for PI3KCA mutations. \\nMutations were identified in 3.7% of the patients [108]. \\nNon-small cell lung squamous cell carcinoma (8.9%) \\nwere more likely to be have these mutations when com -\\npared with adenocarcinoma (2.9%). On the other hand upregulation of mTOR pathway is seen in up to 90% of \\nthe patients with NSCLC adenocarcinoma compared to \\n40% of the patients with squamous cell carcinoma [109]. \\nS6K and 4E-BP1 are the downstream products of mTOR \\nactivation. These have also been identified in up to 58% \\nand 25% of NSCLC specimens respectively [110]. It is \\nalso postulated that in patients with an EGFR mutant \\nNSCLC, the AKT/mTOR pathway is constitutively acti -\\nvated in 67% of cases [111].\\nSapanisertib (TAK228) is an oral TORC1/2 inhibitor. In \\na phase II trial with stage IV squamous NSCLC patients, \\nit showed differential activity in NFE2L2 (ORR of 20%) \\nand KEAP1(ORR of 17%) mutant patients [112]. Most \\ncommon AEs included hyperglycemia (72%), fatigue \\n(32%), diarrhea (32%), decreased appetite (32%).\\nSirolimus binds to FKBP-12, an intracellular protein, \\nto form an immunosuppressive complex which inhib -\\nits mTOR [113]. It is being studied in a phase I/II trial \\nNCT01737502 with auranofin (gold salt) in advanced or \\nrecurrent NSCLC patients without standard treatment Table 11 Current ongoing early phase I/II trials with ADC\\nADC\\nDrug name Mechanism of action Clinical trial (phase) Study design Disease\\nCAB-ROR2-ADC Anti-ROR2 ADC NCT03504488 (1/2) Monotherapy Advanced solid tumors includ-\\ning NSCLC\\nCofetuzumab Pelidotin PTK7 ADC NCT04189614 (1b) Monotherapy PTK7-expressing recurrent \\nNSCLC\\nDS-1062a ADC targeting TROP2 NCT04612751 (1) Combination with Durvalumab Advanced NSCLC with progres-\\nsion on chemotherapy and \\nimmunotherapy\\nMGC018 ADC delivers Duocarmycin NCT03729596 (1/2) Monotherapy and combina-\\ntion with MGA012 (anti-PD1Advanced solid tumors includ-\\ning NSCLC\\nU3-1402 (Patritumab derux -\\ntecan)Drug (MAAA-1181a) linked \\nto AB (Patritumab)NCT03260491 (1) Monotherapy Advanced NSCLC with acquired \\nresistance to EGFR TKI\\nTable 12 Current ongoing early phase I/II trials with mTOR/PI3K inhibitors\\nmTOR/PI3K pathway Inhibitors\\nDrug name Mechanism of action Clinical trial (Phase) Study design Disease\\nGedatolisib (PF-05212384) pan-PI3K/mTOR inhibitor NCT03065062 (1) Combination with Palbociclib Advanced tumors including \\nsquamous NSCLC\\nIdelalisib PI3K inhibitor NCT03257722 (1) Combination with Pembroli-\\nzumabAdvanced NSCLC with progres-\\nsion on first line therapy\\nNab Rapamycin (ABI-009) mTOR inhibitor NCT03190174 (1/2) Combination with Nivolumab Advanced solid tumors includ-\\ning NSCLC\\nRMC-5552 bi-steric mTORC1-selective \\ninhibitorNCT04774952 (1/1b) Monotherapy Advanced solid tumors includ-\\ning NSCLC\\nSapanisertib mTORC1/mTORC2 inhibitor NCT02417701 (2) Monotherapy KRAS mutant NSCLC with KEAP1 \\nmutation\\nSirolimus mTOR inhibitor NCT01737502 (1/2) Combination with Auranofin Advanced or Recurrent Lung \\nCancer', metadata={'page': 13.0, 'source': '.saved_pdfs/10.1186_s13045-021-01121-2.pdf', 'title': 'targeted therapy advanced nonsmall cell lung cancer current advances future trends'})]\u001b[0m\u001b[32;1m\u001b[1;3mRelevant Documents: 0,1,2\n",
      "Cited Documents: 0,1,2\n",
      "Answer: The paper discusses non-small cell lung cancer (NSCLC).\n",
      "Grounded answer: The paper discusses <co: 0,1,2>non-small cell lung cancer</co: 0,1,2> <co: 0,1,2>(NSCLC</co: 0,1,2>).\u001b[0m\n",
      "\n",
      "\u001b[1m> Finished chain.\u001b[0m\n",
      "The paper discusses non-small cell lung cancer (NSCLC).\n"
     ]
    }
   ],
   "source": [
    "response = agent_with_chat_history.invoke(\n",
    "    {\"input\": \"What disease are they discussing in the paper '{}'?\".format(title)},\n",
    "    config={\"configurable\": {\"session_id\": \"<foo>\"}},\n",
    ")\n",
    "print(response['output'])"
   ]
  },
  {
   "cell_type": "code",
   "execution_count": 8,
   "metadata": {},
   "outputs": [
    {
     "name": "stderr",
     "output_type": "stream",
     "text": [
      "Parent run f60c5b58-78ad-4aa5-9bca-bfad2191428f not found for run 0c785632-1948-4d24-87a0-d1900d600254. Treating as a root run.\n"
     ]
    },
    {
     "name": "stdout",
     "output_type": "stream",
     "text": [
      "\n",
      "\n",
      "\u001b[1m> Entering new AgentExecutor chain...\u001b[0m\n",
      "\u001b[32;1m\u001b[1;3m\n",
      "I will read the paper and summarise its main points.\n",
      "{'tool_name': 'query_vector_db_articles', 'parameters': {'query': 'Targeted therapy in advanced non-small cell lung cancer: current advances and future trends.', 'metadata': {'title': 'Targeted therapy in advanced non-small cell lung cancer: current advances and future trends.'}}}\n",
      "\u001b[0m\u001b[36;1m\u001b[1;3m[Document(page_content='Majeed\\xa0 et\\xa0al. J Hematol Oncol          (2021) 14:108  \\nhttps://doi.org/10.1186/s13045-021-01121-2\\nREVIEW\\nTargeted therapy in\\xa0advanced non-small cell \\nlung cancer: current advances and\\xa0future trends\\nUmair Majeed, Rami Manochakian, Yujie Zhao and Yanyan Lou*  \\nAbstract \\nLung cancer remains the leading cause of cancer-related mortality in both men and women in the US and worldwide. \\nNon-small cell lung cancer is the most common variety accounting for 84% of the cases. For a subset of patients with \\nactionable mutations, targeted therapy continues to provide durable responses. Advances in molecular and immu-\\nnohistochemical techniques have made it possible to usher lung cancer into the era of personalized medicine, with \\nthe patient getting individualized treatment based on these markers. This review summarizes the recent advances \\nin advanced NSCLC targeted therapy, focusing on first-in-human and early phase I/II clinical trials in patients with \\nadvanced disease. We have divided our discussion into different topics based on these agents’ mechanisms of action. \\nThis article is aimed to be the most current review of available and upcoming targeted NSCLC treatment options. We \\nwill also summarize the currently available phase I/II clinical trial for NSCLC patients at the end of each section.\\nKeywords: Advanced NSCLC, Targeted therapy, Phase I/II clinical trials, First-in-human, Lung cancer\\n© The Author(s) 2021. Open Access This article is licensed under a Creative Commons Attribution 4.0 International License, which \\npermits use, sharing, adaptation, distribution and reproduction in any medium or format, as long as you give appropriate credit to the \\noriginal author(s) and the source, provide a link to the Creative Commons licence, and indicate if changes were made. The images or \\nother third party material in this article are included in the article’s Creative Commons licence, unless indicated otherwise in a credit line \\nto the material. If material is not included in the article’s Creative Commons licence and your intended use is not permitted by statutory \\nregulation or exceeds the permitted use, you will need to obtain permission directly from the copyright holder. To view a copy of this \\nlicence, visit http:// creat iveco mmons. org/ licen ses/ by/4. 0/. The Creative Commons Public Domain Dedication waiver (http:// creat iveco  \\nmmons. org/ publi cdoma in/ zero/1. 0/) applies to the data made available in this article, unless otherwise stated in a credit line to the data.Background\\nLung cancer remains the number one cause of cancer-\\nrelated death worldwide. Overall, lung cancer causes \\nmore deaths than breast, prostate, colorectal, and brain \\ncancers combined [1]. In 2021, an estimated 235,760 \\nnew lung cancer cases will be diagnosed in the US, and \\n131,880 people will die from this disease [2]. Non-small \\ncell lung cancer (NSCLC) is the most common type of \\nlung cancer, accounting for more than two-thirds of the \\ncases, with most patients (84%) having advance disease at \\nthe time of diagnosis [3]. Identification of targetable alter -\\nation (i.e., EGFR, ALK, PI3K/AKT/mTOR, RAS-MAPK, \\nRET, MET, BRAF, and NTRK/ROS1) in patients with \\nadvanced NSCLC has evolved its treatment paradigm [4]. \\nThe approval and adoption of agents targeting these alter -\\nations has contributed to the decline in incidence-based \\nmortality from 35% among men with NSCLC diagnosed \\nin 2001 to 26% among those diagnosed in 2014. Similar patterns have been found among women with NSCLC \\n[5]. Despite these new therapeutic options for patients \\nwith advanced NSCLC, there continues to be significant \\nchallenges as resistance development and disease pro -\\ngression occurs in most of these patients [6]. This has led \\nto research in identifying drugs that can overcome these \\nresistance pathways. Next-generation sequencing, which \\ncan be performed on the tumor tissue and circulating \\ntumor DNA (ctDNA) in the blood, is now the standard', metadata={'page': 0.0, 'source': '.saved_pdfs/10.1186_s13045-021-01121-2.pdf', 'title': 'targeted therapy advanced nonsmall cell lung cancer current advances future trends'}), Document(page_content='resistance pathways. Next-generation sequencing, which \\ncan be performed on the tumor tissue and circulating \\ntumor DNA (ctDNA) in the blood, is now the standard \\nof care for all patients with advanced NSCLC [7]. It helps \\nin the rapid identification of actionable mutations and \\nresistance mechanisms.\\nIn this review after highlighting the different driver \\ngenomic alterations and their relative frequencies in \\nadvanced NSCLC we summarize the clinical efficacy and \\nsafety of FDA approved targeted therapies. We then dis -\\ncuss the recently published data on the first-in-human \\nclinical trials and some of the most promising drugs in \\nthe pipeline for this disease. Literature was searched \\nfor first-in-human, phase I and phase II clinical tri -\\nals in NSCLC using PubMed, Google Scholar, and the \\nAmerican Society of Clinical Oncology (ASCO) meeting \\nabstracts. Each study was individually reviewed, and data Open Access\\n*Correspondence:  lou.yanyan@mayo.edu\\nDivision of Hematology and Medical Oncology, Mayo Clinic, 4500 San \\nPablo Rd, Jacksonville, FL 32224, USA', metadata={'page': 0.0, 'source': '.saved_pdfs/10.1186_s13045-021-01121-2.pdf', 'title': 'targeted therapy advanced nonsmall cell lung cancer current advances future trends'}), Document(page_content='Page 14 of 20 Majeed\\xa0et\\xa0al. J Hematol Oncol          (2021) 14:108 \\ndocetaxel in previously treated advanced or metastatic \\nnon-small cell lung cancer (NSCLC) without actionable \\ngenomic alterations (TROPION-Lung01) is currently \\nalso underway (NCT04656652) [106].\\nMGC018 is an investigational ADC with a Duo -\\ncarmycin payload linked to an anti-B7-H3 mAB. It is \\nhypothesized that MGC018 has activity against B7-H3 \\nexpressing tumors (NCT03729596) [107].\\xa0Table\\xa0 11 sum -\\nmarizes the ongoing phase I/II clinical trials involv -\\ning\\xa0ADC in patients with advanced NSCLC.\\nPI3K/AKT/mTORC inhibitors\\nThe PI3K/AKT/mTOR pathway has been heavily impli -\\ncated in both tumorigenesis and progression of disease \\nin NSCLC. In a study, 1144 patients with NSCLC under -\\nwent next generation sequencing for PI3KCA mutations. \\nMutations were identified in 3.7% of the patients [108]. \\nNon-small cell lung squamous cell carcinoma (8.9%) \\nwere more likely to be have these mutations when com -\\npared with adenocarcinoma (2.9%). On the other hand upregulation of mTOR pathway is seen in up to 90% of \\nthe patients with NSCLC adenocarcinoma compared to \\n40% of the patients with squamous cell carcinoma [109]. \\nS6K and 4E-BP1 are the downstream products of mTOR \\nactivation. These have also been identified in up to 58% \\nand 25% of NSCLC specimens respectively [110]. It is \\nalso postulated that in patients with an EGFR mutant \\nNSCLC, the AKT/mTOR pathway is constitutively acti -\\nvated in 67% of cases [111].\\nSapanisertib (TAK228) is an oral TORC1/2 inhibitor. In \\na phase II trial with stage IV squamous NSCLC patients, \\nit showed differential activity in NFE2L2 (ORR of 20%) \\nand KEAP1(ORR of 17%) mutant patients [112]. Most \\ncommon AEs included hyperglycemia (72%), fatigue \\n(32%), diarrhea (32%), decreased appetite (32%).\\nSirolimus binds to FKBP-12, an intracellular protein, \\nto form an immunosuppressive complex which inhib -\\nits mTOR [113]. It is being studied in a phase I/II trial \\nNCT01737502 with auranofin (gold salt) in advanced or \\nrecurrent NSCLC patients without standard treatment Table 11 Current ongoing early phase I/II trials with ADC\\nADC\\nDrug name Mechanism of action Clinical trial (phase) Study design Disease\\nCAB-ROR2-ADC Anti-ROR2 ADC NCT03504488 (1/2) Monotherapy Advanced solid tumors includ-\\ning NSCLC\\nCofetuzumab Pelidotin PTK7 ADC NCT04189614 (1b) Monotherapy PTK7-expressing recurrent \\nNSCLC\\nDS-1062a ADC targeting TROP2 NCT04612751 (1) Combination with Durvalumab Advanced NSCLC with progres-\\nsion on chemotherapy and \\nimmunotherapy\\nMGC018 ADC delivers Duocarmycin NCT03729596 (1/2) Monotherapy and combina-\\ntion with MGA012 (anti-PD1Advanced solid tumors includ-\\ning NSCLC\\nU3-1402 (Patritumab derux -\\ntecan)Drug (MAAA-1181a) linked \\nto AB (Patritumab)NCT03260491 (1) Monotherapy Advanced NSCLC with acquired \\nresistance to EGFR TKI\\nTable 12 Current ongoing early phase I/II trials with mTOR/PI3K inhibitors\\nmTOR/PI3K pathway Inhibitors\\nDrug name Mechanism of action Clinical trial (Phase) Study design Disease\\nGedatolisib (PF-05212384) pan-PI3K/mTOR inhibitor NCT03065062 (1) Combination with Palbociclib Advanced tumors including \\nsquamous NSCLC\\nIdelalisib PI3K inhibitor NCT03257722 (1) Combination with Pembroli-\\nzumabAdvanced NSCLC with progres-\\nsion on first line therapy\\nNab Rapamycin (ABI-009) mTOR inhibitor NCT03190174 (1/2) Combination with Nivolumab Advanced solid tumors includ-\\ning NSCLC\\nRMC-5552 bi-steric mTORC1-selective \\ninhibitorNCT04774952 (1/1b) Monotherapy Advanced solid tumors includ-\\ning NSCLC\\nSapanisertib mTORC1/mTORC2 inhibitor NCT02417701 (2) Monotherapy KRAS mutant NSCLC with KEAP1 \\nmutation\\nSirolimus mTOR inhibitor NCT01737502 (1/2) Combination with Auranofin Advanced or Recurrent Lung \\nCancer', metadata={'page': 13.0, 'source': '.saved_pdfs/10.1186_s13045-021-01121-2.pdf', 'title': 'targeted therapy advanced nonsmall cell lung cancer current advances future trends'})]\u001b[0m\u001b[32;1m\u001b[1;3mRelevant Documents: 0,1,2\n",
      "Cited Documents: 0,1,2\n",
      "Answer: Lung cancer is the leading cause of cancer-related mortality in the US and worldwide. Non-small cell lung cancer (NSCLC) is the most common variety, accounting for 84% of lung cancer cases. \n",
      "\n",
      "Targeted therapy has been providing durable responses for a subset of patients with actionable mutations. Advances in molecular and immunohistochemical techniques have made it possible to usher lung cancer into the era of personalised medicine, with the patient getting individualised treatment based on these markers. \n",
      "\n",
      "The review summarises recent advances in advanced NSCLC targeted therapy, focusing on first-in-human and early phase I/II clinical trials in patients with advanced disease. It also summarises the currently available phase I/II clinical trials for NSCLC patients. \n",
      "\n",
      "The approval and adoption of agents targeting alterations such as EGFR, ALK, PI3K/AKT/mTOR, RAS-MAPK, RET, MET, BRAF, and NTRK/ROS1 have contributed to the decline in incidence-based mortality from NSCLC. Despite these new therapeutic options, there continue to be significant challenges as resistance development and disease progression occur in most of these patients. \n",
      "\n",
      "Next-generation sequencing, which can be performed on the tumour tissue and circulating tumour DNA (ctDNA) in the blood, is now the standard of care for all patients with advanced NSCLC. It helps in the rapid identification of actionable mutations and resistance mechanisms. \n",
      "\n",
      "The review highlights the different driver genomic alterations and their relative frequencies in advanced NSCLC, and summarises the clinical efficacy and safety of FDA-approved targeted therapies. It also discusses the recently published data on the first-in-human clinical trials and some of the most promising drugs in the pipeline for this disease.\n",
      "Grounded answer: <co: 0>Lung cancer</co: 0> is the <co: 0>leading cause of cancer-related mortality in the US and worldwide</co: 0>. <co: 0>Non-small cell lung cancer</co: 0> <co: 0>(NSCLC</co: 0>) is the <co: 0>most common variety</co: 0>, accounting for <co: 0>84% of lung cancer cases</co: 0>. \n",
      "\n",
      "<co: 0>Targeted therapy</co: 0> has been providing <co: 0>durable responses</co: 0> for a <co: 0>subset of patients with actionable mutations</co: 0>. <co: 0>Advances in molecular and immunohistochemical techniques</co: 0> have made it possible to <co: 0>usher lung cancer into the era of personalised medicine</co: 0>, with the <co: 0>patient getting individualised treatment based on these markers</co: 0>. \n",
      "\n",
      "The review <co: 0>summarises recent advances in advanced NSCLC targeted therapy</co: 0>, focusing on <co: 0>first-in-human and early phase I/II clinical trials in patients with advanced disease</co: 0>. It also <co: 0>summarises the currently available phase I/II clinical trials for NSCLC patients</co: 0>. \n",
      "\n",
      "The <co: 0>approval and adoption of agents targeting alterations</co: 0> such as <co: 0>EGFR, ALK, PI3K/AKT/mTOR, RAS-MAPK, RET, MET, BRAF, and NTRK/ROS1</co: 0> have <co: 0>contributed to the decline in incidence-based mortality from NSCLC</co: 0>. Despite these <co: 0>new therapeutic options</co: 0>, there continue to be <co: 0>significant challenges as resistance development and disease progression occur in most of these patients</co: 0>. \n",
      "\n",
      "<co: 1>Next-generation sequencing</co: 1>, which can be <co: 1>performed on the tumour tissue and circulating tumour DNA (ctDNA) in the blood</co: 1>, is now the <co: 1>standard of care for all patients with advanced NSCLC</co: 1>. It helps in the <co: 1>rapid identification of actionable mutations and resistance mechanisms</co: 1>. \n",
      "\n",
      "The review <co: 1>highlights the different driver genomic alterations and their relative frequencies in advanced NSCLC</co: 1>, and <co: 1>summarises the clinical efficacy and safety of FDA-approved targeted therapies</co: 1>. It also <co: 1>discusses the recently published data on the first-in-human clinical trials</co: 1> and some of the <co: 1>most promising drugs in the pipeline for this disease</co: 1>.\u001b[0m\n",
      "\n",
      "\u001b[1m> Finished chain.\u001b[0m\n",
      "Lung cancer is the leading cause of cancer-related mortality in the US and worldwide. Non-small cell lung cancer (NSCLC) is the most common variety, accounting for 84% of lung cancer cases. \n",
      "\n",
      "Targeted therapy has been providing durable responses for a subset of patients with actionable mutations. Advances in molecular and immunohistochemical techniques have made it possible to usher lung cancer into the era of personalised medicine, with the patient getting individualised treatment based on these markers. \n",
      "\n",
      "The review summarises recent advances in advanced NSCLC targeted therapy, focusing on first-in-human and early phase I/II clinical trials in patients with advanced disease. It also summarises the currently available phase I/II clinical trials for NSCLC patients. \n",
      "\n",
      "The approval and adoption of agents targeting alterations such as EGFR, ALK, PI3K/AKT/mTOR, RAS-MAPK, RET, MET, BRAF, and NTRK/ROS1 have contributed to the decline in incidence-based mortality from NSCLC. Despite these new therapeutic options, there continue to be significant challenges as resistance development and disease progression occur in most of these patients. \n",
      "\n",
      "Next-generation sequencing, which can be performed on the tumour tissue and circulating tumour DNA (ctDNA) in the blood, is now the standard of care for all patients with advanced NSCLC. It helps in the rapid identification of actionable mutations and resistance mechanisms. \n",
      "\n",
      "The review highlights the different driver genomic alterations and their relative frequencies in advanced NSCLC, and summarises the clinical efficacy and safety of FDA-approved targeted therapies. It also discusses the recently published data on the first-in-human clinical trials and some of the most promising drugs in the pipeline for this disease.\n"
     ]
    }
   ],
   "source": [
    "response = agent_with_chat_history.invoke(\n",
    "    {\"input\": \"Summarize the main takeaways from the paper.\"},\n",
    "    config={\"configurable\": {\"session_id\": \"<foo>\"}},\n",
    ")\n",
    "print(response['output'])"
   ]
  },
  {
   "cell_type": "code",
   "execution_count": 9,
   "metadata": {},
   "outputs": [
    {
     "name": "stderr",
     "output_type": "stream",
     "text": [
      "Parent run 2ebd8d23-08af-4595-ac6d-f24f4f40c303 not found for run 22487288-6b05-4361-a8bd-d876e93a0d9c. Treating as a root run.\n"
     ]
    },
    {
     "name": "stdout",
     "output_type": "stream",
     "text": [
      "\n",
      "\n",
      "\u001b[1m> Entering new AgentExecutor chain...\u001b[0m\n",
      "\u001b[32;1m\u001b[1;3m\n",
      "I will read the paper to find the protein targets mentioned.\n",
      "{'tool_name': 'query_vector_db_articles', 'parameters': {'query': 'protein targets', 'metadata': {'title': 'Targeted therapy in advanced non-small cell lung cancer: current advances and future trends.'}}}\n",
      "\u001b[0m\u001b[36;1m\u001b[1;3m[Document(page_content='Page 20 of 20 Majeed\\xa0et\\xa0al. J Hematol Oncol          (2021) 14:108 \\n•\\n fast, convenient online submission\\n •\\n  thorough peer review by experienced researchers in your ﬁeld\\n• \\n rapid publication on acceptance\\n• \\n support for research data, including large and complex data types\\n•\\n  gold Open Access which fosters wider collaboration and increased citations \\n maximum visibility for your research: over 100M website views per year •\\n  At BMC, research is always in progress.\\nLearn more biomedcentral.com/submissionsReady to submit y our researc h Ready to submit y our researc h  ?  Choose BMC and benefit fr om: ?  Choose BMC and benefit fr om: \\ninhibitor-resistant, EGFR-mutated (EGFRm) non-small cell lung cancer \\n(NSCLC). J Clin Oncol. 2021;39(15_suppl):9007.\\n 101. Schaefer ES, Camidge DR, Yoh K, Zer A, Hernandez Guerrero T, Bar \\nJ, et al. A phase 1b, open-label, single-arm study of cofetuzumab \\npelidotin (a PTK7-targeting antibody-drug conjugate) in patients with \\nPTK7-expressing, recurrent non-small cell lung cancer (NSCLC). J Clin \\nOncol. 2021;39(15_suppl):TPS3142-TPS.\\n 102. Damelin M, Bankovich A, Bernstein J, Lucas J, Chen L, Williams S, et al. \\nA PTK7-targeted antibody-drug conjugate reduces tumor-initiating \\ncells and induces sustained tumor regressions. Sci Transl Med. \\n2017;9(372):eaag2611.\\n 103. Sachdev JC, Maitland ML, Sharma M, Moreno V, Boni V, Kummar S, et al. \\nPF-06647020 (PF-7020), an antibody-drug conjugate (ADC) targeting \\nprotein tyrosine kinase 7 (PTK7), in patients (pts) with advanced solid \\ntumors: Results of a phase I dose escalation and expansion study. J Clin \\nOncol. 2018;36(15_suppl):5565.\\n 104. Gazzah A, Ricordel C, Cousin S, Cho BC, Calvo E, Kim TM, et al. Efficacy \\nand safety of the antibody-drug conjugate (ADC) SAR408701 in \\npatients (pts) with non-squamous non-small cell lung cancer (NSQ \\nNSCLC) expressing carcinoembryonic antigen-related cell adhesion \\nmolecule 5 (CEACAM5). J Clin Oncol. 2020;38(15_suppl):9505.\\n 105. Spira A, Lisberg A, Sands J, Greenberg J, Phillips P , Guevara F, et al. \\nOA03.03 datopotamab deruxtecan (Dato-DXd; DS-1062), a TROP2 ADC, \\nin patients with advanced NSCLC: updated results of TROPION-PanTu-\\nmor01 phase 1 study. J Thorac Oncol. 2021;16(3, Supplement):S106–7.\\n 106. Yoh K, Goto Y, Thomas M, Spira AI, Sands J, Johnson ML, et al. A \\nrandomized, phase 3 study of datopotamab deruxtecan (Dato-DXd; \\nDS-1062) versus docetaxel in previously treated advanced or metastatic \\nnon-small cell lung cancer (NSCLC) without actionable genomic altera-\\ntions (TROPION-Lung01). J Clin Oncol. 2021;39(15_suppl):TPS9127-TPS.\\n 107. Powderly JD, Jang S, Lohr J, Spira AI, Bohac GC, Sharma M. Prelimi-\\nnary dose escalation results from a phase I/II, first-in-human study \\nof MGC018 (anti-B7-H3 antibody-drug conjugate) in patients with \\nadvanced solid tumors. J Clin Oncol. 2020;38(15_suppl):3071.\\n 108. Scheffler M, Bos M, Gardizi M, König K, Michels S, Fassunke J, et al. \\nPIK3CA mutations in non-small cell lung cancer (NSCLC): genetic \\nheterogeneity, prognostic impact and incidence of prior malignancies. \\nOncotarget. 2015;6(2):1315–26.\\n 109. Dobashi Y, Suzuki S, Matsubara H, Kimura M, Endo S, Ooi A. Critical and \\ndiverse involvement of Akt/mammalian target of rapamycin signaling \\nin human lung carcinomas. Cancer. 2009;115(1):107–18.\\n 110. Dobashi Y, Watanabe Y, Miwa C, Suzuki S, Koyama S. Mammalian target \\nof rapamycin: a central node of complex signaling cascades. Int J Clin \\nExp Pathol. 2011;4(5):476–95. 111. Dobashi Y, Koyama S, Kanai Y, Tetsuka K. Kinase-driven pathways of \\nEGFR in lung carcinomas: perspectives on targeting therapy. Front \\nBiosci (Landmark Ed). 2011;16:1714–32.\\n 112. Paik PK, Ahn LSH, Plodkowski AJ, Fan P-D, Rudin CM. Phase II study \\nof TAK228 in patients with advanced non-small cell lung cancer \\n(NSCLC) harboring NFE2L2 and KEAP1 mutations. J Clin Oncol. \\n2020;38(15_suppl):9607.\\n 113. Yoo YJ, Kim H, Park SR, Yoon YJ. An overview of rapamycin: from', metadata={'page': 19.0, 'source': '.saved_pdfs/10.1186_s13045-021-01121-2.pdf', 'title': 'targeted therapy advanced nonsmall cell lung cancer current advances future trends'}), Document(page_content='Page 15 of 20\\n Majeed\\xa0et\\xa0al. J Hematol Oncol          (2021) 14:108 \\n \\nTable 13 Current ongoing early phase I/II trials with miscellaneous target inhibitors\\nDrug name Mechanism of action Clinical trial (phase) Study design Disease\\nERBB2(HER2) inhibitors\\nAdo-trastuzumab emtansine HER2-targeted antibody–drug \\nconjugateNCT03784599 (1/2) Combination with osimertinib EGFR mutant advanced NSCLC\\nMobocertinib (TAk-788) TKI targeting EGFR ex20ins \\nmutationsNCT02716116 (1/2) Combination with chemo -\\ntherapyEGFR and HER2 exon 20 inser -\\ntion in advanced NSCLC\\nPoziotinib EGFR, HER2 and HER 4 inhibi-\\ntorsNCT03066206 (2) Monotherapy EGFR exon 20 and HER2 exon 20 \\nmutated advanced NSCLC\\ntrastuzumab deruxtecan HER2-directed antibody–drug \\nconjugateNCT04644237 (2) Monotherapy HER2 mutated advanced NSCLC\\nSHP2 inhibitors\\nJAB-3068 SHP2 inhibitor NCT03518554 (1) Monotherapy Advanced solid tumors includ-\\ning NSCLC\\nTNO155 SHP2 inhibitor NCT03114319 (1) Monotherapy and combina-\\ntion with NazartinibAdvanced solid tumors includ-\\ning NSCLC\\nOther miscellaneous target inhibitors\\nAliseritib Selective aurora A kinase \\ninhibitorNCT04085315 (1/2) Combination with Osimertinib EGFR mutant NSCLC progress-\\ning after first line TKI\\nAnlotinib VEGFR, FGFR, PDGFR, c-kit \\nInhibitorNCT04165330 (1/2) Combination with Nivolumab Solid tumors including NSCLC\\nApatinib VEGFR-2 Inhibitor NCT03811054 (2) Combination with EGFR-TKI EGFR mutant NSCLC progress-\\ning after first line TKI\\nAPG-1252 Small molecule inhibitor of \\nBCL2NCT04001777 (1) Monotherapy and combina-\\ntion with OsimertinibEGFR mutant NSCLC\\nBMS-986205 IDO1 inhibitor NCT02658890 (1/2) Combination with Nivolumab \\nand IpilimumabAdvanced solid tumors includ-\\ning NSCLC\\nEprenetapopt (Apr-246) Stabilizes p53 in normal, \\nfunctional structureNCT04383938 (1/2) Combination with Pembroli-\\nzumabAdvanced solid tumors includ-\\ning NSCLC\\nHBI-8000 Histone deacetylase inhibitor NCT02718066 (1/2) Combination with Nivolumab Advanced NSCLC\\nIdelalisib PI3K inhibitor NCT03257722 (1/2) Combination with Pembroli-\\nzumabAdvanced NSCLC with progres-\\nsion on first line therapy\\nIRX4204 Rexinoid, potent activator of \\nRXRsNCT02991651 (1) Monotherapy and combina-\\ntion with ErlotinibAdvanced NSCLC with progres-\\nsion on two lines of therapy\\nNC318 IgG1 mAB specific for S15 NCT03665285 (1/2) Monotherapy Advanced solid tumors includ-\\ning NSCLC\\nNingetinib (CT053PTSA) Multi kinase inhibitor MET/\\nHGFRNCT03758287 (1/2) Combination with Gefitinib NSCLC with EGFR mutation and \\nT790M negative\\nNintedanib PDGFR, FGFR, VEGFR inhibitor NCT03377023 (1/2) Combination with Nivolumab \\nand IpilimumabAdvanced or metastatic NSCLC\\nRGX-104 Liver X receptor agonist NCT02922764 (1) Monotherapy or in combina-\\ntion with immunotherapy or \\nchemotherapyAdvanced solid tumors includ-\\ning NSCLC\\nRucaparib PARP inhibitor NCT03845296 (2) Monotherapy Recurrent NSCLC\\nSelinexor Exportin 1 inhibitor NCT03095612 (1/2) Combination with docetaxel Advanced KRAS mutant NSCLC \\nwith progression on first line \\ntherapy\\nSelumetinib MAPK inhibitor NCT03392246 (2) Combination with Osimertinib Advanced EGFR mutant NSCLC\\nRamucirumab VEGFR2 antagonist NCT03909334 (2) Combination with Osimertinib EGFR mutant NSCLC\\nTelaglenastat HCL Glutaminase inhibitor NCT03831932 (1/2) Combination with Osimertinib Advanced EGFR mutant NSCLC\\nVarlilumab Anti CD27 antibody NCT04081688 (1) Combination with Atezoli-\\nzumabAdvanced NSCLC with progres-\\nsion on first line therapy\\nVorolanib VEGFR/PDGFR inhibitor NCT03583086 (1/2) Combination with Nivolumab Solid tumors including NSCLC\\nZN-c3 WEE1 inhibitor NCT04158336 (1/2) Combination with Talazoparib \\nor PembrolizumabAdvanced solid tumors includ-\\ning NSCLC\\nRBN-2397 PARP7 inhibitor NCT04053673 (1) Monotherapy Advanced solid tumors includ-\\ning NSCLC', metadata={'page': 14.0, 'source': '.saved_pdfs/10.1186_s13045-021-01121-2.pdf', 'title': 'targeted therapy advanced nonsmall cell lung cancer current advances future trends'}), Document(page_content='Majeed\\xa0 et\\xa0al. J Hematol Oncol          (2021) 14:108  \\nhttps://doi.org/10.1186/s13045-021-01121-2\\nREVIEW\\nTargeted therapy in\\xa0advanced non-small cell \\nlung cancer: current advances and\\xa0future trends\\nUmair Majeed, Rami Manochakian, Yujie Zhao and Yanyan Lou*  \\nAbstract \\nLung cancer remains the leading cause of cancer-related mortality in both men and women in the US and worldwide. \\nNon-small cell lung cancer is the most common variety accounting for 84% of the cases. For a subset of patients with \\nactionable mutations, targeted therapy continues to provide durable responses. Advances in molecular and immu-\\nnohistochemical techniques have made it possible to usher lung cancer into the era of personalized medicine, with \\nthe patient getting individualized treatment based on these markers. This review summarizes the recent advances \\nin advanced NSCLC targeted therapy, focusing on first-in-human and early phase I/II clinical trials in patients with \\nadvanced disease. We have divided our discussion into different topics based on these agents’ mechanisms of action. \\nThis article is aimed to be the most current review of available and upcoming targeted NSCLC treatment options. We \\nwill also summarize the currently available phase I/II clinical trial for NSCLC patients at the end of each section.\\nKeywords: Advanced NSCLC, Targeted therapy, Phase I/II clinical trials, First-in-human, Lung cancer\\n© The Author(s) 2021. Open Access This article is licensed under a Creative Commons Attribution 4.0 International License, which \\npermits use, sharing, adaptation, distribution and reproduction in any medium or format, as long as you give appropriate credit to the \\noriginal author(s) and the source, provide a link to the Creative Commons licence, and indicate if changes were made. The images or \\nother third party material in this article are included in the article’s Creative Commons licence, unless indicated otherwise in a credit line \\nto the material. If material is not included in the article’s Creative Commons licence and your intended use is not permitted by statutory \\nregulation or exceeds the permitted use, you will need to obtain permission directly from the copyright holder. To view a copy of this \\nlicence, visit http:// creat iveco mmons. org/ licen ses/ by/4. 0/. The Creative Commons Public Domain Dedication waiver (http:// creat iveco  \\nmmons. org/ publi cdoma in/ zero/1. 0/) applies to the data made available in this article, unless otherwise stated in a credit line to the data.Background\\nLung cancer remains the number one cause of cancer-\\nrelated death worldwide. Overall, lung cancer causes \\nmore deaths than breast, prostate, colorectal, and brain \\ncancers combined [1]. In 2021, an estimated 235,760 \\nnew lung cancer cases will be diagnosed in the US, and \\n131,880 people will die from this disease [2]. Non-small \\ncell lung cancer (NSCLC) is the most common type of \\nlung cancer, accounting for more than two-thirds of the \\ncases, with most patients (84%) having advance disease at \\nthe time of diagnosis [3]. Identification of targetable alter -\\nation (i.e., EGFR, ALK, PI3K/AKT/mTOR, RAS-MAPK, \\nRET, MET, BRAF, and NTRK/ROS1) in patients with \\nadvanced NSCLC has evolved its treatment paradigm [4]. \\nThe approval and adoption of agents targeting these alter -\\nations has contributed to the decline in incidence-based \\nmortality from 35% among men with NSCLC diagnosed \\nin 2001 to 26% among those diagnosed in 2014. Similar patterns have been found among women with NSCLC \\n[5]. Despite these new therapeutic options for patients \\nwith advanced NSCLC, there continues to be significant \\nchallenges as resistance development and disease pro -\\ngression occurs in most of these patients [6]. This has led \\nto research in identifying drugs that can overcome these \\nresistance pathways. Next-generation sequencing, which \\ncan be performed on the tumor tissue and circulating \\ntumor DNA (ctDNA) in the blood, is now the standard', metadata={'page': 0.0, 'source': '.saved_pdfs/10.1186_s13045-021-01121-2.pdf', 'title': 'targeted therapy advanced nonsmall cell lung cancer current advances future trends'})]\u001b[0m\u001b[32;1m\u001b[1;3mRelevant Documents: 0,1,2\n",
      "Cited Documents: 0,1,2\n",
      "Answer: The paper mentions the following protein targets:\n",
      "\n",
      "- EGFR\n",
      "- PTK7\n",
      "- TROP2\n",
      "- B7-H3\n",
      "- PIK3CA\n",
      "- Akt/mammalian target of rapamycin\n",
      "- NFE2L2\n",
      "- KEAP1\n",
      "- ERBB2(HER2)\n",
      "- SHP2\n",
      "- Aurora A\n",
      "- VEGFR\n",
      "- FGFR\n",
      "- PDGFR\n",
      "- c-kit\n",
      "- VEGFR-2\n",
      "- BCL2\n",
      "- IDO1\n",
      "- p53\n",
      "- RXRs\n",
      "- MET/HGFR\n",
      "- PARP\n",
      "- WEE1\n",
      "- PARP7\n",
      "Grounded answer: The paper mentions the following protein targets:\n",
      "\n",
      "- <co: 0,1,2>EGFR</co: 0,1,2>\n",
      "- <co: 0,1>PTK7</co: 0,1>\n",
      "- <co: 0>TROP2</co: 0>\n",
      "- <co: 0>B7-H3</co: 0>\n",
      "- <co: 0>PIK3CA</co: 0>\n",
      "- <co: 0>Akt/mammalian target of rapamycin</co: 0>\n",
      "- <co: 0>NFE2L2</co: 0>\n",
      "- <co: 0>KEAP1</co: 0>\n",
      "- <co: 1>ERBB2(HER2</co: 1>)\n",
      "- <co: 1>SHP2</co: 1>\n",
      "- <co: 1>Aurora A</co: 1>\n",
      "- <co: 1>VEGFR</co: 1>\n",
      "- <co: 1>FGFR</co: 1>\n",
      "- <co: 1>PDGFR</co: 1>\n",
      "- <co: 1>c-kit</co: 1>\n",
      "- <co: 1>VEGFR-2</co: 1>\n",
      "- <co: 1>BCL2</co: 1>\n",
      "- <co: 1>IDO1</co: 1>\n",
      "- <co: 1>p53</co: 1>\n",
      "- <co: 1>RXRs</co: 1>\n",
      "- <co: 1>MET/HGFR</co: 1>\n",
      "- <co: 1>PARP</co: 1>\n",
      "- <co: 1>WEE1</co: 1>\n",
      "- <co: 1>PARP7</co: 1>\u001b[0m\n",
      "\n",
      "\u001b[1m> Finished chain.\u001b[0m\n",
      "The paper mentions the following protein targets:\n",
      "\n",
      "- EGFR\n",
      "- PTK7\n",
      "- TROP2\n",
      "- B7-H3\n",
      "- PIK3CA\n",
      "- Akt/mammalian target of rapamycin\n",
      "- NFE2L2\n",
      "- KEAP1\n",
      "- ERBB2(HER2)\n",
      "- SHP2\n",
      "- Aurora A\n",
      "- VEGFR\n",
      "- FGFR\n",
      "- PDGFR\n",
      "- c-kit\n",
      "- VEGFR-2\n",
      "- BCL2\n",
      "- IDO1\n",
      "- p53\n",
      "- RXRs\n",
      "- MET/HGFR\n",
      "- PARP\n",
      "- WEE1\n",
      "- PARP7\n"
     ]
    }
   ],
   "source": [
    "response = agent_with_chat_history.invoke(\n",
    "    {\"input\": \"Can you list the protein targets they highlight in the paper?\"},\n",
    "    config={\"configurable\": {\"session_id\": \"<foo>\"}},\n",
    ")\n",
    "print(response['output'])\n"
   ]
  },
  {
   "cell_type": "code",
   "execution_count": 10,
   "metadata": {},
   "outputs": [
    {
     "name": "stderr",
     "output_type": "stream",
     "text": [
      "Parent run 2999926a-510c-4279-9787-94a56beb9a84 not found for run f8fd1716-7a8e-4b59-888c-a9d7a031c5d0. Treating as a root run.\n"
     ]
    },
    {
     "name": "stdout",
     "output_type": "stream",
     "text": [
      "\n",
      "\n",
      "\u001b[1m> Entering new AgentExecutor chain...\u001b[0m\n",
      "\u001b[32;1m\u001b[1;3m\n",
      "I will read the paper to find the small molecule drugs highlighted in it.\n",
      "{'tool_name': 'query_vector_db_articles', 'parameters': {'query': 'small molecule drugs', 'metadata': {'title': 'Targeted therapy in advanced non-small cell lung cancer: current advances and future trends.'}}}\n",
      "\u001b[0m\u001b[36;1m\u001b[1;3m[Document(page_content='Page 15 of 20\\n Majeed\\xa0et\\xa0al. J Hematol Oncol          (2021) 14:108 \\n \\nTable 13 Current ongoing early phase I/II trials with miscellaneous target inhibitors\\nDrug name Mechanism of action Clinical trial (phase) Study design Disease\\nERBB2(HER2) inhibitors\\nAdo-trastuzumab emtansine HER2-targeted antibody–drug \\nconjugateNCT03784599 (1/2) Combination with osimertinib EGFR mutant advanced NSCLC\\nMobocertinib (TAk-788) TKI targeting EGFR ex20ins \\nmutationsNCT02716116 (1/2) Combination with chemo -\\ntherapyEGFR and HER2 exon 20 inser -\\ntion in advanced NSCLC\\nPoziotinib EGFR, HER2 and HER 4 inhibi-\\ntorsNCT03066206 (2) Monotherapy EGFR exon 20 and HER2 exon 20 \\nmutated advanced NSCLC\\ntrastuzumab deruxtecan HER2-directed antibody–drug \\nconjugateNCT04644237 (2) Monotherapy HER2 mutated advanced NSCLC\\nSHP2 inhibitors\\nJAB-3068 SHP2 inhibitor NCT03518554 (1) Monotherapy Advanced solid tumors includ-\\ning NSCLC\\nTNO155 SHP2 inhibitor NCT03114319 (1) Monotherapy and combina-\\ntion with NazartinibAdvanced solid tumors includ-\\ning NSCLC\\nOther miscellaneous target inhibitors\\nAliseritib Selective aurora A kinase \\ninhibitorNCT04085315 (1/2) Combination with Osimertinib EGFR mutant NSCLC progress-\\ning after first line TKI\\nAnlotinib VEGFR, FGFR, PDGFR, c-kit \\nInhibitorNCT04165330 (1/2) Combination with Nivolumab Solid tumors including NSCLC\\nApatinib VEGFR-2 Inhibitor NCT03811054 (2) Combination with EGFR-TKI EGFR mutant NSCLC progress-\\ning after first line TKI\\nAPG-1252 Small molecule inhibitor of \\nBCL2NCT04001777 (1) Monotherapy and combina-\\ntion with OsimertinibEGFR mutant NSCLC\\nBMS-986205 IDO1 inhibitor NCT02658890 (1/2) Combination with Nivolumab \\nand IpilimumabAdvanced solid tumors includ-\\ning NSCLC\\nEprenetapopt (Apr-246) Stabilizes p53 in normal, \\nfunctional structureNCT04383938 (1/2) Combination with Pembroli-\\nzumabAdvanced solid tumors includ-\\ning NSCLC\\nHBI-8000 Histone deacetylase inhibitor NCT02718066 (1/2) Combination with Nivolumab Advanced NSCLC\\nIdelalisib PI3K inhibitor NCT03257722 (1/2) Combination with Pembroli-\\nzumabAdvanced NSCLC with progres-\\nsion on first line therapy\\nIRX4204 Rexinoid, potent activator of \\nRXRsNCT02991651 (1) Monotherapy and combina-\\ntion with ErlotinibAdvanced NSCLC with progres-\\nsion on two lines of therapy\\nNC318 IgG1 mAB specific for S15 NCT03665285 (1/2) Monotherapy Advanced solid tumors includ-\\ning NSCLC\\nNingetinib (CT053PTSA) Multi kinase inhibitor MET/\\nHGFRNCT03758287 (1/2) Combination with Gefitinib NSCLC with EGFR mutation and \\nT790M negative\\nNintedanib PDGFR, FGFR, VEGFR inhibitor NCT03377023 (1/2) Combination with Nivolumab \\nand IpilimumabAdvanced or metastatic NSCLC\\nRGX-104 Liver X receptor agonist NCT02922764 (1) Monotherapy or in combina-\\ntion with immunotherapy or \\nchemotherapyAdvanced solid tumors includ-\\ning NSCLC\\nRucaparib PARP inhibitor NCT03845296 (2) Monotherapy Recurrent NSCLC\\nSelinexor Exportin 1 inhibitor NCT03095612 (1/2) Combination with docetaxel Advanced KRAS mutant NSCLC \\nwith progression on first line \\ntherapy\\nSelumetinib MAPK inhibitor NCT03392246 (2) Combination with Osimertinib Advanced EGFR mutant NSCLC\\nRamucirumab VEGFR2 antagonist NCT03909334 (2) Combination with Osimertinib EGFR mutant NSCLC\\nTelaglenastat HCL Glutaminase inhibitor NCT03831932 (1/2) Combination with Osimertinib Advanced EGFR mutant NSCLC\\nVarlilumab Anti CD27 antibody NCT04081688 (1) Combination with Atezoli-\\nzumabAdvanced NSCLC with progres-\\nsion on first line therapy\\nVorolanib VEGFR/PDGFR inhibitor NCT03583086 (1/2) Combination with Nivolumab Solid tumors including NSCLC\\nZN-c3 WEE1 inhibitor NCT04158336 (1/2) Combination with Talazoparib \\nor PembrolizumabAdvanced solid tumors includ-\\ning NSCLC\\nRBN-2397 PARP7 inhibitor NCT04053673 (1) Monotherapy Advanced solid tumors includ-\\ning NSCLC', metadata={'page': 14.0, 'source': '.saved_pdfs/10.1186_s13045-021-01121-2.pdf', 'title': 'targeted therapy advanced nonsmall cell lung cancer current advances future trends'}), Document(page_content='Osimertinib Potent mutant EGFR Inhibitor NCT03434418 (2) Monotherapy NSCLC with uncommon EGFR \\nmutations (EGFR 18;G719X, \\nEGFR 20;S7681, EGFR 21;L861Q)\\nTarloxotinib Hypoxia activated prodrug (TH-\\n4000) wild type EGFR InhibitorNCT03805841 (2) Monotherapy EGFR exon 20 and HER2 activating \\nmutant NSCLC\\nWSD0922-FU EGFR/EGFRvIII Inhibitor NCT04197934 (1) Monotherapy EGFR mutant NSCLC\\nZN-e4 (KP-673) EGFR Inhibitor including T790M NCT03446417 (1/2) Monotherapy EGFR mutant NSCLC', metadata={'page': 6.0, 'source': '.saved_pdfs/10.1186_s13045-021-01121-2.pdf', 'title': 'targeted therapy advanced nonsmall cell lung cancer current advances future trends'}), Document(page_content='received at least 1 prior EGFR-targeted TKI including \\nthose with C797S mutation.\\nBDTX-189 is an irreversible small-molecule inhibitor \\nthat targets oncogenic driver mutations of EGFR, HER2, \\nand ERBB kinases [30]. Safety and preliminary efficacy \\nfrom first-in-human phase I/II trial Mastery key-01 \\n(NCT04209465) in patients with advanced solid cancers \\nincluding EGFR mutant NSCLC was reported [31]. The \\nmaximum tolerated dose (MTD) for QD (fasting) was \\n800\\xa0mg, with 2/6 pts with DLTs at 1200\\xa0mg due diarrhea \\nand nausea/vomiting. The most frequent (≥ 20%) related \\nadverse events were diarrhea (36%, 8% G3), nausea (28%, \\n0% G3), and vomiting (25%, 3% G3). The rate of skin dis -\\norders was 11% with the highest severity of G2 in 1 pt.\\nCLN-081 (TAS6417) is a potent pan-mutation-selective \\nEGFR inhibitor with a broad therapeutic window. Pre-\\nclinical studies have shown TAS6417 as a potent inhibi -\\ntor against EGFR exon 19 deletions, L858R, T790M, \\nG719X, L861Q, S768I, and exon 20 insertion mutations \\n[32]. It is currently being studied in a phase I/II trial in \\npatients with EGFR exon 20 mutation (NCT04036682). \\nInterim results for safety and efficacy were reported in 37 \\nheavily pre-treated patients. The most common TRAEs \\nwere rash (49%), diarrhea (24%), paronychia (16%), nau -\\nsea (14%), stomatitis (14%), and dry skin (11%). Grade \\n3 TRAEs included anemia (5%), diarrhea (3%), and \\nincreased alkaline phosphatase (ALP) (3%). Among the \\n25 response evaluable pts, 10 (40%) had a partial response \\n(PR) and 14 (56%) had stable disease [33].\\nDZD9008 is a potential EGFR TKI for NSCLC patients \\nwith EGFR or HER2 Exon20 insertion (exon20ins) and \\nother activating mutations [34]. Two ongoing phase I/\\nII clinical trials (NCT03974022 and CTR20192097) are', metadata={'page': 4.0, 'source': '.saved_pdfs/10.1186_s13045-021-01121-2.pdf', 'title': 'targeted therapy advanced nonsmall cell lung cancer current advances future trends'})]\u001b[0m\u001b[32;1m\u001b[1;3mRelevant Documents: 0,1,2\n",
      "Cited Documents: 0,1,2\n",
      "Answer: The small molecule drugs highlighted in the paper include:\n",
      "\n",
      "- Osimertinib\n",
      "- Mobocertinib (TAK-788)\n",
      "- Poziotinib\n",
      "- Trastuzumab deruxtecan\n",
      "- JAB-3068\n",
      "- TNO155\n",
      "- Aliseritib\n",
      "- Anlotinib\n",
      "- Apatinib\n",
      "- APG-1252\n",
      "- BMS-986205\n",
      "- Eprenetapopt (Apr-246)\n",
      "- HBI-8000\n",
      "- Idelalisib\n",
      "- IRX4204\n",
      "- NC318\n",
      "- Ningetinib (CT053PTSA)\n",
      "- Nintedanib\n",
      "- RGX-104\n",
      "- Rucaparib\n",
      "- Selinexor\n",
      "- Selumetinib\n",
      "- Ramucirumab\n",
      "- Telaglenastat HCL\n",
      "- Varlilumab\n",
      "- Vorolanib\n",
      "- ZN-c3\n",
      "- RBN-2397\n",
      "- BDTX-189\n",
      "- CLN-081 (TAS6417)\n",
      "- DZD9008\n",
      "Grounded answer: The small molecule drugs highlighted in the paper include:\n",
      "\n",
      "- <co: 0,1>Osimertinib</co: 0,1>\n",
      "- <co: 0>Mobocertinib (TAK-788</co: 0>)\n",
      "- <co: 0>Poziotinib</co: 0>\n",
      "- <co: 0>Trastuzumab deruxtecan</co: 0>\n",
      "- <co: 0>JAB-3068</co: 0>\n",
      "- <co: 0>TNO155</co: 0>\n",
      "- <co: 0>Aliseritib</co: 0>\n",
      "- <co: 0>Anlotinib</co: 0>\n",
      "- <co: 0>Apatinib</co: 0>\n",
      "- <co: 0>APG-1252</co: 0>\n",
      "- <co: 0>BMS-986205</co: 0>\n",
      "- <co: 0>Eprenetapopt (Apr-246</co: 0>)\n",
      "- <co: 0>HBI-8000</co: 0>\n",
      "- <co: 0>Idelalisib</co: 0>\n",
      "- <co: 0>IRX4204</co: 0>\n",
      "- <co: 0>NC318</co: 0>\n",
      "- <co: 0>Ningetinib (CT053PTSA</co: 0>)\n",
      "- <co: 0>Nintedanib</co: 0>\n",
      "- <co: 0>RGX-104</co: 0>\n",
      "- <co: 0>Rucaparib</co: 0>\n",
      "- <co: 0>Selinexor</co: 0>\n",
      "- <co: 0>Selumetinib</co: 0>\n",
      "- <co: 0>Ramucirumab</co: 0>\n",
      "- <co: 0>Telaglenastat HCL</co: 0>\n",
      "- <co: 0>Varlilumab</co: 0>\n",
      "- <co: 0>Vorolanib</co: 0>\n",
      "- <co: 0>ZN-c3</co: 0>\n",
      "- <co: 0>RBN-2397</co: 0>\n",
      "- <co: 2>BDTX-189</co: 2>\n",
      "- <co: 2>CLN-081 (TAS6417</co: 2>)\n",
      "- <co: 2>DZD9008</co: 2>\u001b[0m\n",
      "\n",
      "\u001b[1m> Finished chain.\u001b[0m\n",
      "The small molecule drugs highlighted in the paper include:\n",
      "\n",
      "- Osimertinib\n",
      "- Mobocertinib (TAK-788)\n",
      "- Poziotinib\n",
      "- Trastuzumab deruxtecan\n",
      "- JAB-3068\n",
      "- TNO155\n",
      "- Aliseritib\n",
      "- Anlotinib\n",
      "- Apatinib\n",
      "- APG-1252\n",
      "- BMS-986205\n",
      "- Eprenetapopt (Apr-246)\n",
      "- HBI-8000\n",
      "- Idelalisib\n",
      "- IRX4204\n",
      "- NC318\n",
      "- Ningetinib (CT053PTSA)\n",
      "- Nintedanib\n",
      "- RGX-104\n",
      "- Rucaparib\n",
      "- Selinexor\n",
      "- Selumetinib\n",
      "- Ramucirumab\n",
      "- Telaglenastat HCL\n",
      "- Varlilumab\n",
      "- Vorolanib\n",
      "- ZN-c3\n",
      "- RBN-2397\n",
      "- BDTX-189\n",
      "- CLN-081 (TAS6417)\n",
      "- DZD9008\n"
     ]
    }
   ],
   "source": [
    "response = agent_with_chat_history.invoke(\n",
    "    {\"input\": \"Can you list the small molecule drugs they highlight in the paper?\"},\n",
    "    config={\"configurable\": {\"session_id\": \"<foo>\"}},\n",
    ")\n",
    "print(response['output'])"
   ]
  },
  {
   "cell_type": "code",
   "execution_count": 11,
   "metadata": {},
   "outputs": [
    {
     "name": "stderr",
     "output_type": "stream",
     "text": [
      "Parent run 329f02ba-bb61-4c60-ab8a-855d8c7e49f4 not found for run be8eee41-8237-454d-bf55-39f61c5a775c. Treating as a root run.\n"
     ]
    },
    {
     "name": "stdout",
     "output_type": "stream",
     "text": [
      "\n",
      "\n",
      "\u001b[1m> Entering new AgentExecutor chain...\u001b[0m\n",
      "\u001b[32;1m\u001b[1;3m\n",
      "I will search for the SMILES string of Osimertinib.\n",
      "{'tool_name': 'get_smiles_from_pubchem', 'parameters': {'name': 'Osimertinib'}}\n",
      "\u001b[0m\u001b[33;1m\u001b[1;3mCN1C=C(C2=CC=CC=C21)C3=NC(=NC=C3)NC4=C(C=C(C(=C4)NC(=O)C=C)N(C)CCN(C)C)OC\u001b[0m\u001b[32;1m\u001b[1;3mRelevant Documents: 0\n",
      "Cited Documents: 0\n",
      "Answer: The SMILES string for Osimertinib is: CN1C=C(C2=CC=CC=C21)C3=NC(=NC=C3)NC4=C(C=C(C(=C4)NC(=O)C=C)N(C)CCN(C)C)OC.\n",
      "Grounded answer: The SMILES string for Osimertinib is: <co: 0>CN1C=C(C2=CC=CC=C21)C3=NC(=NC=C3)NC4=C(C=C(C(=C4)NC(=O)C=C)N(C)CCN(C)C)OC</co: 0>.\u001b[0m\n",
      "\n",
      "\u001b[1m> Finished chain.\u001b[0m\n",
      "The SMILES string for Osimertinib is: CN1C=C(C2=CC=CC=C21)C3=NC(=NC=C3)NC4=C(C=C(C(=C4)NC(=O)C=C)N(C)CCN(C)C)OC.\n"
     ]
    }
   ],
   "source": [
    "response = agent_with_chat_history.invoke(\n",
    "    {\"input\": \"Can you find the SMILES string of the first small molecule you found?\"},\n",
    "    config={\"configurable\": {\"session_id\": \"<foo>\"}},\n",
    ")\n",
    "print(response['output'])"
   ]
  },
  {
   "cell_type": "code",
   "execution_count": 12,
   "metadata": {},
   "outputs": [
    {
     "name": "stderr",
     "output_type": "stream",
     "text": [
      "Parent run 46f0edad-3871-481c-aaf8-a1d816342219 not found for run bc1dd1f5-62a1-4343-8e31-c99c270d9664. Treating as a root run.\n"
     ]
    },
    {
     "name": "stdout",
     "output_type": "stream",
     "text": [
      "\n",
      "\n",
      "\u001b[1m> Entering new AgentExecutor chain...\u001b[0m\n",
      "\u001b[32;1m\u001b[1;3m\n",
      "I will use the 'predict_energy_from_smiles' tool to predict the energy value of the SMILES string for Osimertinib.\n",
      "{'tool_name': 'predict_energy_from_smiles', 'parameters': {'smiles': 'CN1C=C(C2=CC=CC=C21)C3=NC(=NC=C3)NC4=C(C=C(C(=C4)NC(=O)C=C)N(C)CCN(C)C)OC'}}\n",
      "\u001b[0mPrediction for CN1C=C(C2=CC=CC=C21)C3=NC(=NC=C3)NC4=C(C=C(C(=C4)NC(=O)C=C)N(C)CCN(C)C)OC: -11.39196263310017\n",
      "\u001b[38;5;200m\u001b[1;3m-11.39196263310017\u001b[0m\u001b[32;1m\u001b[1;3mRelevant Documents: 0\n",
      "Cited Documents: 0\n",
      "Answer: The predicted energy value of Osimertinib is -11.39196263310017.\n",
      "Grounded answer: The predicted energy value of Osimertinib is <co: 0>-11.39196263310017</co: 0>.\u001b[0m\n",
      "\n",
      "\u001b[1m> Finished chain.\u001b[0m\n",
      "The predicted energy value of Osimertinib is -11.39196263310017.\n"
     ]
    }
   ],
   "source": [
    "response = agent_with_chat_history.invoke(\n",
    "    {\"input\": \"Can you predict its energy value?\"},\n",
    "    config={\"configurable\": {\"session_id\": \"<foo>\"}},\n",
    ")\n",
    "print(response['output'])"
   ]
  }
 ],
 "metadata": {
  "kernelspec": {
   "display_name": "takehome",
   "language": "python",
   "name": "python3"
  },
  "language_info": {
   "codemirror_mode": {
    "name": "ipython",
    "version": 3
   },
   "file_extension": ".py",
   "mimetype": "text/x-python",
   "name": "python",
   "nbconvert_exporter": "python",
   "pygments_lexer": "ipython3",
   "version": "3.12.3"
  }
 },
 "nbformat": 4,
 "nbformat_minor": 2
}
