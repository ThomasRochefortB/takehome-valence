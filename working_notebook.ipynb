{
 "cells": [
  {
   "cell_type": "code",
   "execution_count": 91,
   "metadata": {},
   "outputs": [
    {
     "name": "stdout",
     "output_type": "stream",
     "text": [
      "The autoreload extension is already loaded. To reload it, use:\n",
      "  %reload_ext autoreload\n"
     ]
    }
   ],
   "source": [
    "%load_ext autoreload\n",
    "%autoreload 2"
   ]
  },
  {
   "cell_type": "code",
   "execution_count": 92,
   "metadata": {},
   "outputs": [
    {
     "name": "stdout",
     "output_type": "stream",
     "text": [
      "Found a similar title with a similarity score of 100:\n",
      "Low titers of SARS-CoV-2 neutralizing antibodies after first vaccination dose in cancer patients receiving checkpoint inhibitors.\n"
     ]
    }
   ],
   "source": [
    "\n",
    "from tools import find_article_pubmed, get_article_pdf, query_vector_db_articles\n",
    "# title = \"Targeted therapy in advanced non-small cell lung cancer: current advances and future trends.\"\n",
    "\n",
    "article = find_article_pubmed(article_title2)"
   ]
  },
  {
   "cell_type": "code",
   "execution_count": 94,
   "metadata": {},
   "outputs": [
    {
     "name": "stdout",
     "output_type": "stream",
     "text": [
      "Title: Low titers of SARS-CoV-2 neutralizing antibodies after first vaccination dose in cancer patients receiving checkpoint inhibitors\n",
      "Authors: Evangelos Terpos, Flora Zagouri, Michalis Liontos, Aimilia D. Sklirou, Konstantinos Koutsoukos, Christos Markellos, Alexandros Briasoulis, Eleni-Dimitra Papanagnou, Ioannis P. Trougakos, Meletios-Athanasios Dimopoulos\n",
      "Journal: Journal of Hematology &amp; Oncology\n",
      "Published Date: 2021-05-31\n",
      "Open access PDF available at: https://jhoonline.biomedcentral.com/counter/pdf/10.1186/s13045-021-01099-x\n",
      "Downloaded the PDF as: .saved_pdfs/10.1186_s13045-021-01099-x.pdf\n"
     ]
    },
    {
     "data": {
      "text/plain": [
       "'.saved_pdfs/10.1186_s13045-021-01099-x.pdf'"
      ]
     },
     "execution_count": 94,
     "metadata": {},
     "output_type": "execute_result"
    }
   ],
   "source": [
    "get_article_pdf(article)"
   ]
  },
  {
   "cell_type": "code",
   "execution_count": 104,
   "metadata": {},
   "outputs": [
    {
     "data": {
      "text/plain": []
     },
     "execution_count": 104,
     "metadata": {},
     "output_type": "execute_result"
    }
   ],
   "source": [
    "# pip install pinecone-client[grpc]\n",
    "import os\n",
    "from pinecone.grpc import PineconeGRPC as Pinecone\n",
    "\n",
    "pc = Pinecone(api_key=os.getenv(\"PINECONE_API_KEY\"))\n",
    "index = pc.Index(\"pubmed\")\n",
    "\n",
    "index.delete(delete_all=True)"
   ]
  },
  {
   "cell_type": "code",
   "execution_count": 3,
   "metadata": {},
   "outputs": [],
   "source": [
    "article_title = \"Targeted therapy in advanced non-small cell lung cancer: current advances and future trends.\"\n",
    "query = \"What disease are they discussing in the paper?\"\n",
    "query2 = \"Can you list the protein targets they highlight in the paper?\"\n",
    "query3= \"Summarize the main takeaways from the paper.\""
   ]
  },
  {
   "cell_type": "code",
   "execution_count": 127,
   "metadata": {},
   "outputs": [],
   "source": [
    "from langchain_google_vertexai import VertexAI\n",
    "from langchain.chains import RetrievalQA  \n",
    "# completion llm  \n",
    "from langchain_cohere import ChatCohere\n",
    "\n",
    "llm = ChatCohere(model=\"command-r-plus\",temperature=0.0,max_tokens=4096)\n",
    "\n",
    "\n",
    "from langchain import hub\n",
    "\n",
    "prompt = hub.pull(\"rlm/rag-prompt\")"
   ]
  },
  {
   "cell_type": "code",
   "execution_count": 144,
   "metadata": {},
   "outputs": [],
   "source": [
    "from langchain.agents import AgentExecutor\n",
    "from langchain_cohere.react_multi_hop.agent import create_cohere_react_agent\n",
    "from langchain_core.prompts import ChatPromptTemplate\n",
    "from langchain.agents import AgentExecutor, create_react_agent\n",
    "\n",
    "# from langchain.tools.retriever import create_retriever_tool\n",
    "\n",
    "# vectorstore_search = create_retriever_tool(\n",
    "#    retriever=retriever,\n",
    "#    name=\"vectorstore_search\",\n",
    "#    description=\"Retrieve relevant info from a vectorstore that contains information from the article. You need to filter with the following metadata when you query the vector database: 'source': 'name_of_the_article' \"\n",
    "# )\n",
    "\n",
    "# Preamble\n",
    "preamble = \"\"\"\n",
    "You are an expert who answers the user's question with the most relevant datasource.\n",
    "You are equipped with a special vectorstore of information about the scientific article.\n",
    "\"\"\"\n",
    "\n",
    "# Prompt template\n",
    "# prompt = ChatPromptTemplate.from_template(\"{input}\")\n",
    "# Create the ReAct agent\n",
    "agent = create_cohere_react_agent(\n",
    "   llm=llm,\n",
    "   tools=[query_vector_db_articles],\n",
    "   prompt=prompt,\n",
    ")\n",
    "\n",
    "agent_executor = AgentExecutor(agent=agent,\n",
    "                               tools=[query_vector_db_articles],\n",
    "                               verbose=True,\n",
    "                               handle_parsing_errors=True,)\n"
   ]
  },
  {
   "cell_type": "code",
   "execution_count": 131,
   "metadata": {},
   "outputs": [],
   "source": [
    "article_title2 = \"Low titers of SARS-CoV-2 neutralizing antibodies after first vaccination dose in cancer patients receiving checkpoint inhibitors.\""
   ]
  },
  {
   "cell_type": "code",
   "execution_count": 132,
   "metadata": {},
   "outputs": [
    {
     "name": "stdout",
     "output_type": "stream",
     "text": [
      "\n",
      "\n",
      "\u001b[1m> Entering new AgentExecutor chain...\u001b[0m\n",
      "\u001b[32;1m\u001b[1;3m\n",
      "I will search for the paper 'Low titers of SARS-CoV-2 neutralizing antibodies after first vaccination dose in cancer patients receiving checkpoint inhibitors' and summarise its main findings.\n",
      "{'tool_name': 'query_vector_db_articles', 'parameters': {'query': 'Low titers of SARS-CoV-2 neutralizing antibodies after first vaccination dose in cancer patients receiving checkpoint inhibitors', 'metadata': {}}}\n",
      "\u001b[0m\u001b[36;1m\u001b[1;3m[Document(page_content='Terpos\\xa0 et\\xa0al. J Hematol Oncol           (2021) 14:86  \\nhttps://doi.org/10.1186/s13045-021-01099-x\\nLETTER TO THE EDITOR\\nLow titers of\\xa0SARS -CoV -2 neutralizing \\nantibodies after\\xa0first vaccination dose in\\xa0cancer \\npatients receiving checkpoint inhibitors\\nEvangelos Terpos1* , Flora Zagouri1, Michalis Liontos1, Aimilia D. Sklirou2, Konstantinos Koutsoukos1, \\nChristos Markellos1, Alexandros Briasoulis1, Eleni‑Dimitra Papanagnou2, Ioannis P . Trougakos2 and \\nMeletios‑Athanasios Dimopoulos1 \\nAbstract \\nVaccination for SARS‑ CoV‑2 provides significant protection against the infection in the general population. However, \\nonly limited data exist for patients with cancer under systemic therapy. Based on this, our site has initiated a study \\nevaluating safety and efficacy of SARS‑ CoV‑2 vaccination in patients with solid and hematological malignancies under \\nseveral systemic therapies. The initial results of the cohort of 59 patients receiving Immune Checkpoint Inhibitors are \\npresented here. Despite no new safety issues have been noticed, the levels of SARS‑ CoV‑2 neutralizing antibodies are \\nsignificantly lower in comparison to matched healthy volunteers up to day 22 post the first dose. These results should \\nbe taken into consideration for the patients under treatment.\\nKeywords: SARS‑ CoV‑2, Vaccination, Cancer, Immune checkpoint inhibitors, BNT162b2, AZD1222\\n© The Author(s) 2021. Open Access This article is licensed under a Creative Commons Attribution 4.0 International License, which \\npermits use, sharing, adaptation, distribution and reproduction in any medium or format, as long as you give appropriate credit to the \\noriginal author(s) and the source, provide a link to the Creative Commons licence, and indicate if changes were made. The images or \\nother third party material in this article are included in the article’s Creative Commons licence, unless indicated otherwise in a credit line \\nto the material. If material is not included in the article’s Creative Commons licence and your intended use is not permitted by statutory \\nregulation or exceeds the permitted use, you will need to obtain permission directly from the copyright holder. To view a copy of this \\nlicence, visit http:// creat iveco mmons. org/ licen ses/ by/4. 0/. The Creative Commons Public Domain Dedication waiver (http:// creat iveco  \\nmmons. org/ publi cdoma in/ zero/1. 0/) applies to the data made available in this article, unless otherwise stated in a credit line to the data.To the Editor,\\nPatients with cancer are considered vulnerable to SARS-\\nCoV-2 infection [1] and have been prioritized in the vac -\\ncination process in several countries including Greece. \\nIn addition, international oncological societies favored \\nCOVID-19 vaccination for cancer patients on the basis \\nof risk and benefits evaluation of all available data. How -\\never, patients with cancer were excluded from SARS-\\nCoV-2 vaccines registrational trials [2, 3] and we lack \\ndata regarding the safety and efficacy of vaccination in \\nthis population. Under this perspective, we undertook \\na large prospective study (NCT04743388) enrolling \\npatients with solid cancers, hematologic malignancies as well as healthy volunteers for the kinetics of anti-\\nSARS-CoV-2 antibodies after COVID-19 vaccination \\n[4]. Herein, we report the development of neutralizing \\nantibodies (NAbs) against SARS-CoV-2 in patients with \\nsolid tumors receiving immune checkpoint inhibitors \\n(ICIs) after the first dose of the BNT162b2 and AZD1222 \\nvaccines. Major inclusion criteria for this cohort of the \\nstudy included: (1) age above 18\\xa0 years; (2) presence of \\nsolid organ malignancies treated with immunotherapy \\nirrespective of the treatment phase; and (3) eligibility for \\nvaccination.\\nThe serum of both patients and controls was collected \\non day 1 prior to vaccination and on day 22. NAbs against \\nSARS-CoV-2 were measured using FDA approved meth -\\nodology (ELISA, cPass™ SARS-CoV-2 NAbs Detection', metadata={'page': 0.0, 'source': '.saved_pdfs/10.1186_s13045-021-01099-x.pdf', 'title': 'Low titers of SARS-CoV-2 neutralizing antibodies after first vaccination dose in cancer patients receiving checkpoint inhibitors.'}), Document(page_content='Page 3 of 4\\n Terpos\\xa0et\\xa0al. J Hematol Oncol           (2021) 14:86 \\n \\nAbbreviations\\nICIs: Immune checkpoint inhibitors; NAbs: Neutralizing antibodies; IQR: Inter ‑\\nquartile range.\\nSupplementary Information\\nThe online version contains supplementary material available at https:// doi. \\norg/ 10. 1186/ s13045‑ 021‑ 01099‑x.\\nAdditional file\\xa01. Table\\xa0S1: Detailed characteristics of patients\\nAcknowledgements\\nWe thank Abis Cohen MD; Ioanna Charitaki, RN; Ioanna Katsiana RN; Tina \\nBagratuni, PhD; Christine Ivy Liacos, PhD; Nikoletta‑Aikaterini Kokkali, RN; Nefeli \\nMavrianou‑Koutsoukou, PhD; Dimitrios Patseas, PhD and Mrs Stamatia Skourti \\nfor administrative, technical, or material support; Sentiljana Gumeni, PhD \\nfor acquisition, analysis, or interpretation of data. We also thank SYN‑ENOSIS \\n(Greece), AEGEAS (Greece) and IEMBITHEK (Greece) for partially funding this \\nstudy, as well as all of the study participants for donating their time and \\nsamples.\\nAuthors’ contributions\\nET designed research, performed research, analyzed data and wrote the paper. \\nIPT and MAD contributed vital new reagents or analytical tools, performed \\nresearch, analyzed data, reviewed all paper drafts and gave approval to final \\nversion. FZ, ML, ADS, KK, CM, AB, EDP performed research, analyzed data, \\nreviewed all paper drafts and gave approval to final version. All authors read \\nand approved the final manuscript.Funding\\nSYN‑ENOSIS (Greece), AEGEAS (Greece) and IEMBITHEK (Greece) partially \\nfunded this study.\\nAvailability of data and materials\\nAll data generated or analysed during this study are included in this published \\narticle and its supplementary information file.\\nDeclarations\\nEthics approval and consent to participate\\nDescribed within the letter. The study was approved by the respective Ethi‑\\ncal Committees (Alexandra Hospital Ethics Committee, Reference Number: \\n900/24‑12‑2020) in accordance with the Declaration of Helsinki and the Inter ‑\\nnational Conference on Harmonization for Good Clinical Practice. All patients \\nand controls provided written informed consent prior enrollment in the study.\\nConsent for publication\\nNot applicable.\\nCompeting interests\\nWe declare no competing interests.\\nAuthor details\\n1 Department of Clinical Therapeutics, School of Medicine, Alexandra General \\nHospital, National and Kapodistrian University of Athens, 80 Vas. Sofias Avenue, \\n11528 Athens, Greece. 2 Department of Cell Biology and Biophysics, Faculty \\nof Biology, National and Kapodistrian University of Athens, Athens, Greece. \\nFig. 1 Kinetics of neutralizing antibodies in patients receiving immunotherapy and matched controls after vaccination with the first dose of the \\nBNT162b2, mRNA‑1273 and AZD1222 vaccine. On D22, patients had lower production of NAb inhibition titers compared to controls of similar age \\nand gender (see text). Only 6 patients (10.7%) had NAb titers of equal or more than 50%', metadata={'page': 2.0, 'source': '.saved_pdfs/10.1186_s13045-021-01099-x.pdf', 'title': 'Low titers of SARS-CoV-2 neutralizing antibodies after first vaccination dose in cancer patients receiving checkpoint inhibitors.'}), Document(page_content='Page 2 of 4 Terpos\\xa0et\\xa0al. J Hematol Oncol           (2021) 14:86 \\nInternational Conference on Harmonization for Good \\nClinical Practice. All patients and controls provided writ -\\nten informed consent prior enrollment in the study. Base -\\nline demographics, co-morbidities, and the NAb levels \\nwere compared between the 2 groups, Chi-square test \\nfor categorical variables and unpaired t-test or Wilcoxon \\nsigned-rank test (as appropriate) for continuous vari -\\nables. To adjust for potential confounding effects of dif -\\nferences in covariates, we used case–control matching to \\nmatch the two groups for age, gender, and type of vaccine \\nwith the calipmatch command in Stata. All data extrac -\\ntion and analyses were conducted using Stata 16.0 (Stata -\\nCorp 2019, Stata Statistical Software: Release 16. College \\nStation, TX: StataCorp LLC). Two-sided p value < 0.05 \\nwas used for statistical significance.\\nStudy population included 59 patients (36 males/23 \\nfemales; median age: 66\\xa0years, IQR 61–76\\xa0years) and 283 \\ncontrols (median age: 64\\xa0years, IQR 59–82\\xa0years, p = 0.75 \\nfor age compared with patients), vaccinated during the \\nsame period. 44/59 patients (74.6%) and 232/283 controls \\n(82%) were vaccinated with a mRNA vaccine (BNT162b2 \\nor mRNA-1273), while the remaining received the \\nAZD1222 vaccine (p = 0.19). The characteristics of the \\npatients are depicted in Table\\xa0 1. Among patients, 16 had \\nlung cancer, 15 bladder cancer, 11 kidney carcinoma, \\nand the remaining 17 other carcinomas. Most patients \\n(49 patients, 83.0%) received anti-PD1 treatment, while \\n10 (17.0%) received anti-PD-L1 antibodies or immuno -\\ntherapy combination. Comorbidities in the patient group \\nincluded cardiovascular disease in 42.4%, diabetes in \\n20.3%, pulmonary disease in 10.2%.\\nOn D1, two patients (3.4%) and 26 (9.2%) controls had \\nNAb titers of ≥ 30% (positivity cut-off); there was no dif -\\nference regarding the NAb titers between patients and \\ncontrols on D1 (p = 0.35). None of them had a prior his -\\ntory of known COVID-19. After the first vaccine dose, \\non D22, patients had lower NAb titers compared to \\ncontrols: the median NAb inhibition titer was 22% (IQR \\n13.4–30.2%) for patients versus 38% (IQR 23–54%) for \\ncontrols; p < 0.001 (Fig.\\xa0 1). More, specifically, 15 (25%) \\npatients versus 186 (65.7%) controls developed NAb \\ntiters ≥ 30% on D22   ( p\\xa0< \\xa00.001). The respective number \\nof patients and controls who developed NAb titers ≥ 50% \\n(clinically relevant viral inhibition [6]) was 6 (10.7%) and \\n93 (32.9%), respectively (p = 0.01). Of note, none of the \\npatients enrolled had neutropenia or lymphopenia at first \\nvaccination dose (Additional file\\xa01: Table\\xa0S1).\\nRecently, Waissengrin et\\xa0 al. [7] reported the safety \\nresults of BNT162b2 vaccine in patients with cancer \\ntreated with ICIs. We confirm these data in our study \\npopulation; amongst the 59 patients of our department \\nwho received vaccination while on treatment with ICIs, \\nno unexpected adverse events were noted. During the post vaccination follow-up period (median 44\\xa0days, IQR \\n36–67\\xa0days) immunotherapy related adverse events were \\nrecorded in one patent (1.7%). For the first time, we also \\nreport that patients on treatment with ICIs receiving \\nthe first dose of the BNT162b2 and AZD1222 vaccines \\ndevelop low titers of NAb against SARS-CoV-2 by day 22. \\nThese results could be attributed to the immunosuppres -\\nsive effect of cancer and/or treatment given and inform \\nregarding the optimal management of these patients at \\nleast until vaccination completion. Further follow-up of \\nthe current study will provide significant data for the effi -\\ncacy of vaccination in cancer patients.Table 1 Characteristics of the patients\\nIQR interquartile range, BMI body mass index, I/O ImmunotherapyCharacteristic Total population\\nMedian (IQR)\\nAge 66 (61–76)\\nBMI 26.1 (23.6–28.3)\\nN (%)\\nSex\\n Male 36 (61.0%)\\n Female 23 (39.0%)\\nType of cancer\\n Lung cancer 16 (27.1%)\\n Bladder cancer 15 (25.4%)\\n Kidney cancer 11 (18.6%)', metadata={'page': 1.0, 'source': '.saved_pdfs/10.1186_s13045-021-01099-x.pdf', 'title': 'Low titers of SARS-CoV-2 neutralizing antibodies after first vaccination dose in cancer patients receiving checkpoint inhibitors.'})]\u001b[0m\u001b[32;1m\u001b[1;3mRelevant Documents: 0,1,2\n",
      "Cited Documents: 0,1,2\n",
      "Answer: The paper found that cancer patients receiving checkpoint inhibitors had lower levels of SARS-CoV-2 neutralizing antibodies after the first vaccination dose compared to matched healthy volunteers. The study included 59 patients and 283 controls, and found that only 6 patients (10.7%) had NAb titers of equal to or more than 50%. The authors suggest that these results should be taken into consideration for the management of patients under treatment.\n",
      "Grounded answer: The paper found that <co: 0,2>cancer patients receiving checkpoint inhibitors</co: 0,2> had <co: 0,1,2>lower levels of SARS-CoV-2 neutralizing antibodies</co: 0,1,2> after the <co: 0,1,2>first vaccination dose</co: 0,1,2> compared to <co: 0>matched healthy volunteers</co: 0>. The study included <co: 2>59 patients and 283 controls</co: 2>, and found that only <co: 1>6 patients (10.7%) had NAb titers of equal to or more than 50</co: 1>%. The authors suggest that these results <co: 0>should be taken into consideration for the management of patients under treatment</co: 0>.\u001b[0m\n",
      "\n",
      "\u001b[1m> Finished chain.\u001b[0m\n"
     ]
    }
   ],
   "source": [
    "response = agent_executor.invoke({\n",
    "   \"input\": \"Summarize the main findings of the paper '{}'?\".format(article_title2),\n",
    "   \"preamble\": preamble,\n",
    "})"
   ]
  },
  {
   "cell_type": "code",
   "execution_count": 133,
   "metadata": {},
   "outputs": [
    {
     "name": "stdout",
     "output_type": "stream",
     "text": [
      "The paper found that cancer patients receiving checkpoint inhibitors had lower levels of SARS-CoV-2 neutralizing antibodies after the first vaccination dose compared to matched healthy volunteers. The study included 59 patients and 283 controls, and found that only 6 patients (10.7%) had NAb titers of equal to or more than 50%. The authors suggest that these results should be taken into consideration for the management of patients under treatment.\n"
     ]
    }
   ],
   "source": [
    "print(response['output'])\n"
   ]
  },
  {
   "cell_type": "code",
   "execution_count": 145,
   "metadata": {},
   "outputs": [],
   "source": [
    "from langchain_core.runnables.history import RunnableWithMessageHistory\n",
    "from langchain.memory import ChatMessageHistory\n",
    "\n",
    "memory = ChatMessageHistory(session_id=\"test-session\")\n",
    "\n",
    "\n",
    "\n",
    "agent_with_chat_history = RunnableWithMessageHistory(\n",
    "    agent_executor,\n",
    "    # This is needed because in most real world scenarios, a session id is needed\n",
    "    # It isn't really used here because we are using a simple in memory ChatMessageHistory\n",
    "    lambda session_id: memory,\n",
    "    input_messages_key=\"input\",\n",
    "    history_messages_key=\"chat_history\",\n",
    ")\n"
   ]
  },
  {
   "cell_type": "code",
   "execution_count": 146,
   "metadata": {},
   "outputs": [
    {
     "name": "stderr",
     "output_type": "stream",
     "text": [
      "Parent run 8e44c5d6-2784-4b94-8290-a2aaa94e2707 not found for run aaf40802-4dd0-481d-98e7-4483e02537de. Treating as a root run.\n"
     ]
    },
    {
     "name": "stdout",
     "output_type": "stream",
     "text": [
      "\n",
      "\n",
      "\u001b[1m> Entering new AgentExecutor chain...\u001b[0m\n",
      "\u001b[32;1m\u001b[1;3m\n",
      "I will search for the paper 'Low titers of SARS-CoV-2 neutralizing antibodies after first vaccination dose in cancer patients receiving checkpoint inhibitors.' and summarise its main findings.\n",
      "{'tool_name': 'query_vector_db_articles', 'parameters': {'query': 'Low titers of SARS-CoV-2 neutralizing antibodies after first vaccination dose in cancer patients receiving checkpoint inhibitors.', 'metadata': {'title': 'article_title'}}}\n",
      "\u001b[0mNo results found, Looking for the article online\n",
      "No similar articles found on PubMed.\n",
      "\u001b[36;1m\u001b[1;3mNone\u001b[0m\u001b[32;1m\u001b[1;3m\n",
      "I could not find the paper. I will now search for the title of the paper to see if I can find it that way.\n",
      "{'tool_name': 'query_vector_db_articles', 'parameters': {'query': 'Low titers of SARS-CoV-2 neutralizing antibodies after first vaccination dose in cancer patients receiving checkpoint inhibitors.', 'metadata': {}}}\n",
      "\u001b[0m\u001b[36;1m\u001b[1;3m[Document(page_content='Terpos\\xa0 et\\xa0al. J Hematol Oncol           (2021) 14:86  \\nhttps://doi.org/10.1186/s13045-021-01099-x\\nLETTER TO THE EDITOR\\nLow titers of\\xa0SARS -CoV -2 neutralizing \\nantibodies after\\xa0first vaccination dose in\\xa0cancer \\npatients receiving checkpoint inhibitors\\nEvangelos Terpos1* , Flora Zagouri1, Michalis Liontos1, Aimilia D. Sklirou2, Konstantinos Koutsoukos1, \\nChristos Markellos1, Alexandros Briasoulis1, Eleni‑Dimitra Papanagnou2, Ioannis P . Trougakos2 and \\nMeletios‑Athanasios Dimopoulos1 \\nAbstract \\nVaccination for SARS‑ CoV‑2 provides significant protection against the infection in the general population. However, \\nonly limited data exist for patients with cancer under systemic therapy. Based on this, our site has initiated a study \\nevaluating safety and efficacy of SARS‑ CoV‑2 vaccination in patients with solid and hematological malignancies under \\nseveral systemic therapies. The initial results of the cohort of 59 patients receiving Immune Checkpoint Inhibitors are \\npresented here. Despite no new safety issues have been noticed, the levels of SARS‑ CoV‑2 neutralizing antibodies are \\nsignificantly lower in comparison to matched healthy volunteers up to day 22 post the first dose. These results should \\nbe taken into consideration for the patients under treatment.\\nKeywords: SARS‑ CoV‑2, Vaccination, Cancer, Immune checkpoint inhibitors, BNT162b2, AZD1222\\n© The Author(s) 2021. Open Access This article is licensed under a Creative Commons Attribution 4.0 International License, which \\npermits use, sharing, adaptation, distribution and reproduction in any medium or format, as long as you give appropriate credit to the \\noriginal author(s) and the source, provide a link to the Creative Commons licence, and indicate if changes were made. The images or \\nother third party material in this article are included in the article’s Creative Commons licence, unless indicated otherwise in a credit line \\nto the material. If material is not included in the article’s Creative Commons licence and your intended use is not permitted by statutory \\nregulation or exceeds the permitted use, you will need to obtain permission directly from the copyright holder. To view a copy of this \\nlicence, visit http:// creat iveco mmons. org/ licen ses/ by/4. 0/. The Creative Commons Public Domain Dedication waiver (http:// creat iveco  \\nmmons. org/ publi cdoma in/ zero/1. 0/) applies to the data made available in this article, unless otherwise stated in a credit line to the data.To the Editor,\\nPatients with cancer are considered vulnerable to SARS-\\nCoV-2 infection [1] and have been prioritized in the vac -\\ncination process in several countries including Greece. \\nIn addition, international oncological societies favored \\nCOVID-19 vaccination for cancer patients on the basis \\nof risk and benefits evaluation of all available data. How -\\never, patients with cancer were excluded from SARS-\\nCoV-2 vaccines registrational trials [2, 3] and we lack \\ndata regarding the safety and efficacy of vaccination in \\nthis population. Under this perspective, we undertook \\na large prospective study (NCT04743388) enrolling \\npatients with solid cancers, hematologic malignancies as well as healthy volunteers for the kinetics of anti-\\nSARS-CoV-2 antibodies after COVID-19 vaccination \\n[4]. Herein, we report the development of neutralizing \\nantibodies (NAbs) against SARS-CoV-2 in patients with \\nsolid tumors receiving immune checkpoint inhibitors \\n(ICIs) after the first dose of the BNT162b2 and AZD1222 \\nvaccines. Major inclusion criteria for this cohort of the \\nstudy included: (1) age above 18\\xa0 years; (2) presence of \\nsolid organ malignancies treated with immunotherapy \\nirrespective of the treatment phase; and (3) eligibility for \\nvaccination.\\nThe serum of both patients and controls was collected \\non day 1 prior to vaccination and on day 22. NAbs against \\nSARS-CoV-2 were measured using FDA approved meth -\\nodology (ELISA, cPass™ SARS-CoV-2 NAbs Detection', metadata={'page': 0.0, 'source': '.saved_pdfs/10.1186_s13045-021-01099-x.pdf', 'title': 'Low titers of SARS-CoV-2 neutralizing antibodies after first vaccination dose in cancer patients receiving checkpoint inhibitors.'}), Document(page_content='Terpos\\xa0 et\\xa0al. J Hematol Oncol           (2021) 14:86  \\nhttps://doi.org/10.1186/s13045-021-01099-x\\nLETTER TO THE EDITOR\\nLow titers of\\xa0SARS -CoV -2 neutralizing \\nantibodies after\\xa0first vaccination dose in\\xa0cancer \\npatients receiving checkpoint inhibitors\\nEvangelos Terpos1* , Flora Zagouri1, Michalis Liontos1, Aimilia D. Sklirou2, Konstantinos Koutsoukos1, \\nChristos Markellos1, Alexandros Briasoulis1, Eleni‑Dimitra Papanagnou2, Ioannis P . Trougakos2 and \\nMeletios‑Athanasios Dimopoulos1 \\nAbstract \\nVaccination for SARS‑ CoV‑2 provides significant protection against the infection in the general population. However, \\nonly limited data exist for patients with cancer under systemic therapy. Based on this, our site has initiated a study \\nevaluating safety and efficacy of SARS‑ CoV‑2 vaccination in patients with solid and hematological malignancies under \\nseveral systemic therapies. The initial results of the cohort of 59 patients receiving Immune Checkpoint Inhibitors are \\npresented here. Despite no new safety issues have been noticed, the levels of SARS‑ CoV‑2 neutralizing antibodies are \\nsignificantly lower in comparison to matched healthy volunteers up to day 22 post the first dose. These results should \\nbe taken into consideration for the patients under treatment.\\nKeywords: SARS‑ CoV‑2, Vaccination, Cancer, Immune checkpoint inhibitors, BNT162b2, AZD1222\\n© The Author(s) 2021. Open Access This article is licensed under a Creative Commons Attribution 4.0 International License, which \\npermits use, sharing, adaptation, distribution and reproduction in any medium or format, as long as you give appropriate credit to the \\noriginal author(s) and the source, provide a link to the Creative Commons licence, and indicate if changes were made. The images or \\nother third party material in this article are included in the article’s Creative Commons licence, unless indicated otherwise in a credit line \\nto the material. If material is not included in the article’s Creative Commons licence and your intended use is not permitted by statutory \\nregulation or exceeds the permitted use, you will need to obtain permission directly from the copyright holder. To view a copy of this \\nlicence, visit http:// creat iveco mmons. org/ licen ses/ by/4. 0/. The Creative Commons Public Domain Dedication waiver (http:// creat iveco  \\nmmons. org/ publi cdoma in/ zero/1. 0/) applies to the data made available in this article, unless otherwise stated in a credit line to the data.To the Editor,\\nPatients with cancer are considered vulnerable to SARS-\\nCoV-2 infection [1] and have been prioritized in the vac -\\ncination process in several countries including Greece. \\nIn addition, international oncological societies favored \\nCOVID-19 vaccination for cancer patients on the basis \\nof risk and benefits evaluation of all available data. How -\\never, patients with cancer were excluded from SARS-\\nCoV-2 vaccines registrational trials [2, 3] and we lack \\ndata regarding the safety and efficacy of vaccination in \\nthis population. Under this perspective, we undertook \\na large prospective study (NCT04743388) enrolling \\npatients with solid cancers, hematologic malignancies as well as healthy volunteers for the kinetics of anti-\\nSARS-CoV-2 antibodies after COVID-19 vaccination \\n[4]. Herein, we report the development of neutralizing \\nantibodies (NAbs) against SARS-CoV-2 in patients with \\nsolid tumors receiving immune checkpoint inhibitors \\n(ICIs) after the first dose of the BNT162b2 and AZD1222 \\nvaccines. Major inclusion criteria for this cohort of the \\nstudy included: (1) age above 18\\xa0 years; (2) presence of \\nsolid organ malignancies treated with immunotherapy \\nirrespective of the treatment phase; and (3) eligibility for \\nvaccination.\\nThe serum of both patients and controls was collected \\non day 1 prior to vaccination and on day 22. NAbs against \\nSARS-CoV-2 were measured using FDA approved meth -\\nodology (ELISA, cPass™ SARS-CoV-2 NAbs Detection', metadata={'page': 0.0, 'source': '.saved_pdfs/10.1186_s13045-021-01099-x.pdf', 'title': 'Low titers of SARS-CoV-2 neutralizing antibodies after first vaccination dose in cancer patients receiving checkpoint inhibitors.'}), Document(page_content='Page 3 of 4\\n Terpos\\xa0et\\xa0al. J Hematol Oncol           (2021) 14:86 \\n \\nAbbreviations\\nICIs: Immune checkpoint inhibitors; NAbs: Neutralizing antibodies; IQR: Inter ‑\\nquartile range.\\nSupplementary Information\\nThe online version contains supplementary material available at https:// doi. \\norg/ 10. 1186/ s13045‑ 021‑ 01099‑x.\\nAdditional file\\xa01. Table\\xa0S1: Detailed characteristics of patients\\nAcknowledgements\\nWe thank Abis Cohen MD; Ioanna Charitaki, RN; Ioanna Katsiana RN; Tina \\nBagratuni, PhD; Christine Ivy Liacos, PhD; Nikoletta‑Aikaterini Kokkali, RN; Nefeli \\nMavrianou‑Koutsoukou, PhD; Dimitrios Patseas, PhD and Mrs Stamatia Skourti \\nfor administrative, technical, or material support; Sentiljana Gumeni, PhD \\nfor acquisition, analysis, or interpretation of data. We also thank SYN‑ENOSIS \\n(Greece), AEGEAS (Greece) and IEMBITHEK (Greece) for partially funding this \\nstudy, as well as all of the study participants for donating their time and \\nsamples.\\nAuthors’ contributions\\nET designed research, performed research, analyzed data and wrote the paper. \\nIPT and MAD contributed vital new reagents or analytical tools, performed \\nresearch, analyzed data, reviewed all paper drafts and gave approval to final \\nversion. FZ, ML, ADS, KK, CM, AB, EDP performed research, analyzed data, \\nreviewed all paper drafts and gave approval to final version. All authors read \\nand approved the final manuscript.Funding\\nSYN‑ENOSIS (Greece), AEGEAS (Greece) and IEMBITHEK (Greece) partially \\nfunded this study.\\nAvailability of data and materials\\nAll data generated or analysed during this study are included in this published \\narticle and its supplementary information file.\\nDeclarations\\nEthics approval and consent to participate\\nDescribed within the letter. The study was approved by the respective Ethi‑\\ncal Committees (Alexandra Hospital Ethics Committee, Reference Number: \\n900/24‑12‑2020) in accordance with the Declaration of Helsinki and the Inter ‑\\nnational Conference on Harmonization for Good Clinical Practice. All patients \\nand controls provided written informed consent prior enrollment in the study.\\nConsent for publication\\nNot applicable.\\nCompeting interests\\nWe declare no competing interests.\\nAuthor details\\n1 Department of Clinical Therapeutics, School of Medicine, Alexandra General \\nHospital, National and Kapodistrian University of Athens, 80 Vas. Sofias Avenue, \\n11528 Athens, Greece. 2 Department of Cell Biology and Biophysics, Faculty \\nof Biology, National and Kapodistrian University of Athens, Athens, Greece. \\nFig. 1 Kinetics of neutralizing antibodies in patients receiving immunotherapy and matched controls after vaccination with the first dose of the \\nBNT162b2, mRNA‑1273 and AZD1222 vaccine. On D22, patients had lower production of NAb inhibition titers compared to controls of similar age \\nand gender (see text). Only 6 patients (10.7%) had NAb titers of equal or more than 50%', metadata={'page': 2.0, 'source': '.saved_pdfs/10.1186_s13045-021-01099-x.pdf', 'title': 'Low titers of SARS-CoV-2 neutralizing antibodies after first vaccination dose in cancer patients receiving checkpoint inhibitors.'})]\u001b[0m\u001b[32;1m\u001b[1;3mRelevant Documents: 1,2,3\n",
      "Cited Documents: 1,2,3\n",
      "Answer: The paper found that the levels of SARS-CoV-2 neutralizing antibodies were significantly lower in cancer patients receiving checkpoint inhibitors compared to matched healthy volunteers up to day 22 post the first dose. The study also found that there were no new safety issues noticed. The authors suggest that these results should be taken into consideration for patients under treatment.\n",
      "Grounded answer: The paper found that the <co: 1,2>levels of SARS-CoV-2 neutralizing antibodies were significantly lower</co: 1,2> in cancer patients receiving checkpoint inhibitors <co: 1,2>compared to matched healthy volunteers</co: 1,2> <co: 1,2>up to day 22 post the first dose</co: 1,2>. The study also found that there were <co: 1,2>no new safety issues noticed</co: 1,2>. The authors suggest that these <co: 1,2>results should be taken into consideration for patients under treatment</co: 1,2>.\u001b[0m\n",
      "\n",
      "\u001b[1m> Finished chain.\u001b[0m\n"
     ]
    },
    {
     "data": {
      "text/plain": [
       "{'input': \"Summarize the main findings of the paper 'Low titers of SARS-CoV-2 neutralizing antibodies after first vaccination dose in cancer patients receiving checkpoint inhibitors.'?\",\n",
       " 'chat_history': [],\n",
       " 'output': 'The paper found that the levels of SARS-CoV-2 neutralizing antibodies were significantly lower in cancer patients receiving checkpoint inhibitors compared to matched healthy volunteers up to day 22 post the first dose. The study also found that there were no new safety issues noticed. The authors suggest that these results should be taken into consideration for patients under treatment.',\n",
       " 'citations': [CohereCitation(start=25, end=94, text='levels of SARS-CoV-2 neutralizing antibodies were significantly lower', documents=[{'output': Document(page_content='Terpos\\xa0 et\\xa0al. J Hematol Oncol           (2021) 14:86  \\nhttps://doi.org/10.1186/s13045-021-01099-x\\nLETTER TO THE EDITOR\\nLow titers of\\xa0SARS -CoV -2 neutralizing \\nantibodies after\\xa0first vaccination dose in\\xa0cancer \\npatients receiving checkpoint inhibitors\\nEvangelos Terpos1* , Flora Zagouri1, Michalis Liontos1, Aimilia D. Sklirou2, Konstantinos Koutsoukos1, \\nChristos Markellos1, Alexandros Briasoulis1, Eleni‑Dimitra Papanagnou2, Ioannis P . Trougakos2 and \\nMeletios‑Athanasios Dimopoulos1 \\nAbstract \\nVaccination for SARS‑ CoV‑2 provides significant protection against the infection in the general population. However, \\nonly limited data exist for patients with cancer under systemic therapy. Based on this, our site has initiated a study \\nevaluating safety and efficacy of SARS‑ CoV‑2 vaccination in patients with solid and hematological malignancies under \\nseveral systemic therapies. The initial results of the cohort of 59 patients receiving Immune Checkpoint Inhibitors are \\npresented here. Despite no new safety issues have been noticed, the levels of SARS‑ CoV‑2 neutralizing antibodies are \\nsignificantly lower in comparison to matched healthy volunteers up to day 22 post the first dose. These results should \\nbe taken into consideration for the patients under treatment.\\nKeywords: SARS‑ CoV‑2, Vaccination, Cancer, Immune checkpoint inhibitors, BNT162b2, AZD1222\\n© The Author(s) 2021. Open Access This article is licensed under a Creative Commons Attribution 4.0 International License, which \\npermits use, sharing, adaptation, distribution and reproduction in any medium or format, as long as you give appropriate credit to the \\noriginal author(s) and the source, provide a link to the Creative Commons licence, and indicate if changes were made. The images or \\nother third party material in this article are included in the article’s Creative Commons licence, unless indicated otherwise in a credit line \\nto the material. If material is not included in the article’s Creative Commons licence and your intended use is not permitted by statutory \\nregulation or exceeds the permitted use, you will need to obtain permission directly from the copyright holder. To view a copy of this \\nlicence, visit http:// creat iveco mmons. org/ licen ses/ by/4. 0/. The Creative Commons Public Domain Dedication waiver (http:// creat iveco  \\nmmons. org/ publi cdoma in/ zero/1. 0/) applies to the data made available in this article, unless otherwise stated in a credit line to the data.To the Editor,\\nPatients with cancer are considered vulnerable to SARS-\\nCoV-2 infection [1] and have been prioritized in the vac -\\ncination process in several countries including Greece. \\nIn addition, international oncological societies favored \\nCOVID-19 vaccination for cancer patients on the basis \\nof risk and benefits evaluation of all available data. How -\\never, patients with cancer were excluded from SARS-\\nCoV-2 vaccines registrational trials [2, 3] and we lack \\ndata regarding the safety and efficacy of vaccination in \\nthis population. Under this perspective, we undertook \\na large prospective study (NCT04743388) enrolling \\npatients with solid cancers, hematologic malignancies as well as healthy volunteers for the kinetics of anti-\\nSARS-CoV-2 antibodies after COVID-19 vaccination \\n[4]. Herein, we report the development of neutralizing \\nantibodies (NAbs) against SARS-CoV-2 in patients with \\nsolid tumors receiving immune checkpoint inhibitors \\n(ICIs) after the first dose of the BNT162b2 and AZD1222 \\nvaccines. Major inclusion criteria for this cohort of the \\nstudy included: (1) age above 18\\xa0 years; (2) presence of \\nsolid organ malignancies treated with immunotherapy \\nirrespective of the treatment phase; and (3) eligibility for \\nvaccination.\\nThe serum of both patients and controls was collected \\non day 1 prior to vaccination and on day 22. NAbs against \\nSARS-CoV-2 were measured using FDA approved meth -\\nodology (ELISA, cPass™ SARS-CoV-2 NAbs Detection', metadata={'page': 0.0, 'source': '.saved_pdfs/10.1186_s13045-021-01099-x.pdf', 'title': 'Low titers of SARS-CoV-2 neutralizing antibodies after first vaccination dose in cancer patients receiving checkpoint inhibitors.'}), 'id': 'doc_1'}, {'output': Document(page_content='Terpos\\xa0 et\\xa0al. J Hematol Oncol           (2021) 14:86  \\nhttps://doi.org/10.1186/s13045-021-01099-x\\nLETTER TO THE EDITOR\\nLow titers of\\xa0SARS -CoV -2 neutralizing \\nantibodies after\\xa0first vaccination dose in\\xa0cancer \\npatients receiving checkpoint inhibitors\\nEvangelos Terpos1* , Flora Zagouri1, Michalis Liontos1, Aimilia D. Sklirou2, Konstantinos Koutsoukos1, \\nChristos Markellos1, Alexandros Briasoulis1, Eleni‑Dimitra Papanagnou2, Ioannis P . Trougakos2 and \\nMeletios‑Athanasios Dimopoulos1 \\nAbstract \\nVaccination for SARS‑ CoV‑2 provides significant protection against the infection in the general population. However, \\nonly limited data exist for patients with cancer under systemic therapy. Based on this, our site has initiated a study \\nevaluating safety and efficacy of SARS‑ CoV‑2 vaccination in patients with solid and hematological malignancies under \\nseveral systemic therapies. The initial results of the cohort of 59 patients receiving Immune Checkpoint Inhibitors are \\npresented here. Despite no new safety issues have been noticed, the levels of SARS‑ CoV‑2 neutralizing antibodies are \\nsignificantly lower in comparison to matched healthy volunteers up to day 22 post the first dose. These results should \\nbe taken into consideration for the patients under treatment.\\nKeywords: SARS‑ CoV‑2, Vaccination, Cancer, Immune checkpoint inhibitors, BNT162b2, AZD1222\\n© The Author(s) 2021. Open Access This article is licensed under a Creative Commons Attribution 4.0 International License, which \\npermits use, sharing, adaptation, distribution and reproduction in any medium or format, as long as you give appropriate credit to the \\noriginal author(s) and the source, provide a link to the Creative Commons licence, and indicate if changes were made. The images or \\nother third party material in this article are included in the article’s Creative Commons licence, unless indicated otherwise in a credit line \\nto the material. If material is not included in the article’s Creative Commons licence and your intended use is not permitted by statutory \\nregulation or exceeds the permitted use, you will need to obtain permission directly from the copyright holder. To view a copy of this \\nlicence, visit http:// creat iveco mmons. org/ licen ses/ by/4. 0/. The Creative Commons Public Domain Dedication waiver (http:// creat iveco  \\nmmons. org/ publi cdoma in/ zero/1. 0/) applies to the data made available in this article, unless otherwise stated in a credit line to the data.To the Editor,\\nPatients with cancer are considered vulnerable to SARS-\\nCoV-2 infection [1] and have been prioritized in the vac -\\ncination process in several countries including Greece. \\nIn addition, international oncological societies favored \\nCOVID-19 vaccination for cancer patients on the basis \\nof risk and benefits evaluation of all available data. How -\\never, patients with cancer were excluded from SARS-\\nCoV-2 vaccines registrational trials [2, 3] and we lack \\ndata regarding the safety and efficacy of vaccination in \\nthis population. Under this perspective, we undertook \\na large prospective study (NCT04743388) enrolling \\npatients with solid cancers, hematologic malignancies as well as healthy volunteers for the kinetics of anti-\\nSARS-CoV-2 antibodies after COVID-19 vaccination \\n[4]. Herein, we report the development of neutralizing \\nantibodies (NAbs) against SARS-CoV-2 in patients with \\nsolid tumors receiving immune checkpoint inhibitors \\n(ICIs) after the first dose of the BNT162b2 and AZD1222 \\nvaccines. Major inclusion criteria for this cohort of the \\nstudy included: (1) age above 18\\xa0 years; (2) presence of \\nsolid organ malignancies treated with immunotherapy \\nirrespective of the treatment phase; and (3) eligibility for \\nvaccination.\\nThe serum of both patients and controls was collected \\non day 1 prior to vaccination and on day 22. NAbs against \\nSARS-CoV-2 were measured using FDA approved meth -\\nodology (ELISA, cPass™ SARS-CoV-2 NAbs Detection', metadata={'page': 0.0, 'source': '.saved_pdfs/10.1186_s13045-021-01099-x.pdf', 'title': 'Low titers of SARS-CoV-2 neutralizing antibodies after first vaccination dose in cancer patients receiving checkpoint inhibitors.'}), 'id': 'doc_2'}], document_ids={'doc_1', 'doc_2'}),\n",
       "  CohereCitation(start=146, end=184, text='compared to matched healthy volunteers', documents=[{'output': Document(page_content='Terpos\\xa0 et\\xa0al. J Hematol Oncol           (2021) 14:86  \\nhttps://doi.org/10.1186/s13045-021-01099-x\\nLETTER TO THE EDITOR\\nLow titers of\\xa0SARS -CoV -2 neutralizing \\nantibodies after\\xa0first vaccination dose in\\xa0cancer \\npatients receiving checkpoint inhibitors\\nEvangelos Terpos1* , Flora Zagouri1, Michalis Liontos1, Aimilia D. Sklirou2, Konstantinos Koutsoukos1, \\nChristos Markellos1, Alexandros Briasoulis1, Eleni‑Dimitra Papanagnou2, Ioannis P . Trougakos2 and \\nMeletios‑Athanasios Dimopoulos1 \\nAbstract \\nVaccination for SARS‑ CoV‑2 provides significant protection against the infection in the general population. However, \\nonly limited data exist for patients with cancer under systemic therapy. Based on this, our site has initiated a study \\nevaluating safety and efficacy of SARS‑ CoV‑2 vaccination in patients with solid and hematological malignancies under \\nseveral systemic therapies. The initial results of the cohort of 59 patients receiving Immune Checkpoint Inhibitors are \\npresented here. Despite no new safety issues have been noticed, the levels of SARS‑ CoV‑2 neutralizing antibodies are \\nsignificantly lower in comparison to matched healthy volunteers up to day 22 post the first dose. These results should \\nbe taken into consideration for the patients under treatment.\\nKeywords: SARS‑ CoV‑2, Vaccination, Cancer, Immune checkpoint inhibitors, BNT162b2, AZD1222\\n© The Author(s) 2021. Open Access This article is licensed under a Creative Commons Attribution 4.0 International License, which \\npermits use, sharing, adaptation, distribution and reproduction in any medium or format, as long as you give appropriate credit to the \\noriginal author(s) and the source, provide a link to the Creative Commons licence, and indicate if changes were made. The images or \\nother third party material in this article are included in the article’s Creative Commons licence, unless indicated otherwise in a credit line \\nto the material. If material is not included in the article’s Creative Commons licence and your intended use is not permitted by statutory \\nregulation or exceeds the permitted use, you will need to obtain permission directly from the copyright holder. To view a copy of this \\nlicence, visit http:// creat iveco mmons. org/ licen ses/ by/4. 0/. The Creative Commons Public Domain Dedication waiver (http:// creat iveco  \\nmmons. org/ publi cdoma in/ zero/1. 0/) applies to the data made available in this article, unless otherwise stated in a credit line to the data.To the Editor,\\nPatients with cancer are considered vulnerable to SARS-\\nCoV-2 infection [1] and have been prioritized in the vac -\\ncination process in several countries including Greece. \\nIn addition, international oncological societies favored \\nCOVID-19 vaccination for cancer patients on the basis \\nof risk and benefits evaluation of all available data. How -\\never, patients with cancer were excluded from SARS-\\nCoV-2 vaccines registrational trials [2, 3] and we lack \\ndata regarding the safety and efficacy of vaccination in \\nthis population. Under this perspective, we undertook \\na large prospective study (NCT04743388) enrolling \\npatients with solid cancers, hematologic malignancies as well as healthy volunteers for the kinetics of anti-\\nSARS-CoV-2 antibodies after COVID-19 vaccination \\n[4]. Herein, we report the development of neutralizing \\nantibodies (NAbs) against SARS-CoV-2 in patients with \\nsolid tumors receiving immune checkpoint inhibitors \\n(ICIs) after the first dose of the BNT162b2 and AZD1222 \\nvaccines. Major inclusion criteria for this cohort of the \\nstudy included: (1) age above 18\\xa0 years; (2) presence of \\nsolid organ malignancies treated with immunotherapy \\nirrespective of the treatment phase; and (3) eligibility for \\nvaccination.\\nThe serum of both patients and controls was collected \\non day 1 prior to vaccination and on day 22. NAbs against \\nSARS-CoV-2 were measured using FDA approved meth -\\nodology (ELISA, cPass™ SARS-CoV-2 NAbs Detection', metadata={'page': 0.0, 'source': '.saved_pdfs/10.1186_s13045-021-01099-x.pdf', 'title': 'Low titers of SARS-CoV-2 neutralizing antibodies after first vaccination dose in cancer patients receiving checkpoint inhibitors.'}), 'id': 'doc_1'}, {'output': Document(page_content='Terpos\\xa0 et\\xa0al. J Hematol Oncol           (2021) 14:86  \\nhttps://doi.org/10.1186/s13045-021-01099-x\\nLETTER TO THE EDITOR\\nLow titers of\\xa0SARS -CoV -2 neutralizing \\nantibodies after\\xa0first vaccination dose in\\xa0cancer \\npatients receiving checkpoint inhibitors\\nEvangelos Terpos1* , Flora Zagouri1, Michalis Liontos1, Aimilia D. Sklirou2, Konstantinos Koutsoukos1, \\nChristos Markellos1, Alexandros Briasoulis1, Eleni‑Dimitra Papanagnou2, Ioannis P . Trougakos2 and \\nMeletios‑Athanasios Dimopoulos1 \\nAbstract \\nVaccination for SARS‑ CoV‑2 provides significant protection against the infection in the general population. However, \\nonly limited data exist for patients with cancer under systemic therapy. Based on this, our site has initiated a study \\nevaluating safety and efficacy of SARS‑ CoV‑2 vaccination in patients with solid and hematological malignancies under \\nseveral systemic therapies. The initial results of the cohort of 59 patients receiving Immune Checkpoint Inhibitors are \\npresented here. Despite no new safety issues have been noticed, the levels of SARS‑ CoV‑2 neutralizing antibodies are \\nsignificantly lower in comparison to matched healthy volunteers up to day 22 post the first dose. These results should \\nbe taken into consideration for the patients under treatment.\\nKeywords: SARS‑ CoV‑2, Vaccination, Cancer, Immune checkpoint inhibitors, BNT162b2, AZD1222\\n© The Author(s) 2021. Open Access This article is licensed under a Creative Commons Attribution 4.0 International License, which \\npermits use, sharing, adaptation, distribution and reproduction in any medium or format, as long as you give appropriate credit to the \\noriginal author(s) and the source, provide a link to the Creative Commons licence, and indicate if changes were made. The images or \\nother third party material in this article are included in the article’s Creative Commons licence, unless indicated otherwise in a credit line \\nto the material. If material is not included in the article’s Creative Commons licence and your intended use is not permitted by statutory \\nregulation or exceeds the permitted use, you will need to obtain permission directly from the copyright holder. To view a copy of this \\nlicence, visit http:// creat iveco mmons. org/ licen ses/ by/4. 0/. The Creative Commons Public Domain Dedication waiver (http:// creat iveco  \\nmmons. org/ publi cdoma in/ zero/1. 0/) applies to the data made available in this article, unless otherwise stated in a credit line to the data.To the Editor,\\nPatients with cancer are considered vulnerable to SARS-\\nCoV-2 infection [1] and have been prioritized in the vac -\\ncination process in several countries including Greece. \\nIn addition, international oncological societies favored \\nCOVID-19 vaccination for cancer patients on the basis \\nof risk and benefits evaluation of all available data. How -\\never, patients with cancer were excluded from SARS-\\nCoV-2 vaccines registrational trials [2, 3] and we lack \\ndata regarding the safety and efficacy of vaccination in \\nthis population. Under this perspective, we undertook \\na large prospective study (NCT04743388) enrolling \\npatients with solid cancers, hematologic malignancies as well as healthy volunteers for the kinetics of anti-\\nSARS-CoV-2 antibodies after COVID-19 vaccination \\n[4]. Herein, we report the development of neutralizing \\nantibodies (NAbs) against SARS-CoV-2 in patients with \\nsolid tumors receiving immune checkpoint inhibitors \\n(ICIs) after the first dose of the BNT162b2 and AZD1222 \\nvaccines. Major inclusion criteria for this cohort of the \\nstudy included: (1) age above 18\\xa0 years; (2) presence of \\nsolid organ malignancies treated with immunotherapy \\nirrespective of the treatment phase; and (3) eligibility for \\nvaccination.\\nThe serum of both patients and controls was collected \\non day 1 prior to vaccination and on day 22. NAbs against \\nSARS-CoV-2 were measured using FDA approved meth -\\nodology (ELISA, cPass™ SARS-CoV-2 NAbs Detection', metadata={'page': 0.0, 'source': '.saved_pdfs/10.1186_s13045-021-01099-x.pdf', 'title': 'Low titers of SARS-CoV-2 neutralizing antibodies after first vaccination dose in cancer patients receiving checkpoint inhibitors.'}), 'id': 'doc_2'}], document_ids={'doc_1', 'doc_2'}),\n",
       "  CohereCitation(start=185, end=217, text='up to day 22 post the first dose', documents=[{'output': Document(page_content='Terpos\\xa0 et\\xa0al. J Hematol Oncol           (2021) 14:86  \\nhttps://doi.org/10.1186/s13045-021-01099-x\\nLETTER TO THE EDITOR\\nLow titers of\\xa0SARS -CoV -2 neutralizing \\nantibodies after\\xa0first vaccination dose in\\xa0cancer \\npatients receiving checkpoint inhibitors\\nEvangelos Terpos1* , Flora Zagouri1, Michalis Liontos1, Aimilia D. Sklirou2, Konstantinos Koutsoukos1, \\nChristos Markellos1, Alexandros Briasoulis1, Eleni‑Dimitra Papanagnou2, Ioannis P . Trougakos2 and \\nMeletios‑Athanasios Dimopoulos1 \\nAbstract \\nVaccination for SARS‑ CoV‑2 provides significant protection against the infection in the general population. However, \\nonly limited data exist for patients with cancer under systemic therapy. Based on this, our site has initiated a study \\nevaluating safety and efficacy of SARS‑ CoV‑2 vaccination in patients with solid and hematological malignancies under \\nseveral systemic therapies. The initial results of the cohort of 59 patients receiving Immune Checkpoint Inhibitors are \\npresented here. Despite no new safety issues have been noticed, the levels of SARS‑ CoV‑2 neutralizing antibodies are \\nsignificantly lower in comparison to matched healthy volunteers up to day 22 post the first dose. These results should \\nbe taken into consideration for the patients under treatment.\\nKeywords: SARS‑ CoV‑2, Vaccination, Cancer, Immune checkpoint inhibitors, BNT162b2, AZD1222\\n© The Author(s) 2021. Open Access This article is licensed under a Creative Commons Attribution 4.0 International License, which \\npermits use, sharing, adaptation, distribution and reproduction in any medium or format, as long as you give appropriate credit to the \\noriginal author(s) and the source, provide a link to the Creative Commons licence, and indicate if changes were made. The images or \\nother third party material in this article are included in the article’s Creative Commons licence, unless indicated otherwise in a credit line \\nto the material. If material is not included in the article’s Creative Commons licence and your intended use is not permitted by statutory \\nregulation or exceeds the permitted use, you will need to obtain permission directly from the copyright holder. To view a copy of this \\nlicence, visit http:// creat iveco mmons. org/ licen ses/ by/4. 0/. The Creative Commons Public Domain Dedication waiver (http:// creat iveco  \\nmmons. org/ publi cdoma in/ zero/1. 0/) applies to the data made available in this article, unless otherwise stated in a credit line to the data.To the Editor,\\nPatients with cancer are considered vulnerable to SARS-\\nCoV-2 infection [1] and have been prioritized in the vac -\\ncination process in several countries including Greece. \\nIn addition, international oncological societies favored \\nCOVID-19 vaccination for cancer patients on the basis \\nof risk and benefits evaluation of all available data. How -\\never, patients with cancer were excluded from SARS-\\nCoV-2 vaccines registrational trials [2, 3] and we lack \\ndata regarding the safety and efficacy of vaccination in \\nthis population. Under this perspective, we undertook \\na large prospective study (NCT04743388) enrolling \\npatients with solid cancers, hematologic malignancies as well as healthy volunteers for the kinetics of anti-\\nSARS-CoV-2 antibodies after COVID-19 vaccination \\n[4]. Herein, we report the development of neutralizing \\nantibodies (NAbs) against SARS-CoV-2 in patients with \\nsolid tumors receiving immune checkpoint inhibitors \\n(ICIs) after the first dose of the BNT162b2 and AZD1222 \\nvaccines. Major inclusion criteria for this cohort of the \\nstudy included: (1) age above 18\\xa0 years; (2) presence of \\nsolid organ malignancies treated with immunotherapy \\nirrespective of the treatment phase; and (3) eligibility for \\nvaccination.\\nThe serum of both patients and controls was collected \\non day 1 prior to vaccination and on day 22. NAbs against \\nSARS-CoV-2 were measured using FDA approved meth -\\nodology (ELISA, cPass™ SARS-CoV-2 NAbs Detection', metadata={'page': 0.0, 'source': '.saved_pdfs/10.1186_s13045-021-01099-x.pdf', 'title': 'Low titers of SARS-CoV-2 neutralizing antibodies after first vaccination dose in cancer patients receiving checkpoint inhibitors.'}), 'id': 'doc_1'}, {'output': Document(page_content='Terpos\\xa0 et\\xa0al. J Hematol Oncol           (2021) 14:86  \\nhttps://doi.org/10.1186/s13045-021-01099-x\\nLETTER TO THE EDITOR\\nLow titers of\\xa0SARS -CoV -2 neutralizing \\nantibodies after\\xa0first vaccination dose in\\xa0cancer \\npatients receiving checkpoint inhibitors\\nEvangelos Terpos1* , Flora Zagouri1, Michalis Liontos1, Aimilia D. Sklirou2, Konstantinos Koutsoukos1, \\nChristos Markellos1, Alexandros Briasoulis1, Eleni‑Dimitra Papanagnou2, Ioannis P . Trougakos2 and \\nMeletios‑Athanasios Dimopoulos1 \\nAbstract \\nVaccination for SARS‑ CoV‑2 provides significant protection against the infection in the general population. However, \\nonly limited data exist for patients with cancer under systemic therapy. Based on this, our site has initiated a study \\nevaluating safety and efficacy of SARS‑ CoV‑2 vaccination in patients with solid and hematological malignancies under \\nseveral systemic therapies. The initial results of the cohort of 59 patients receiving Immune Checkpoint Inhibitors are \\npresented here. Despite no new safety issues have been noticed, the levels of SARS‑ CoV‑2 neutralizing antibodies are \\nsignificantly lower in comparison to matched healthy volunteers up to day 22 post the first dose. These results should \\nbe taken into consideration for the patients under treatment.\\nKeywords: SARS‑ CoV‑2, Vaccination, Cancer, Immune checkpoint inhibitors, BNT162b2, AZD1222\\n© The Author(s) 2021. Open Access This article is licensed under a Creative Commons Attribution 4.0 International License, which \\npermits use, sharing, adaptation, distribution and reproduction in any medium or format, as long as you give appropriate credit to the \\noriginal author(s) and the source, provide a link to the Creative Commons licence, and indicate if changes were made. The images or \\nother third party material in this article are included in the article’s Creative Commons licence, unless indicated otherwise in a credit line \\nto the material. If material is not included in the article’s Creative Commons licence and your intended use is not permitted by statutory \\nregulation or exceeds the permitted use, you will need to obtain permission directly from the copyright holder. To view a copy of this \\nlicence, visit http:// creat iveco mmons. org/ licen ses/ by/4. 0/. The Creative Commons Public Domain Dedication waiver (http:// creat iveco  \\nmmons. org/ publi cdoma in/ zero/1. 0/) applies to the data made available in this article, unless otherwise stated in a credit line to the data.To the Editor,\\nPatients with cancer are considered vulnerable to SARS-\\nCoV-2 infection [1] and have been prioritized in the vac -\\ncination process in several countries including Greece. \\nIn addition, international oncological societies favored \\nCOVID-19 vaccination for cancer patients on the basis \\nof risk and benefits evaluation of all available data. How -\\never, patients with cancer were excluded from SARS-\\nCoV-2 vaccines registrational trials [2, 3] and we lack \\ndata regarding the safety and efficacy of vaccination in \\nthis population. Under this perspective, we undertook \\na large prospective study (NCT04743388) enrolling \\npatients with solid cancers, hematologic malignancies as well as healthy volunteers for the kinetics of anti-\\nSARS-CoV-2 antibodies after COVID-19 vaccination \\n[4]. Herein, we report the development of neutralizing \\nantibodies (NAbs) against SARS-CoV-2 in patients with \\nsolid tumors receiving immune checkpoint inhibitors \\n(ICIs) after the first dose of the BNT162b2 and AZD1222 \\nvaccines. Major inclusion criteria for this cohort of the \\nstudy included: (1) age above 18\\xa0 years; (2) presence of \\nsolid organ malignancies treated with immunotherapy \\nirrespective of the treatment phase; and (3) eligibility for \\nvaccination.\\nThe serum of both patients and controls was collected \\non day 1 prior to vaccination and on day 22. NAbs against \\nSARS-CoV-2 were measured using FDA approved meth -\\nodology (ELISA, cPass™ SARS-CoV-2 NAbs Detection', metadata={'page': 0.0, 'source': '.saved_pdfs/10.1186_s13045-021-01099-x.pdf', 'title': 'Low titers of SARS-CoV-2 neutralizing antibodies after first vaccination dose in cancer patients receiving checkpoint inhibitors.'}), 'id': 'doc_2'}], document_ids={'doc_1', 'doc_2'}),\n",
       "  CohereCitation(start=256, end=284, text='no new safety issues noticed', documents=[{'output': Document(page_content='Terpos\\xa0 et\\xa0al. J Hematol Oncol           (2021) 14:86  \\nhttps://doi.org/10.1186/s13045-021-01099-x\\nLETTER TO THE EDITOR\\nLow titers of\\xa0SARS -CoV -2 neutralizing \\nantibodies after\\xa0first vaccination dose in\\xa0cancer \\npatients receiving checkpoint inhibitors\\nEvangelos Terpos1* , Flora Zagouri1, Michalis Liontos1, Aimilia D. Sklirou2, Konstantinos Koutsoukos1, \\nChristos Markellos1, Alexandros Briasoulis1, Eleni‑Dimitra Papanagnou2, Ioannis P . Trougakos2 and \\nMeletios‑Athanasios Dimopoulos1 \\nAbstract \\nVaccination for SARS‑ CoV‑2 provides significant protection against the infection in the general population. However, \\nonly limited data exist for patients with cancer under systemic therapy. Based on this, our site has initiated a study \\nevaluating safety and efficacy of SARS‑ CoV‑2 vaccination in patients with solid and hematological malignancies under \\nseveral systemic therapies. The initial results of the cohort of 59 patients receiving Immune Checkpoint Inhibitors are \\npresented here. Despite no new safety issues have been noticed, the levels of SARS‑ CoV‑2 neutralizing antibodies are \\nsignificantly lower in comparison to matched healthy volunteers up to day 22 post the first dose. These results should \\nbe taken into consideration for the patients under treatment.\\nKeywords: SARS‑ CoV‑2, Vaccination, Cancer, Immune checkpoint inhibitors, BNT162b2, AZD1222\\n© The Author(s) 2021. Open Access This article is licensed under a Creative Commons Attribution 4.0 International License, which \\npermits use, sharing, adaptation, distribution and reproduction in any medium or format, as long as you give appropriate credit to the \\noriginal author(s) and the source, provide a link to the Creative Commons licence, and indicate if changes were made. The images or \\nother third party material in this article are included in the article’s Creative Commons licence, unless indicated otherwise in a credit line \\nto the material. If material is not included in the article’s Creative Commons licence and your intended use is not permitted by statutory \\nregulation or exceeds the permitted use, you will need to obtain permission directly from the copyright holder. To view a copy of this \\nlicence, visit http:// creat iveco mmons. org/ licen ses/ by/4. 0/. The Creative Commons Public Domain Dedication waiver (http:// creat iveco  \\nmmons. org/ publi cdoma in/ zero/1. 0/) applies to the data made available in this article, unless otherwise stated in a credit line to the data.To the Editor,\\nPatients with cancer are considered vulnerable to SARS-\\nCoV-2 infection [1] and have been prioritized in the vac -\\ncination process in several countries including Greece. \\nIn addition, international oncological societies favored \\nCOVID-19 vaccination for cancer patients on the basis \\nof risk and benefits evaluation of all available data. How -\\never, patients with cancer were excluded from SARS-\\nCoV-2 vaccines registrational trials [2, 3] and we lack \\ndata regarding the safety and efficacy of vaccination in \\nthis population. Under this perspective, we undertook \\na large prospective study (NCT04743388) enrolling \\npatients with solid cancers, hematologic malignancies as well as healthy volunteers for the kinetics of anti-\\nSARS-CoV-2 antibodies after COVID-19 vaccination \\n[4]. Herein, we report the development of neutralizing \\nantibodies (NAbs) against SARS-CoV-2 in patients with \\nsolid tumors receiving immune checkpoint inhibitors \\n(ICIs) after the first dose of the BNT162b2 and AZD1222 \\nvaccines. Major inclusion criteria for this cohort of the \\nstudy included: (1) age above 18\\xa0 years; (2) presence of \\nsolid organ malignancies treated with immunotherapy \\nirrespective of the treatment phase; and (3) eligibility for \\nvaccination.\\nThe serum of both patients and controls was collected \\non day 1 prior to vaccination and on day 22. NAbs against \\nSARS-CoV-2 were measured using FDA approved meth -\\nodology (ELISA, cPass™ SARS-CoV-2 NAbs Detection', metadata={'page': 0.0, 'source': '.saved_pdfs/10.1186_s13045-021-01099-x.pdf', 'title': 'Low titers of SARS-CoV-2 neutralizing antibodies after first vaccination dose in cancer patients receiving checkpoint inhibitors.'}), 'id': 'doc_1'}, {'output': Document(page_content='Terpos\\xa0 et\\xa0al. J Hematol Oncol           (2021) 14:86  \\nhttps://doi.org/10.1186/s13045-021-01099-x\\nLETTER TO THE EDITOR\\nLow titers of\\xa0SARS -CoV -2 neutralizing \\nantibodies after\\xa0first vaccination dose in\\xa0cancer \\npatients receiving checkpoint inhibitors\\nEvangelos Terpos1* , Flora Zagouri1, Michalis Liontos1, Aimilia D. Sklirou2, Konstantinos Koutsoukos1, \\nChristos Markellos1, Alexandros Briasoulis1, Eleni‑Dimitra Papanagnou2, Ioannis P . Trougakos2 and \\nMeletios‑Athanasios Dimopoulos1 \\nAbstract \\nVaccination for SARS‑ CoV‑2 provides significant protection against the infection in the general population. However, \\nonly limited data exist for patients with cancer under systemic therapy. Based on this, our site has initiated a study \\nevaluating safety and efficacy of SARS‑ CoV‑2 vaccination in patients with solid and hematological malignancies under \\nseveral systemic therapies. The initial results of the cohort of 59 patients receiving Immune Checkpoint Inhibitors are \\npresented here. Despite no new safety issues have been noticed, the levels of SARS‑ CoV‑2 neutralizing antibodies are \\nsignificantly lower in comparison to matched healthy volunteers up to day 22 post the first dose. These results should \\nbe taken into consideration for the patients under treatment.\\nKeywords: SARS‑ CoV‑2, Vaccination, Cancer, Immune checkpoint inhibitors, BNT162b2, AZD1222\\n© The Author(s) 2021. Open Access This article is licensed under a Creative Commons Attribution 4.0 International License, which \\npermits use, sharing, adaptation, distribution and reproduction in any medium or format, as long as you give appropriate credit to the \\noriginal author(s) and the source, provide a link to the Creative Commons licence, and indicate if changes were made. The images or \\nother third party material in this article are included in the article’s Creative Commons licence, unless indicated otherwise in a credit line \\nto the material. If material is not included in the article’s Creative Commons licence and your intended use is not permitted by statutory \\nregulation or exceeds the permitted use, you will need to obtain permission directly from the copyright holder. To view a copy of this \\nlicence, visit http:// creat iveco mmons. org/ licen ses/ by/4. 0/. The Creative Commons Public Domain Dedication waiver (http:// creat iveco  \\nmmons. org/ publi cdoma in/ zero/1. 0/) applies to the data made available in this article, unless otherwise stated in a credit line to the data.To the Editor,\\nPatients with cancer are considered vulnerable to SARS-\\nCoV-2 infection [1] and have been prioritized in the vac -\\ncination process in several countries including Greece. \\nIn addition, international oncological societies favored \\nCOVID-19 vaccination for cancer patients on the basis \\nof risk and benefits evaluation of all available data. How -\\never, patients with cancer were excluded from SARS-\\nCoV-2 vaccines registrational trials [2, 3] and we lack \\ndata regarding the safety and efficacy of vaccination in \\nthis population. Under this perspective, we undertook \\na large prospective study (NCT04743388) enrolling \\npatients with solid cancers, hematologic malignancies as well as healthy volunteers for the kinetics of anti-\\nSARS-CoV-2 antibodies after COVID-19 vaccination \\n[4]. Herein, we report the development of neutralizing \\nantibodies (NAbs) against SARS-CoV-2 in patients with \\nsolid tumors receiving immune checkpoint inhibitors \\n(ICIs) after the first dose of the BNT162b2 and AZD1222 \\nvaccines. Major inclusion criteria for this cohort of the \\nstudy included: (1) age above 18\\xa0 years; (2) presence of \\nsolid organ malignancies treated with immunotherapy \\nirrespective of the treatment phase; and (3) eligibility for \\nvaccination.\\nThe serum of both patients and controls was collected \\non day 1 prior to vaccination and on day 22. NAbs against \\nSARS-CoV-2 were measured using FDA approved meth -\\nodology (ELISA, cPass™ SARS-CoV-2 NAbs Detection', metadata={'page': 0.0, 'source': '.saved_pdfs/10.1186_s13045-021-01099-x.pdf', 'title': 'Low titers of SARS-CoV-2 neutralizing antibodies after first vaccination dose in cancer patients receiving checkpoint inhibitors.'}), 'id': 'doc_2'}], document_ids={'doc_1', 'doc_2'}),\n",
       "  CohereCitation(start=317, end=388, text='results should be taken into consideration for patients under treatment', documents=[{'output': Document(page_content='Terpos\\xa0 et\\xa0al. J Hematol Oncol           (2021) 14:86  \\nhttps://doi.org/10.1186/s13045-021-01099-x\\nLETTER TO THE EDITOR\\nLow titers of\\xa0SARS -CoV -2 neutralizing \\nantibodies after\\xa0first vaccination dose in\\xa0cancer \\npatients receiving checkpoint inhibitors\\nEvangelos Terpos1* , Flora Zagouri1, Michalis Liontos1, Aimilia D. Sklirou2, Konstantinos Koutsoukos1, \\nChristos Markellos1, Alexandros Briasoulis1, Eleni‑Dimitra Papanagnou2, Ioannis P . Trougakos2 and \\nMeletios‑Athanasios Dimopoulos1 \\nAbstract \\nVaccination for SARS‑ CoV‑2 provides significant protection against the infection in the general population. However, \\nonly limited data exist for patients with cancer under systemic therapy. Based on this, our site has initiated a study \\nevaluating safety and efficacy of SARS‑ CoV‑2 vaccination in patients with solid and hematological malignancies under \\nseveral systemic therapies. The initial results of the cohort of 59 patients receiving Immune Checkpoint Inhibitors are \\npresented here. Despite no new safety issues have been noticed, the levels of SARS‑ CoV‑2 neutralizing antibodies are \\nsignificantly lower in comparison to matched healthy volunteers up to day 22 post the first dose. These results should \\nbe taken into consideration for the patients under treatment.\\nKeywords: SARS‑ CoV‑2, Vaccination, Cancer, Immune checkpoint inhibitors, BNT162b2, AZD1222\\n© The Author(s) 2021. Open Access This article is licensed under a Creative Commons Attribution 4.0 International License, which \\npermits use, sharing, adaptation, distribution and reproduction in any medium or format, as long as you give appropriate credit to the \\noriginal author(s) and the source, provide a link to the Creative Commons licence, and indicate if changes were made. The images or \\nother third party material in this article are included in the article’s Creative Commons licence, unless indicated otherwise in a credit line \\nto the material. If material is not included in the article’s Creative Commons licence and your intended use is not permitted by statutory \\nregulation or exceeds the permitted use, you will need to obtain permission directly from the copyright holder. To view a copy of this \\nlicence, visit http:// creat iveco mmons. org/ licen ses/ by/4. 0/. The Creative Commons Public Domain Dedication waiver (http:// creat iveco  \\nmmons. org/ publi cdoma in/ zero/1. 0/) applies to the data made available in this article, unless otherwise stated in a credit line to the data.To the Editor,\\nPatients with cancer are considered vulnerable to SARS-\\nCoV-2 infection [1] and have been prioritized in the vac -\\ncination process in several countries including Greece. \\nIn addition, international oncological societies favored \\nCOVID-19 vaccination for cancer patients on the basis \\nof risk and benefits evaluation of all available data. How -\\never, patients with cancer were excluded from SARS-\\nCoV-2 vaccines registrational trials [2, 3] and we lack \\ndata regarding the safety and efficacy of vaccination in \\nthis population. Under this perspective, we undertook \\na large prospective study (NCT04743388) enrolling \\npatients with solid cancers, hematologic malignancies as well as healthy volunteers for the kinetics of anti-\\nSARS-CoV-2 antibodies after COVID-19 vaccination \\n[4]. Herein, we report the development of neutralizing \\nantibodies (NAbs) against SARS-CoV-2 in patients with \\nsolid tumors receiving immune checkpoint inhibitors \\n(ICIs) after the first dose of the BNT162b2 and AZD1222 \\nvaccines. Major inclusion criteria for this cohort of the \\nstudy included: (1) age above 18\\xa0 years; (2) presence of \\nsolid organ malignancies treated with immunotherapy \\nirrespective of the treatment phase; and (3) eligibility for \\nvaccination.\\nThe serum of both patients and controls was collected \\non day 1 prior to vaccination and on day 22. NAbs against \\nSARS-CoV-2 were measured using FDA approved meth -\\nodology (ELISA, cPass™ SARS-CoV-2 NAbs Detection', metadata={'page': 0.0, 'source': '.saved_pdfs/10.1186_s13045-021-01099-x.pdf', 'title': 'Low titers of SARS-CoV-2 neutralizing antibodies after first vaccination dose in cancer patients receiving checkpoint inhibitors.'}), 'id': 'doc_1'}, {'output': Document(page_content='Terpos\\xa0 et\\xa0al. J Hematol Oncol           (2021) 14:86  \\nhttps://doi.org/10.1186/s13045-021-01099-x\\nLETTER TO THE EDITOR\\nLow titers of\\xa0SARS -CoV -2 neutralizing \\nantibodies after\\xa0first vaccination dose in\\xa0cancer \\npatients receiving checkpoint inhibitors\\nEvangelos Terpos1* , Flora Zagouri1, Michalis Liontos1, Aimilia D. Sklirou2, Konstantinos Koutsoukos1, \\nChristos Markellos1, Alexandros Briasoulis1, Eleni‑Dimitra Papanagnou2, Ioannis P . Trougakos2 and \\nMeletios‑Athanasios Dimopoulos1 \\nAbstract \\nVaccination for SARS‑ CoV‑2 provides significant protection against the infection in the general population. However, \\nonly limited data exist for patients with cancer under systemic therapy. Based on this, our site has initiated a study \\nevaluating safety and efficacy of SARS‑ CoV‑2 vaccination in patients with solid and hematological malignancies under \\nseveral systemic therapies. The initial results of the cohort of 59 patients receiving Immune Checkpoint Inhibitors are \\npresented here. Despite no new safety issues have been noticed, the levels of SARS‑ CoV‑2 neutralizing antibodies are \\nsignificantly lower in comparison to matched healthy volunteers up to day 22 post the first dose. These results should \\nbe taken into consideration for the patients under treatment.\\nKeywords: SARS‑ CoV‑2, Vaccination, Cancer, Immune checkpoint inhibitors, BNT162b2, AZD1222\\n© The Author(s) 2021. Open Access This article is licensed under a Creative Commons Attribution 4.0 International License, which \\npermits use, sharing, adaptation, distribution and reproduction in any medium or format, as long as you give appropriate credit to the \\noriginal author(s) and the source, provide a link to the Creative Commons licence, and indicate if changes were made. The images or \\nother third party material in this article are included in the article’s Creative Commons licence, unless indicated otherwise in a credit line \\nto the material. If material is not included in the article’s Creative Commons licence and your intended use is not permitted by statutory \\nregulation or exceeds the permitted use, you will need to obtain permission directly from the copyright holder. To view a copy of this \\nlicence, visit http:// creat iveco mmons. org/ licen ses/ by/4. 0/. The Creative Commons Public Domain Dedication waiver (http:// creat iveco  \\nmmons. org/ publi cdoma in/ zero/1. 0/) applies to the data made available in this article, unless otherwise stated in a credit line to the data.To the Editor,\\nPatients with cancer are considered vulnerable to SARS-\\nCoV-2 infection [1] and have been prioritized in the vac -\\ncination process in several countries including Greece. \\nIn addition, international oncological societies favored \\nCOVID-19 vaccination for cancer patients on the basis \\nof risk and benefits evaluation of all available data. How -\\never, patients with cancer were excluded from SARS-\\nCoV-2 vaccines registrational trials [2, 3] and we lack \\ndata regarding the safety and efficacy of vaccination in \\nthis population. Under this perspective, we undertook \\na large prospective study (NCT04743388) enrolling \\npatients with solid cancers, hematologic malignancies as well as healthy volunteers for the kinetics of anti-\\nSARS-CoV-2 antibodies after COVID-19 vaccination \\n[4]. Herein, we report the development of neutralizing \\nantibodies (NAbs) against SARS-CoV-2 in patients with \\nsolid tumors receiving immune checkpoint inhibitors \\n(ICIs) after the first dose of the BNT162b2 and AZD1222 \\nvaccines. Major inclusion criteria for this cohort of the \\nstudy included: (1) age above 18\\xa0 years; (2) presence of \\nsolid organ malignancies treated with immunotherapy \\nirrespective of the treatment phase; and (3) eligibility for \\nvaccination.\\nThe serum of both patients and controls was collected \\non day 1 prior to vaccination and on day 22. NAbs against \\nSARS-CoV-2 were measured using FDA approved meth -\\nodology (ELISA, cPass™ SARS-CoV-2 NAbs Detection', metadata={'page': 0.0, 'source': '.saved_pdfs/10.1186_s13045-021-01099-x.pdf', 'title': 'Low titers of SARS-CoV-2 neutralizing antibodies after first vaccination dose in cancer patients receiving checkpoint inhibitors.'}), 'id': 'doc_2'}], document_ids={'doc_1', 'doc_2'})]}"
      ]
     },
     "execution_count": 146,
     "metadata": {},
     "output_type": "execute_result"
    }
   ],
   "source": [
    "agent_with_chat_history.invoke(\n",
    "    {\"input\": \"Summarize the main findings of the paper '{}'?\".format(article_title2)},\n",
    "    config={\"configurable\": {\"session_id\": \"<foo>\"}},\n",
    ")"
   ]
  },
  {
   "cell_type": "code",
   "execution_count": 147,
   "metadata": {},
   "outputs": [
    {
     "name": "stderr",
     "output_type": "stream",
     "text": [
      "Parent run 2305b5eb-f6ec-4d9d-9086-a37d76815153 not found for run b102e5f8-7bc5-41d2-a967-273c5223b5e9. Treating as a root run.\n"
     ]
    },
    {
     "name": "stdout",
     "output_type": "stream",
     "text": [
      "\n",
      "\n",
      "\u001b[1m> Entering new AgentExecutor chain...\u001b[0m\n",
      "\u001b[32;1m\u001b[1;3m\n",
      "I will search for the paper and then write an answer based on the information I find.\n",
      "{'tool_name': 'query_vector_db_articles', 'parameters': {'query': 'Low titers of SARS-CoV-2 neutralizing antibodies after first vaccination dose in cancer patients receiving checkpoint inhibitors.', 'metadata': {'title': 'article_title'}}}\n",
      "\u001b[0mNo results found, Looking for the article online\n",
      "No similar articles found on PubMed.\n",
      "\u001b[36;1m\u001b[1;3mNone\u001b[0m\u001b[32;1m\u001b[1;3mRelevant Documents: None\n",
      "Cited Documents: None\n",
      "Answer: I'm sorry, I couldn't find the paper. Can I help you with anything else?\n",
      "Grounded answer: I'm sorry, I couldn't find the paper. Can I help you with anything else?\u001b[0m\n",
      "\n",
      "\u001b[1m> Finished chain.\u001b[0m\n"
     ]
    },
    {
     "data": {
      "text/plain": [
       "{'input': 'What disease are they talking about?',\n",
       " 'chat_history': [HumanMessage(content=\"Summarize the main findings of the paper 'Low titers of SARS-CoV-2 neutralizing antibodies after first vaccination dose in cancer patients receiving checkpoint inhibitors.'?\"),\n",
       "  AIMessage(content='The paper found that the levels of SARS-CoV-2 neutralizing antibodies were significantly lower in cancer patients receiving checkpoint inhibitors compared to matched healthy volunteers up to day 22 post the first dose. The study also found that there were no new safety issues noticed. The authors suggest that these results should be taken into consideration for patients under treatment.')],\n",
       " 'output': \"I'm sorry, I couldn't find the paper. Can I help you with anything else?\",\n",
       " 'citations': []}"
      ]
     },
     "execution_count": 147,
     "metadata": {},
     "output_type": "execute_result"
    }
   ],
   "source": [
    "agent_with_chat_history.invoke(\n",
    "    {\"input\": \"What disease are they talking about?\"},\n",
    "    config={\"configurable\": {\"session_id\": \"<foo>\"}},\n",
    ")"
   ]
  },
  {
   "cell_type": "code",
   "execution_count": 148,
   "metadata": {},
   "outputs": [
    {
     "name": "stderr",
     "output_type": "stream",
     "text": [
      "Parent run 8fa2d3ac-d9a0-445d-9705-28193bac2386 not found for run 735c0ed8-028d-4ecf-b240-79d30e06163f. Treating as a root run.\n"
     ]
    },
    {
     "name": "stdout",
     "output_type": "stream",
     "text": [
      "\n",
      "\n",
      "\u001b[1m> Entering new AgentExecutor chain...\u001b[0m\n",
      "\u001b[32;1m\u001b[1;3m\n",
      "I will answer the question directly.\n",
      "{'tool_name': 'directly_answer', 'parameters': {}}\n",
      "\u001b[0mdirectly_answer is not a valid tool, try one of [query_vector_db_articles].\u001b[32;1m\u001b[1;3mRelevant Documents: None\n",
      "Cited Documents: None\n",
      "Answer: Your last question was: \"What disease are they talking about?\"\n",
      "Grounded answer: Your last question was: \"What disease are they talking about?\"\u001b[0m\n",
      "\n",
      "\u001b[1m> Finished chain.\u001b[0m\n"
     ]
    },
    {
     "data": {
      "text/plain": [
       "{'input': 'What was my last question?',\n",
       " 'chat_history': [HumanMessage(content=\"Summarize the main findings of the paper 'Low titers of SARS-CoV-2 neutralizing antibodies after first vaccination dose in cancer patients receiving checkpoint inhibitors.'?\"),\n",
       "  AIMessage(content='The paper found that the levels of SARS-CoV-2 neutralizing antibodies were significantly lower in cancer patients receiving checkpoint inhibitors compared to matched healthy volunteers up to day 22 post the first dose. The study also found that there were no new safety issues noticed. The authors suggest that these results should be taken into consideration for patients under treatment.'),\n",
       "  HumanMessage(content='What disease are they talking about?'),\n",
       "  AIMessage(content=\"I'm sorry, I couldn't find the paper. Can I help you with anything else?\")],\n",
       " 'output': 'Your last question was: \"What disease are they talking about?\"',\n",
       " 'citations': []}"
      ]
     },
     "execution_count": 148,
     "metadata": {},
     "output_type": "execute_result"
    }
   ],
   "source": [
    "agent_with_chat_history.invoke(\n",
    "    {\"input\": \"What was my last question?\"},\n",
    "    config={\"configurable\": {\"session_id\": \"<foo>\"}},\n",
    ")"
   ]
  },
  {
   "cell_type": "code",
   "execution_count": null,
   "metadata": {},
   "outputs": [],
   "source": []
  }
 ],
 "metadata": {
  "kernelspec": {
   "display_name": "takehome",
   "language": "python",
   "name": "python3"
  },
  "language_info": {
   "codemirror_mode": {
    "name": "ipython",
    "version": 3
   },
   "file_extension": ".py",
   "mimetype": "text/x-python",
   "name": "python",
   "nbconvert_exporter": "python",
   "pygments_lexer": "ipython3",
   "version": "3.12.3"
  }
 },
 "nbformat": 4,
 "nbformat_minor": 2
}
