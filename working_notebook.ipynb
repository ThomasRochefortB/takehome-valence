{
 "cells": [
  {
   "cell_type": "code",
   "execution_count": 1,
   "metadata": {},
   "outputs": [],
   "source": [
    "%load_ext autoreload\n",
    "%autoreload 2"
   ]
  },
  {
   "cell_type": "code",
   "execution_count": 2,
   "metadata": {},
   "outputs": [
    {
     "name": "stderr",
     "output_type": "stream",
     "text": [
      "/home/thomas/anaconda3/envs/takehome/lib/python3.12/site-packages/pinecone/data/index.py:1: TqdmWarning: IProgress not found. Please update jupyter and ipywidgets. See https://ipywidgets.readthedocs.io/en/stable/user_install.html\n",
      "  from tqdm.autonotebook import tqdm\n",
      "/home/thomas/anaconda3/envs/takehome/lib/python3.12/site-packages/fuzzywuzzy/fuzz.py:11: UserWarning: Using slow pure-python SequenceMatcher. Install python-Levenshtein to remove this warning\n",
      "  warnings.warn('Using slow pure-python SequenceMatcher. Install python-Levenshtein to remove this warning')\n"
     ]
    }
   ],
   "source": [
    "from tools import query_vector_db_articles\n",
    "title = \"Targeted therapy in advanced non-small cell lung cancer: current advances and future trends.\"\n",
    "title2 = \"Low titers of SARS-CoV-2 neutralizing antibodies after first vaccination dose in cancer patients receiving checkpoint inhibitors.\""
   ]
  },
  {
   "cell_type": "code",
   "execution_count": 3,
   "metadata": {},
   "outputs": [
    {
     "data": {
      "text/plain": []
     },
     "execution_count": 3,
     "metadata": {},
     "output_type": "execute_result"
    }
   ],
   "source": [
    "## CODE TO DELETE PINECONE:\n",
    "import os\n",
    "from pinecone.grpc import PineconeGRPC as Pinecone\n",
    "\n",
    "pc = Pinecone(api_key=os.getenv(\"PINECONE_API_KEY\"))\n",
    "index = pc.Index(\"pubmed\")\n",
    "\n",
    "index.delete(delete_all=True)"
   ]
  },
  {
   "cell_type": "code",
   "execution_count": 4,
   "metadata": {},
   "outputs": [],
   "source": [
    "article_title = \"Targeted therapy in advanced non-small cell lung cancer: current advances and future trends.\"\n",
    "query = \"What disease are they discussing in the paper?\"\n",
    "query2 = \"Can you list the protein targets they highlight in the paper?\"\n",
    "query3= \"Summarize the main takeaways from the paper.\""
   ]
  },
  {
   "cell_type": "code",
   "execution_count": 5,
   "metadata": {},
   "outputs": [],
   "source": [
    "# completion llm  \n",
    "from langchain_cohere import ChatCohere\n",
    "\n",
    "llm = ChatCohere(model=\"command-r-plus\",temperature=0.0,max_tokens=4096)"
   ]
  },
  {
   "cell_type": "code",
   "execution_count": 6,
   "metadata": {},
   "outputs": [],
   "source": [
    "from langchain.agents import AgentExecutor\n",
    "from langchain_cohere.react_multi_hop.agent import create_cohere_react_agent\n",
    "from langchain_core.prompts import ChatPromptTemplate\n",
    "from langchain.agents import AgentExecutor, create_react_agent\n",
    "\n",
    "# from langchain.tools.retriever import create_retriever_tool\n",
    "\n",
    "# vectorstore_search = create_retriever_tool(\n",
    "#    retriever=retriever,\n",
    "#    name=\"vectorstore_search\",\n",
    "#    description=\"Retrieve relevant info from a vectorstore that contains information from the article. You need to filter with the following metadata when you query the vector database: 'source': 'name_of_the_article' \"\n",
    "# )\n",
    "\n",
    "# Preamble\n",
    "preamble = \"\"\"\n",
    "You are an expert who answers the user's question with the most relevant datasource.\n",
    "You are equipped with a special vectorstore of information about scientific articles.\n",
    "\"\"\"\n",
    "\n",
    "# Prompt template\n",
    "prompt = ChatPromptTemplate.from_template(\"{input}\")\n",
    "# Create the ReAct agent\n",
    "agent = create_cohere_react_agent(\n",
    "   llm=llm,\n",
    "   tools=[query_vector_db_articles],\n",
    "   prompt=prompt,\n",
    ")\n",
    "\n",
    "agent_executor = AgentExecutor(agent=agent,\n",
    "                               tools=[query_vector_db_articles],\n",
    "                               verbose=True,\n",
    "                               handle_parsing_errors=True,)\n"
   ]
  },
  {
   "cell_type": "code",
   "execution_count": 8,
   "metadata": {},
   "outputs": [
    {
     "name": "stdout",
     "output_type": "stream",
     "text": [
      "\n",
      "\n",
      "\u001b[1m> Entering new AgentExecutor chain...\u001b[0m\n",
      "\u001b[32;1m\u001b[1;3m\n",
      "I will search for the paper 'Targeted therapy in advanced non-small cell lung cancer: current advances and future trends' and summarise its main findings.\n",
      "{'tool_name': 'query_vector_db_articles', 'parameters': {'query': 'Targeted therapy in advanced non-small cell lung cancer: current advances and future trends', 'metadata': {'title': 'Targeted therapy in advanced non-small cell lung cancer: current advances and future trends'}}}\n",
      "\u001b[0m\u001b[36;1m\u001b[1;3m[Document(page_content='Majeed\\xa0 et\\xa0al. J Hematol Oncol          (2021) 14:108  \\nhttps://doi.org/10.1186/s13045-021-01121-2\\nREVIEW\\nTargeted therapy in\\xa0advanced non-small cell \\nlung cancer: current advances and\\xa0future trends\\nUmair Majeed, Rami Manochakian, Yujie Zhao and Yanyan Lou*  \\nAbstract \\nLung cancer remains the leading cause of cancer-related mortality in both men and women in the US and worldwide. \\nNon-small cell lung cancer is the most common variety accounting for 84% of the cases. For a subset of patients with \\nactionable mutations, targeted therapy continues to provide durable responses. Advances in molecular and immu-\\nnohistochemical techniques have made it possible to usher lung cancer into the era of personalized medicine, with \\nthe patient getting individualized treatment based on these markers. This review summarizes the recent advances \\nin advanced NSCLC targeted therapy, focusing on first-in-human and early phase I/II clinical trials in patients with \\nadvanced disease. We have divided our discussion into different topics based on these agents’ mechanisms of action. \\nThis article is aimed to be the most current review of available and upcoming targeted NSCLC treatment options. We \\nwill also summarize the currently available phase I/II clinical trial for NSCLC patients at the end of each section.\\nKeywords: Advanced NSCLC, Targeted therapy, Phase I/II clinical trials, First-in-human, Lung cancer\\n© The Author(s) 2021. Open Access This article is licensed under a Creative Commons Attribution 4.0 International License, which \\npermits use, sharing, adaptation, distribution and reproduction in any medium or format, as long as you give appropriate credit to the \\noriginal author(s) and the source, provide a link to the Creative Commons licence, and indicate if changes were made. The images or \\nother third party material in this article are included in the article’s Creative Commons licence, unless indicated otherwise in a credit line \\nto the material. If material is not included in the article’s Creative Commons licence and your intended use is not permitted by statutory \\nregulation or exceeds the permitted use, you will need to obtain permission directly from the copyright holder. To view a copy of this \\nlicence, visit http:// creat iveco mmons. org/ licen ses/ by/4. 0/. The Creative Commons Public Domain Dedication waiver (http:// creat iveco  \\nmmons. org/ publi cdoma in/ zero/1. 0/) applies to the data made available in this article, unless otherwise stated in a credit line to the data.Background\\nLung cancer remains the number one cause of cancer-\\nrelated death worldwide. Overall, lung cancer causes \\nmore deaths than breast, prostate, colorectal, and brain \\ncancers combined [1]. In 2021, an estimated 235,760 \\nnew lung cancer cases will be diagnosed in the US, and \\n131,880 people will die from this disease [2]. Non-small \\ncell lung cancer (NSCLC) is the most common type of \\nlung cancer, accounting for more than two-thirds of the \\ncases, with most patients (84%) having advance disease at \\nthe time of diagnosis [3]. Identification of targetable alter -\\nation (i.e., EGFR, ALK, PI3K/AKT/mTOR, RAS-MAPK, \\nRET, MET, BRAF, and NTRK/ROS1) in patients with \\nadvanced NSCLC has evolved its treatment paradigm [4]. \\nThe approval and adoption of agents targeting these alter -\\nations has contributed to the decline in incidence-based \\nmortality from 35% among men with NSCLC diagnosed \\nin 2001 to 26% among those diagnosed in 2014. Similar patterns have been found among women with NSCLC \\n[5]. Despite these new therapeutic options for patients \\nwith advanced NSCLC, there continues to be significant \\nchallenges as resistance development and disease pro -\\ngression occurs in most of these patients [6]. This has led \\nto research in identifying drugs that can overcome these \\nresistance pathways. Next-generation sequencing, which \\ncan be performed on the tumor tissue and circulating \\ntumor DNA (ctDNA) in the blood, is now the standard', metadata={'page': 0.0, 'source': '.saved_pdfs/10.1186_s13045-021-01121-2.pdf', 'title': 'targeted therapy advanced nonsmall cell lung cancer current advances future trends'}), Document(page_content='resistance pathways. Next-generation sequencing, which \\ncan be performed on the tumor tissue and circulating \\ntumor DNA (ctDNA) in the blood, is now the standard \\nof care for all patients with advanced NSCLC [7]. It helps \\nin the rapid identification of actionable mutations and \\nresistance mechanisms.\\nIn this review after highlighting the different driver \\ngenomic alterations and their relative frequencies in \\nadvanced NSCLC we summarize the clinical efficacy and \\nsafety of FDA approved targeted therapies. We then dis -\\ncuss the recently published data on the first-in-human \\nclinical trials and some of the most promising drugs in \\nthe pipeline for this disease. Literature was searched \\nfor first-in-human, phase I and phase II clinical tri -\\nals in NSCLC using PubMed, Google Scholar, and the \\nAmerican Society of Clinical Oncology (ASCO) meeting \\nabstracts. Each study was individually reviewed, and data Open Access\\n*Correspondence:  lou.yanyan@mayo.edu\\nDivision of Hematology and Medical Oncology, Mayo Clinic, 4500 San \\nPablo Rd, Jacksonville, FL 32224, USA', metadata={'page': 0.0, 'source': '.saved_pdfs/10.1186_s13045-021-01121-2.pdf', 'title': 'targeted therapy advanced nonsmall cell lung cancer current advances future trends'}), Document(page_content='Page 14 of 20 Majeed\\xa0et\\xa0al. J Hematol Oncol          (2021) 14:108 \\ndocetaxel in previously treated advanced or metastatic \\nnon-small cell lung cancer (NSCLC) without actionable \\ngenomic alterations (TROPION-Lung01) is currently \\nalso underway (NCT04656652) [106].\\nMGC018 is an investigational ADC with a Duo -\\ncarmycin payload linked to an anti-B7-H3 mAB. It is \\nhypothesized that MGC018 has activity against B7-H3 \\nexpressing tumors (NCT03729596) [107].\\xa0Table\\xa0 11 sum -\\nmarizes the ongoing phase I/II clinical trials involv -\\ning\\xa0ADC in patients with advanced NSCLC.\\nPI3K/AKT/mTORC inhibitors\\nThe PI3K/AKT/mTOR pathway has been heavily impli -\\ncated in both tumorigenesis and progression of disease \\nin NSCLC. In a study, 1144 patients with NSCLC under -\\nwent next generation sequencing for PI3KCA mutations. \\nMutations were identified in 3.7% of the patients [108]. \\nNon-small cell lung squamous cell carcinoma (8.9%) \\nwere more likely to be have these mutations when com -\\npared with adenocarcinoma (2.9%). On the other hand upregulation of mTOR pathway is seen in up to 90% of \\nthe patients with NSCLC adenocarcinoma compared to \\n40% of the patients with squamous cell carcinoma [109]. \\nS6K and 4E-BP1 are the downstream products of mTOR \\nactivation. These have also been identified in up to 58% \\nand 25% of NSCLC specimens respectively [110]. It is \\nalso postulated that in patients with an EGFR mutant \\nNSCLC, the AKT/mTOR pathway is constitutively acti -\\nvated in 67% of cases [111].\\nSapanisertib (TAK228) is an oral TORC1/2 inhibitor. In \\na phase II trial with stage IV squamous NSCLC patients, \\nit showed differential activity in NFE2L2 (ORR of 20%) \\nand KEAP1(ORR of 17%) mutant patients [112]. Most \\ncommon AEs included hyperglycemia (72%), fatigue \\n(32%), diarrhea (32%), decreased appetite (32%).\\nSirolimus binds to FKBP-12, an intracellular protein, \\nto form an immunosuppressive complex which inhib -\\nits mTOR [113]. It is being studied in a phase I/II trial \\nNCT01737502 with auranofin (gold salt) in advanced or \\nrecurrent NSCLC patients without standard treatment Table 11 Current ongoing early phase I/II trials with ADC\\nADC\\nDrug name Mechanism of action Clinical trial (phase) Study design Disease\\nCAB-ROR2-ADC Anti-ROR2 ADC NCT03504488 (1/2) Monotherapy Advanced solid tumors includ-\\ning NSCLC\\nCofetuzumab Pelidotin PTK7 ADC NCT04189614 (1b) Monotherapy PTK7-expressing recurrent \\nNSCLC\\nDS-1062a ADC targeting TROP2 NCT04612751 (1) Combination with Durvalumab Advanced NSCLC with progres-\\nsion on chemotherapy and \\nimmunotherapy\\nMGC018 ADC delivers Duocarmycin NCT03729596 (1/2) Monotherapy and combina-\\ntion with MGA012 (anti-PD1Advanced solid tumors includ-\\ning NSCLC\\nU3-1402 (Patritumab derux -\\ntecan)Drug (MAAA-1181a) linked \\nto AB (Patritumab)NCT03260491 (1) Monotherapy Advanced NSCLC with acquired \\nresistance to EGFR TKI\\nTable 12 Current ongoing early phase I/II trials with mTOR/PI3K inhibitors\\nmTOR/PI3K pathway Inhibitors\\nDrug name Mechanism of action Clinical trial (Phase) Study design Disease\\nGedatolisib (PF-05212384) pan-PI3K/mTOR inhibitor NCT03065062 (1) Combination with Palbociclib Advanced tumors including \\nsquamous NSCLC\\nIdelalisib PI3K inhibitor NCT03257722 (1) Combination with Pembroli-\\nzumabAdvanced NSCLC with progres-\\nsion on first line therapy\\nNab Rapamycin (ABI-009) mTOR inhibitor NCT03190174 (1/2) Combination with Nivolumab Advanced solid tumors includ-\\ning NSCLC\\nRMC-5552 bi-steric mTORC1-selective \\ninhibitorNCT04774952 (1/1b) Monotherapy Advanced solid tumors includ-\\ning NSCLC\\nSapanisertib mTORC1/mTORC2 inhibitor NCT02417701 (2) Monotherapy KRAS mutant NSCLC with KEAP1 \\nmutation\\nSirolimus mTOR inhibitor NCT01737502 (1/2) Combination with Auranofin Advanced or Recurrent Lung \\nCancer', metadata={'page': 13.0, 'source': '.saved_pdfs/10.1186_s13045-021-01121-2.pdf', 'title': 'targeted therapy advanced nonsmall cell lung cancer current advances future trends'})]\u001b[0m\u001b[32;1m\u001b[1;3mRelevant Documents: 0,1,2\n",
      "Cited Documents: 0,1,2\n",
      "Answer: Lung cancer is the leading cause of cancer-related mortality in both men and women in the US and worldwide. Non-small cell lung cancer (NSCLC) is the most common variety, accounting for 84% of cases. For a subset of patients with actionable mutations, targeted therapy continues to provide durable responses. Advances in molecular and immunohistochemical techniques have made it possible to usher lung cancer into the era of personalised medicine, with the patient getting individualised treatment based on these markers. \n",
      "\n",
      "The approval and adoption of agents targeting these alterations have contributed to the decline in incidence-based mortality from 35% among men with NSCLC diagnosed in 2001 to 26% among those diagnosed in 2014. Similar patterns have been found among women with NSCLC. Despite these new therapeutic options for patients with advanced NSCLC, there continue to be significant challenges as resistance development and disease progression occur in most of these patients. \n",
      "\n",
      "Next-generation sequencing, which can be performed on tumour tissue and circulating tumour DNA (ctDNA) in the blood, is now the standard of care for all patients with advanced NSCLC. It helps in the rapid identification of actionable mutations and resistance mechanisms.\n",
      "Grounded answer: <co: 0>Lung cancer</co: 0> is the <co: 0>leading cause of cancer-related mortality in both men and women in the US and worldwide</co: 0>. <co: 0>Non-small cell lung cancer</co: 0> <co: 0,1,2>(NSCLC</co: 0,1,2>) is the <co: 0>most common variety</co: 0>, accounting for <co: 0>84% of cases</co: 0>. For a <co: 0>subset of patients with actionable mutations</co: 0>, <co: 0>targeted therapy continues to provide durable responses</co: 0>. <co: 0>Advances in molecular and immunohistochemical techniques</co: 0> have made it possible to <co: 0>usher lung cancer into the era of personalised medicine</co: 0>, with the <co: 0>patient getting individualised treatment based on these markers</co: 0>. \n",
      "\n",
      "The <co: 0>approval and adoption of agents targeting these alterations</co: 0> have contributed to the <co: 0>decline in incidence-based mortality from 35% among men with NSCLC diagnosed in 2001 to 26% among those diagnosed in 2014</co: 0>. <co: 0>Similar patterns have been found among women with NSCLC</co: 0>. Despite these <co: 0>new therapeutic options for patients with advanced NSCLC</co: 0>, there continue to be <co: 0>significant challenges as resistance development and disease progression occur in most of these patients</co: 0>. \n",
      "\n",
      "<co: 1>Next-generation sequencing</co: 1>, which can be <co: 1>performed on tumour tissue and circulating tumour DNA (ctDNA) in the blood</co: 1>, is now the <co: 1>standard of care for all patients with advanced NSCLC</co: 1>. It helps in the <co: 1>rapid identification of actionable mutations and resistance mechanisms</co: 1>.\u001b[0m\n",
      "\n",
      "\u001b[1m> Finished chain.\u001b[0m\n"
     ]
    }
   ],
   "source": [
    "response = agent_executor.invoke({\n",
    "   \"input\": \"Summarize the main findings of the paper '{}'?\".format(article_title),\n",
    "   \"preamble\": preamble,\n",
    "})"
   ]
  },
  {
   "cell_type": "code",
   "execution_count": 9,
   "metadata": {},
   "outputs": [
    {
     "name": "stdout",
     "output_type": "stream",
     "text": [
      "Lung cancer is the leading cause of cancer-related mortality in both men and women in the US and worldwide. Non-small cell lung cancer (NSCLC) is the most common variety, accounting for 84% of cases. For a subset of patients with actionable mutations, targeted therapy continues to provide durable responses. Advances in molecular and immunohistochemical techniques have made it possible to usher lung cancer into the era of personalised medicine, with the patient getting individualised treatment based on these markers. \n",
      "\n",
      "The approval and adoption of agents targeting these alterations have contributed to the decline in incidence-based mortality from 35% among men with NSCLC diagnosed in 2001 to 26% among those diagnosed in 2014. Similar patterns have been found among women with NSCLC. Despite these new therapeutic options for patients with advanced NSCLC, there continue to be significant challenges as resistance development and disease progression occur in most of these patients. \n",
      "\n",
      "Next-generation sequencing, which can be performed on tumour tissue and circulating tumour DNA (ctDNA) in the blood, is now the standard of care for all patients with advanced NSCLC. It helps in the rapid identification of actionable mutations and resistance mechanisms.\n"
     ]
    }
   ],
   "source": [
    "print(response['output'])\n"
   ]
  },
  {
   "cell_type": "code",
   "execution_count": 12,
   "metadata": {},
   "outputs": [],
   "source": [
    "from langchain_core.runnables.history import RunnableWithMessageHistory\n",
    "from langchain.memory import ChatMessageHistory\n",
    "\n",
    "memory = ChatMessageHistory(session_id=\"test-session\")\n",
    "\n",
    "agent_with_chat_history = RunnableWithMessageHistory(\n",
    "    agent_executor,\n",
    "    # This is needed because in most real world scenarios, a session id is needed\n",
    "    # It isn't really used here because we are using a simple in memory ChatMessageHistory\n",
    "    lambda session_id: memory,\n",
    "    input_messages_key=\"input\",\n",
    "    history_messages_key=\"chat_history\",\n",
    ")\n"
   ]
  },
  {
   "cell_type": "code",
   "execution_count": 16,
   "metadata": {},
   "outputs": [
    {
     "name": "stderr",
     "output_type": "stream",
     "text": [
      "Parent run 666b5754-b2da-4d11-85fa-8d274462b115 not found for run 8d920876-2e85-4472-962d-d8fd2fc81f92. Treating as a root run.\n"
     ]
    },
    {
     "name": "stdout",
     "output_type": "stream",
     "text": [
      "\n",
      "\n",
      "\u001b[1m> Entering new AgentExecutor chain...\u001b[0m\n",
      "\u001b[32;1m\u001b[1;3m\n",
      "I will search for the paper in the database and summarise its main findings.\n",
      "{'tool_name': 'query_vector_db_articles', 'parameters': {'query': 'Low titers of SARS-CoV-2 neutralizing antibodies after first vaccination dose in cancer patients receiving checkpoint inhibitors', 'metadata': {'title': 'Low titers of SARS-CoV-2 neutralizing antibodies after first vaccination dose in cancer patients receiving checkpoint inhibitors'}}}\n",
      "\u001b[0m\u001b[36;1m\u001b[1;3m[Document(page_content='Terpos\\xa0 et\\xa0al. J Hematol Oncol           (2021) 14:86  \\nhttps://doi.org/10.1186/s13045-021-01099-x\\nLETTER TO THE EDITOR\\nLow titers of\\xa0SARS -CoV -2 neutralizing \\nantibodies after\\xa0first vaccination dose in\\xa0cancer \\npatients receiving checkpoint inhibitors\\nEvangelos Terpos1* , Flora Zagouri1, Michalis Liontos1, Aimilia D. Sklirou2, Konstantinos Koutsoukos1, \\nChristos Markellos1, Alexandros Briasoulis1, Eleni‑Dimitra Papanagnou2, Ioannis P . Trougakos2 and \\nMeletios‑Athanasios Dimopoulos1 \\nAbstract \\nVaccination for SARS‑ CoV‑2 provides significant protection against the infection in the general population. However, \\nonly limited data exist for patients with cancer under systemic therapy. Based on this, our site has initiated a study \\nevaluating safety and efficacy of SARS‑ CoV‑2 vaccination in patients with solid and hematological malignancies under \\nseveral systemic therapies. The initial results of the cohort of 59 patients receiving Immune Checkpoint Inhibitors are \\npresented here. Despite no new safety issues have been noticed, the levels of SARS‑ CoV‑2 neutralizing antibodies are \\nsignificantly lower in comparison to matched healthy volunteers up to day 22 post the first dose. These results should \\nbe taken into consideration for the patients under treatment.\\nKeywords: SARS‑ CoV‑2, Vaccination, Cancer, Immune checkpoint inhibitors, BNT162b2, AZD1222\\n© The Author(s) 2021. Open Access This article is licensed under a Creative Commons Attribution 4.0 International License, which \\npermits use, sharing, adaptation, distribution and reproduction in any medium or format, as long as you give appropriate credit to the \\noriginal author(s) and the source, provide a link to the Creative Commons licence, and indicate if changes were made. The images or \\nother third party material in this article are included in the article’s Creative Commons licence, unless indicated otherwise in a credit line \\nto the material. If material is not included in the article’s Creative Commons licence and your intended use is not permitted by statutory \\nregulation or exceeds the permitted use, you will need to obtain permission directly from the copyright holder. To view a copy of this \\nlicence, visit http:// creat iveco mmons. org/ licen ses/ by/4. 0/. The Creative Commons Public Domain Dedication waiver (http:// creat iveco  \\nmmons. org/ publi cdoma in/ zero/1. 0/) applies to the data made available in this article, unless otherwise stated in a credit line to the data.To the Editor,\\nPatients with cancer are considered vulnerable to SARS-\\nCoV-2 infection [1] and have been prioritized in the vac -\\ncination process in several countries including Greece. \\nIn addition, international oncological societies favored \\nCOVID-19 vaccination for cancer patients on the basis \\nof risk and benefits evaluation of all available data. How -\\never, patients with cancer were excluded from SARS-\\nCoV-2 vaccines registrational trials [2, 3] and we lack \\ndata regarding the safety and efficacy of vaccination in \\nthis population. Under this perspective, we undertook \\na large prospective study (NCT04743388) enrolling \\npatients with solid cancers, hematologic malignancies as well as healthy volunteers for the kinetics of anti-\\nSARS-CoV-2 antibodies after COVID-19 vaccination \\n[4]. Herein, we report the development of neutralizing \\nantibodies (NAbs) against SARS-CoV-2 in patients with \\nsolid tumors receiving immune checkpoint inhibitors \\n(ICIs) after the first dose of the BNT162b2 and AZD1222 \\nvaccines. Major inclusion criteria for this cohort of the \\nstudy included: (1) age above 18\\xa0 years; (2) presence of \\nsolid organ malignancies treated with immunotherapy \\nirrespective of the treatment phase; and (3) eligibility for \\nvaccination.\\nThe serum of both patients and controls was collected \\non day 1 prior to vaccination and on day 22. NAbs against \\nSARS-CoV-2 were measured using FDA approved meth -\\nodology (ELISA, cPass™ SARS-CoV-2 NAbs Detection', metadata={'page': 0.0, 'source': '.saved_pdfs/10.1186_s13045-021-01099-x.pdf', 'title': 'low titers sarscov2 neutralizing antibodies first vaccination dose cancer patients receiving checkpoint inhibitors'}), Document(page_content='Page 3 of 4\\n Terpos\\xa0et\\xa0al. J Hematol Oncol           (2021) 14:86 \\n \\nAbbreviations\\nICIs: Immune checkpoint inhibitors; NAbs: Neutralizing antibodies; IQR: Inter ‑\\nquartile range.\\nSupplementary Information\\nThe online version contains supplementary material available at https:// doi. \\norg/ 10. 1186/ s13045‑ 021‑ 01099‑x.\\nAdditional file\\xa01. Table\\xa0S1: Detailed characteristics of patients\\nAcknowledgements\\nWe thank Abis Cohen MD; Ioanna Charitaki, RN; Ioanna Katsiana RN; Tina \\nBagratuni, PhD; Christine Ivy Liacos, PhD; Nikoletta‑Aikaterini Kokkali, RN; Nefeli \\nMavrianou‑Koutsoukou, PhD; Dimitrios Patseas, PhD and Mrs Stamatia Skourti \\nfor administrative, technical, or material support; Sentiljana Gumeni, PhD \\nfor acquisition, analysis, or interpretation of data. We also thank SYN‑ENOSIS \\n(Greece), AEGEAS (Greece) and IEMBITHEK (Greece) for partially funding this \\nstudy, as well as all of the study participants for donating their time and \\nsamples.\\nAuthors’ contributions\\nET designed research, performed research, analyzed data and wrote the paper. \\nIPT and MAD contributed vital new reagents or analytical tools, performed \\nresearch, analyzed data, reviewed all paper drafts and gave approval to final \\nversion. FZ, ML, ADS, KK, CM, AB, EDP performed research, analyzed data, \\nreviewed all paper drafts and gave approval to final version. All authors read \\nand approved the final manuscript.Funding\\nSYN‑ENOSIS (Greece), AEGEAS (Greece) and IEMBITHEK (Greece) partially \\nfunded this study.\\nAvailability of data and materials\\nAll data generated or analysed during this study are included in this published \\narticle and its supplementary information file.\\nDeclarations\\nEthics approval and consent to participate\\nDescribed within the letter. The study was approved by the respective Ethi‑\\ncal Committees (Alexandra Hospital Ethics Committee, Reference Number: \\n900/24‑12‑2020) in accordance with the Declaration of Helsinki and the Inter ‑\\nnational Conference on Harmonization for Good Clinical Practice. All patients \\nand controls provided written informed consent prior enrollment in the study.\\nConsent for publication\\nNot applicable.\\nCompeting interests\\nWe declare no competing interests.\\nAuthor details\\n1 Department of Clinical Therapeutics, School of Medicine, Alexandra General \\nHospital, National and Kapodistrian University of Athens, 80 Vas. Sofias Avenue, \\n11528 Athens, Greece. 2 Department of Cell Biology and Biophysics, Faculty \\nof Biology, National and Kapodistrian University of Athens, Athens, Greece. \\nFig. 1 Kinetics of neutralizing antibodies in patients receiving immunotherapy and matched controls after vaccination with the first dose of the \\nBNT162b2, mRNA‑1273 and AZD1222 vaccine. On D22, patients had lower production of NAb inhibition titers compared to controls of similar age \\nand gender (see text). Only 6 patients (10.7%) had NAb titers of equal or more than 50%', metadata={'page': 2.0, 'source': '.saved_pdfs/10.1186_s13045-021-01099-x.pdf', 'title': 'low titers sarscov2 neutralizing antibodies first vaccination dose cancer patients receiving checkpoint inhibitors'}), Document(page_content='Page 2 of 4 Terpos\\xa0et\\xa0al. J Hematol Oncol           (2021) 14:86 \\nInternational Conference on Harmonization for Good \\nClinical Practice. All patients and controls provided writ -\\nten informed consent prior enrollment in the study. Base -\\nline demographics, co-morbidities, and the NAb levels \\nwere compared between the 2 groups, Chi-square test \\nfor categorical variables and unpaired t-test or Wilcoxon \\nsigned-rank test (as appropriate) for continuous vari -\\nables. To adjust for potential confounding effects of dif -\\nferences in covariates, we used case–control matching to \\nmatch the two groups for age, gender, and type of vaccine \\nwith the calipmatch command in Stata. All data extrac -\\ntion and analyses were conducted using Stata 16.0 (Stata -\\nCorp 2019, Stata Statistical Software: Release 16. College \\nStation, TX: StataCorp LLC). Two-sided p value < 0.05 \\nwas used for statistical significance.\\nStudy population included 59 patients (36 males/23 \\nfemales; median age: 66\\xa0years, IQR 61–76\\xa0years) and 283 \\ncontrols (median age: 64\\xa0years, IQR 59–82\\xa0years, p = 0.75 \\nfor age compared with patients), vaccinated during the \\nsame period. 44/59 patients (74.6%) and 232/283 controls \\n(82%) were vaccinated with a mRNA vaccine (BNT162b2 \\nor mRNA-1273), while the remaining received the \\nAZD1222 vaccine (p = 0.19). The characteristics of the \\npatients are depicted in Table\\xa0 1. Among patients, 16 had \\nlung cancer, 15 bladder cancer, 11 kidney carcinoma, \\nand the remaining 17 other carcinomas. Most patients \\n(49 patients, 83.0%) received anti-PD1 treatment, while \\n10 (17.0%) received anti-PD-L1 antibodies or immuno -\\ntherapy combination. Comorbidities in the patient group \\nincluded cardiovascular disease in 42.4%, diabetes in \\n20.3%, pulmonary disease in 10.2%.\\nOn D1, two patients (3.4%) and 26 (9.2%) controls had \\nNAb titers of ≥ 30% (positivity cut-off); there was no dif -\\nference regarding the NAb titers between patients and \\ncontrols on D1 (p = 0.35). None of them had a prior his -\\ntory of known COVID-19. After the first vaccine dose, \\non D22, patients had lower NAb titers compared to \\ncontrols: the median NAb inhibition titer was 22% (IQR \\n13.4–30.2%) for patients versus 38% (IQR 23–54%) for \\ncontrols; p < 0.001 (Fig.\\xa0 1). More, specifically, 15 (25%) \\npatients versus 186 (65.7%) controls developed NAb \\ntiters ≥ 30% on D22   ( p\\xa0< \\xa00.001). The respective number \\nof patients and controls who developed NAb titers ≥ 50% \\n(clinically relevant viral inhibition [6]) was 6 (10.7%) and \\n93 (32.9%), respectively (p = 0.01). Of note, none of the \\npatients enrolled had neutropenia or lymphopenia at first \\nvaccination dose (Additional file\\xa01: Table\\xa0S1).\\nRecently, Waissengrin et\\xa0 al. [7] reported the safety \\nresults of BNT162b2 vaccine in patients with cancer \\ntreated with ICIs. We confirm these data in our study \\npopulation; amongst the 59 patients of our department \\nwho received vaccination while on treatment with ICIs, \\nno unexpected adverse events were noted. During the post vaccination follow-up period (median 44\\xa0days, IQR \\n36–67\\xa0days) immunotherapy related adverse events were \\nrecorded in one patent (1.7%). For the first time, we also \\nreport that patients on treatment with ICIs receiving \\nthe first dose of the BNT162b2 and AZD1222 vaccines \\ndevelop low titers of NAb against SARS-CoV-2 by day 22. \\nThese results could be attributed to the immunosuppres -\\nsive effect of cancer and/or treatment given and inform \\nregarding the optimal management of these patients at \\nleast until vaccination completion. Further follow-up of \\nthe current study will provide significant data for the effi -\\ncacy of vaccination in cancer patients.Table 1 Characteristics of the patients\\nIQR interquartile range, BMI body mass index, I/O ImmunotherapyCharacteristic Total population\\nMedian (IQR)\\nAge 66 (61–76)\\nBMI 26.1 (23.6–28.3)\\nN (%)\\nSex\\n Male 36 (61.0%)\\n Female 23 (39.0%)\\nType of cancer\\n Lung cancer 16 (27.1%)\\n Bladder cancer 15 (25.4%)\\n Kidney cancer 11 (18.6%)', metadata={'page': 1.0, 'source': '.saved_pdfs/10.1186_s13045-021-01099-x.pdf', 'title': 'low titers sarscov2 neutralizing antibodies first vaccination dose cancer patients receiving checkpoint inhibitors'})]\u001b[0m\u001b[32;1m\u001b[1;3mRelevant Documents: 0,1,2\n",
      "Cited Documents: 0,1,2\n",
      "Answer: The paper found that cancer patients receiving checkpoint inhibitors had significantly lower levels of SARS-CoV-2 neutralizing antibodies compared to healthy volunteers up to 22 days after the first dose of the BNT162b2 and AZD1222 vaccines. The study also found that the vaccination was safe for these patients, with no unexpected adverse events noted.\n",
      "Grounded answer: The paper found that <co: 0,2>cancer patients receiving checkpoint inhibitors</co: 0,2> had <co: 0,1,2>significantly lower levels of SARS-CoV-2 neutralizing antibodies</co: 0,1,2> compared to <co: 0,2>healthy volunteers</co: 0,2> <co: 0,2>up to 22 days</co: 0,2> after the <co: 0,1,2>first dose</co: 0,1,2> of the <co: 0,1,2>BNT162b2 and AZD1222 vaccines</co: 0,1,2>. The study also found that the <co: 0,2>vaccination was safe for these patients</co: 0,2>, with <co: 2>no unexpected adverse events noted</co: 2>.\u001b[0m\n",
      "\n",
      "\u001b[1m> Finished chain.\u001b[0m\n",
      "The paper found that cancer patients receiving checkpoint inhibitors had significantly lower levels of SARS-CoV-2 neutralizing antibodies compared to healthy volunteers up to 22 days after the first dose of the BNT162b2 and AZD1222 vaccines. The study also found that the vaccination was safe for these patients, with no unexpected adverse events noted.\n"
     ]
    }
   ],
   "source": [
    "response = agent_with_chat_history.invoke(\n",
    "    {\"input\": \"Summarize the main findings of the paper '{}'?\".format(title2)},\n",
    "    config={\"configurable\": {\"session_id\": \"<foo>\"}},\n",
    ")\n",
    "print(response['output'])"
   ]
  },
  {
   "cell_type": "code",
   "execution_count": 17,
   "metadata": {},
   "outputs": [
    {
     "name": "stderr",
     "output_type": "stream",
     "text": [
      "Parent run 2f355c80-6d3f-4fc2-bc47-91e9c8f98ae7 not found for run 46766178-ccc3-4a26-bcae-f5e60fe7ff78. Treating as a root run.\n"
     ]
    },
    {
     "name": "stdout",
     "output_type": "stream",
     "text": [
      "\n",
      "\n",
      "\u001b[1m> Entering new AgentExecutor chain...\u001b[0m\n",
      "\u001b[32;1m\u001b[1;3m\n",
      "I will read the paper to find out which disease is being referred to.\n",
      "{'tool_name': 'query_vector_db_articles', 'parameters': {'query': 'Low titers of SARS-CoV-2 neutralizing antibodies after first vaccination dose in cancer patients receiving checkpoint inhibitors.', 'metadata': {'title': 'Low titers of SARS-CoV-2 neutralizing antibodies after first vaccination dose in cancer patients receiving checkpoint inhibitors.'}}}\n",
      "\u001b[0m\u001b[36;1m\u001b[1;3m[Document(page_content='Terpos\\xa0 et\\xa0al. J Hematol Oncol           (2021) 14:86  \\nhttps://doi.org/10.1186/s13045-021-01099-x\\nLETTER TO THE EDITOR\\nLow titers of\\xa0SARS -CoV -2 neutralizing \\nantibodies after\\xa0first vaccination dose in\\xa0cancer \\npatients receiving checkpoint inhibitors\\nEvangelos Terpos1* , Flora Zagouri1, Michalis Liontos1, Aimilia D. Sklirou2, Konstantinos Koutsoukos1, \\nChristos Markellos1, Alexandros Briasoulis1, Eleni‑Dimitra Papanagnou2, Ioannis P . Trougakos2 and \\nMeletios‑Athanasios Dimopoulos1 \\nAbstract \\nVaccination for SARS‑ CoV‑2 provides significant protection against the infection in the general population. However, \\nonly limited data exist for patients with cancer under systemic therapy. Based on this, our site has initiated a study \\nevaluating safety and efficacy of SARS‑ CoV‑2 vaccination in patients with solid and hematological malignancies under \\nseveral systemic therapies. The initial results of the cohort of 59 patients receiving Immune Checkpoint Inhibitors are \\npresented here. Despite no new safety issues have been noticed, the levels of SARS‑ CoV‑2 neutralizing antibodies are \\nsignificantly lower in comparison to matched healthy volunteers up to day 22 post the first dose. These results should \\nbe taken into consideration for the patients under treatment.\\nKeywords: SARS‑ CoV‑2, Vaccination, Cancer, Immune checkpoint inhibitors, BNT162b2, AZD1222\\n© The Author(s) 2021. Open Access This article is licensed under a Creative Commons Attribution 4.0 International License, which \\npermits use, sharing, adaptation, distribution and reproduction in any medium or format, as long as you give appropriate credit to the \\noriginal author(s) and the source, provide a link to the Creative Commons licence, and indicate if changes were made. The images or \\nother third party material in this article are included in the article’s Creative Commons licence, unless indicated otherwise in a credit line \\nto the material. If material is not included in the article’s Creative Commons licence and your intended use is not permitted by statutory \\nregulation or exceeds the permitted use, you will need to obtain permission directly from the copyright holder. To view a copy of this \\nlicence, visit http:// creat iveco mmons. org/ licen ses/ by/4. 0/. The Creative Commons Public Domain Dedication waiver (http:// creat iveco  \\nmmons. org/ publi cdoma in/ zero/1. 0/) applies to the data made available in this article, unless otherwise stated in a credit line to the data.To the Editor,\\nPatients with cancer are considered vulnerable to SARS-\\nCoV-2 infection [1] and have been prioritized in the vac -\\ncination process in several countries including Greece. \\nIn addition, international oncological societies favored \\nCOVID-19 vaccination for cancer patients on the basis \\nof risk and benefits evaluation of all available data. How -\\never, patients with cancer were excluded from SARS-\\nCoV-2 vaccines registrational trials [2, 3] and we lack \\ndata regarding the safety and efficacy of vaccination in \\nthis population. Under this perspective, we undertook \\na large prospective study (NCT04743388) enrolling \\npatients with solid cancers, hematologic malignancies as well as healthy volunteers for the kinetics of anti-\\nSARS-CoV-2 antibodies after COVID-19 vaccination \\n[4]. Herein, we report the development of neutralizing \\nantibodies (NAbs) against SARS-CoV-2 in patients with \\nsolid tumors receiving immune checkpoint inhibitors \\n(ICIs) after the first dose of the BNT162b2 and AZD1222 \\nvaccines. Major inclusion criteria for this cohort of the \\nstudy included: (1) age above 18\\xa0 years; (2) presence of \\nsolid organ malignancies treated with immunotherapy \\nirrespective of the treatment phase; and (3) eligibility for \\nvaccination.\\nThe serum of both patients and controls was collected \\non day 1 prior to vaccination and on day 22. NAbs against \\nSARS-CoV-2 were measured using FDA approved meth -\\nodology (ELISA, cPass™ SARS-CoV-2 NAbs Detection', metadata={'page': 0.0, 'source': '.saved_pdfs/10.1186_s13045-021-01099-x.pdf', 'title': 'low titers sarscov2 neutralizing antibodies first vaccination dose cancer patients receiving checkpoint inhibitors'}), Document(page_content='Page 3 of 4\\n Terpos\\xa0et\\xa0al. J Hematol Oncol           (2021) 14:86 \\n \\nAbbreviations\\nICIs: Immune checkpoint inhibitors; NAbs: Neutralizing antibodies; IQR: Inter ‑\\nquartile range.\\nSupplementary Information\\nThe online version contains supplementary material available at https:// doi. \\norg/ 10. 1186/ s13045‑ 021‑ 01099‑x.\\nAdditional file\\xa01. Table\\xa0S1: Detailed characteristics of patients\\nAcknowledgements\\nWe thank Abis Cohen MD; Ioanna Charitaki, RN; Ioanna Katsiana RN; Tina \\nBagratuni, PhD; Christine Ivy Liacos, PhD; Nikoletta‑Aikaterini Kokkali, RN; Nefeli \\nMavrianou‑Koutsoukou, PhD; Dimitrios Patseas, PhD and Mrs Stamatia Skourti \\nfor administrative, technical, or material support; Sentiljana Gumeni, PhD \\nfor acquisition, analysis, or interpretation of data. We also thank SYN‑ENOSIS \\n(Greece), AEGEAS (Greece) and IEMBITHEK (Greece) for partially funding this \\nstudy, as well as all of the study participants for donating their time and \\nsamples.\\nAuthors’ contributions\\nET designed research, performed research, analyzed data and wrote the paper. \\nIPT and MAD contributed vital new reagents or analytical tools, performed \\nresearch, analyzed data, reviewed all paper drafts and gave approval to final \\nversion. FZ, ML, ADS, KK, CM, AB, EDP performed research, analyzed data, \\nreviewed all paper drafts and gave approval to final version. All authors read \\nand approved the final manuscript.Funding\\nSYN‑ENOSIS (Greece), AEGEAS (Greece) and IEMBITHEK (Greece) partially \\nfunded this study.\\nAvailability of data and materials\\nAll data generated or analysed during this study are included in this published \\narticle and its supplementary information file.\\nDeclarations\\nEthics approval and consent to participate\\nDescribed within the letter. The study was approved by the respective Ethi‑\\ncal Committees (Alexandra Hospital Ethics Committee, Reference Number: \\n900/24‑12‑2020) in accordance with the Declaration of Helsinki and the Inter ‑\\nnational Conference on Harmonization for Good Clinical Practice. All patients \\nand controls provided written informed consent prior enrollment in the study.\\nConsent for publication\\nNot applicable.\\nCompeting interests\\nWe declare no competing interests.\\nAuthor details\\n1 Department of Clinical Therapeutics, School of Medicine, Alexandra General \\nHospital, National and Kapodistrian University of Athens, 80 Vas. Sofias Avenue, \\n11528 Athens, Greece. 2 Department of Cell Biology and Biophysics, Faculty \\nof Biology, National and Kapodistrian University of Athens, Athens, Greece. \\nFig. 1 Kinetics of neutralizing antibodies in patients receiving immunotherapy and matched controls after vaccination with the first dose of the \\nBNT162b2, mRNA‑1273 and AZD1222 vaccine. On D22, patients had lower production of NAb inhibition titers compared to controls of similar age \\nand gender (see text). Only 6 patients (10.7%) had NAb titers of equal or more than 50%', metadata={'page': 2.0, 'source': '.saved_pdfs/10.1186_s13045-021-01099-x.pdf', 'title': 'low titers sarscov2 neutralizing antibodies first vaccination dose cancer patients receiving checkpoint inhibitors'}), Document(page_content='Page 2 of 4 Terpos\\xa0et\\xa0al. J Hematol Oncol           (2021) 14:86 \\nInternational Conference on Harmonization for Good \\nClinical Practice. All patients and controls provided writ -\\nten informed consent prior enrollment in the study. Base -\\nline demographics, co-morbidities, and the NAb levels \\nwere compared between the 2 groups, Chi-square test \\nfor categorical variables and unpaired t-test or Wilcoxon \\nsigned-rank test (as appropriate) for continuous vari -\\nables. To adjust for potential confounding effects of dif -\\nferences in covariates, we used case–control matching to \\nmatch the two groups for age, gender, and type of vaccine \\nwith the calipmatch command in Stata. All data extrac -\\ntion and analyses were conducted using Stata 16.0 (Stata -\\nCorp 2019, Stata Statistical Software: Release 16. College \\nStation, TX: StataCorp LLC). Two-sided p value < 0.05 \\nwas used for statistical significance.\\nStudy population included 59 patients (36 males/23 \\nfemales; median age: 66\\xa0years, IQR 61–76\\xa0years) and 283 \\ncontrols (median age: 64\\xa0years, IQR 59–82\\xa0years, p = 0.75 \\nfor age compared with patients), vaccinated during the \\nsame period. 44/59 patients (74.6%) and 232/283 controls \\n(82%) were vaccinated with a mRNA vaccine (BNT162b2 \\nor mRNA-1273), while the remaining received the \\nAZD1222 vaccine (p = 0.19). The characteristics of the \\npatients are depicted in Table\\xa0 1. Among patients, 16 had \\nlung cancer, 15 bladder cancer, 11 kidney carcinoma, \\nand the remaining 17 other carcinomas. Most patients \\n(49 patients, 83.0%) received anti-PD1 treatment, while \\n10 (17.0%) received anti-PD-L1 antibodies or immuno -\\ntherapy combination. Comorbidities in the patient group \\nincluded cardiovascular disease in 42.4%, diabetes in \\n20.3%, pulmonary disease in 10.2%.\\nOn D1, two patients (3.4%) and 26 (9.2%) controls had \\nNAb titers of ≥ 30% (positivity cut-off); there was no dif -\\nference regarding the NAb titers between patients and \\ncontrols on D1 (p = 0.35). None of them had a prior his -\\ntory of known COVID-19. After the first vaccine dose, \\non D22, patients had lower NAb titers compared to \\ncontrols: the median NAb inhibition titer was 22% (IQR \\n13.4–30.2%) for patients versus 38% (IQR 23–54%) for \\ncontrols; p < 0.001 (Fig.\\xa0 1). More, specifically, 15 (25%) \\npatients versus 186 (65.7%) controls developed NAb \\ntiters ≥ 30% on D22   ( p\\xa0< \\xa00.001). The respective number \\nof patients and controls who developed NAb titers ≥ 50% \\n(clinically relevant viral inhibition [6]) was 6 (10.7%) and \\n93 (32.9%), respectively (p = 0.01). Of note, none of the \\npatients enrolled had neutropenia or lymphopenia at first \\nvaccination dose (Additional file\\xa01: Table\\xa0S1).\\nRecently, Waissengrin et\\xa0 al. [7] reported the safety \\nresults of BNT162b2 vaccine in patients with cancer \\ntreated with ICIs. We confirm these data in our study \\npopulation; amongst the 59 patients of our department \\nwho received vaccination while on treatment with ICIs, \\nno unexpected adverse events were noted. During the post vaccination follow-up period (median 44\\xa0days, IQR \\n36–67\\xa0days) immunotherapy related adverse events were \\nrecorded in one patent (1.7%). For the first time, we also \\nreport that patients on treatment with ICIs receiving \\nthe first dose of the BNT162b2 and AZD1222 vaccines \\ndevelop low titers of NAb against SARS-CoV-2 by day 22. \\nThese results could be attributed to the immunosuppres -\\nsive effect of cancer and/or treatment given and inform \\nregarding the optimal management of these patients at \\nleast until vaccination completion. Further follow-up of \\nthe current study will provide significant data for the effi -\\ncacy of vaccination in cancer patients.Table 1 Characteristics of the patients\\nIQR interquartile range, BMI body mass index, I/O ImmunotherapyCharacteristic Total population\\nMedian (IQR)\\nAge 66 (61–76)\\nBMI 26.1 (23.6–28.3)\\nN (%)\\nSex\\n Male 36 (61.0%)\\n Female 23 (39.0%)\\nType of cancer\\n Lung cancer 16 (27.1%)\\n Bladder cancer 15 (25.4%)\\n Kidney cancer 11 (18.6%)', metadata={'page': 1.0, 'source': '.saved_pdfs/10.1186_s13045-021-01099-x.pdf', 'title': 'low titers sarscov2 neutralizing antibodies first vaccination dose cancer patients receiving checkpoint inhibitors'})]\u001b[0m\u001b[32;1m\u001b[1;3mRelevant Documents: 0,1,2\n",
      "Cited Documents: 0,1,2\n",
      "Answer: The paper refers to SARS-CoV-2, the virus that causes COVID-19.\n",
      "Grounded answer: The paper refers to <co: 0,1,2>SARS-CoV-2</co: 0,1,2>, the <co: 0>virus that causes COVID-19</co: 0>.\u001b[0m\n",
      "\n",
      "\u001b[1m> Finished chain.\u001b[0m\n",
      "The paper refers to SARS-CoV-2, the virus that causes COVID-19.\n"
     ]
    }
   ],
   "source": [
    "response = agent_with_chat_history.invoke(\n",
    "    {\"input\": \"What disease are they talking about?\"},\n",
    "    config={\"configurable\": {\"session_id\": \"<foo>\"}},\n",
    ")\n",
    "\n",
    "print(response['output'])"
   ]
  }
 ],
 "metadata": {
  "kernelspec": {
   "display_name": "takehome",
   "language": "python",
   "name": "python3"
  },
  "language_info": {
   "codemirror_mode": {
    "name": "ipython",
    "version": 3
   },
   "file_extension": ".py",
   "mimetype": "text/x-python",
   "name": "python",
   "nbconvert_exporter": "python",
   "pygments_lexer": "ipython3",
   "version": "3.12.3"
  }
 },
 "nbformat": 4,
 "nbformat_minor": 2
}
