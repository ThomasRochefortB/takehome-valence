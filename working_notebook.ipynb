{
 "cells": [
  {
   "cell_type": "code",
   "execution_count": 1,
   "metadata": {},
   "outputs": [
    {
     "data": {
      "text/plain": [
       "True"
      ]
     },
     "execution_count": 1,
     "metadata": {},
     "output_type": "execute_result"
    }
   ],
   "source": [
    "%load_ext autoreload\n",
    "%autoreload 2\n",
    "from dotenv import load_dotenv\n",
    "load_dotenv()"
   ]
  },
  {
   "cell_type": "code",
   "execution_count": 3,
   "metadata": {},
   "outputs": [],
   "source": [
    "from takehome.tools import query_vector_db_articles, get_smiles_from_pubchem, predict_energy_from_smiles\n",
    "title = \"Targeted therapy in advanced non-small cell lung cancer: current advances and future trends.\"\n",
    "title2 = \"Low titers of SARS-CoV-2 neutralizing antibodies after first vaccination dose in cancer patients receiving checkpoint inhibitors.\""
   ]
  },
  {
   "cell_type": "code",
   "execution_count": 3,
   "metadata": {},
   "outputs": [
    {
     "ename": "NotFoundException",
     "evalue": "(404)\nReason: Not Found\nHTTP response headers: HTTPHeaderDict({'Date': 'Sun, 09 Jun 2024 18:54:00 GMT', 'Content-Type': 'application/json', 'Content-Length': '55', 'Connection': 'keep-alive', 'x-pinecone-request-latency-ms': '1', 'x-pinecone-request-id': '1027437128989184151', 'x-envoy-upstream-service-time': '1', 'server': 'envoy'})\nHTTP response body: {\"code\":5,\"message\":\"Namespace not found\",\"details\":[]}\n",
     "output_type": "error",
     "traceback": [
      "\u001b[0;31m---------------------------------------------------------------------------\u001b[0m",
      "\u001b[0;31mNotFoundException\u001b[0m                         Traceback (most recent call last)",
      "Cell \u001b[0;32mIn[3], line 7\u001b[0m\n\u001b[1;32m      4\u001b[0m pc \u001b[38;5;241m=\u001b[39m Pinecone(api_key\u001b[38;5;241m=\u001b[39mos\u001b[38;5;241m.\u001b[39mgetenv(\u001b[38;5;124m\"\u001b[39m\u001b[38;5;124mPINECONE_API_KEY\u001b[39m\u001b[38;5;124m\"\u001b[39m))\n\u001b[1;32m      5\u001b[0m index \u001b[38;5;241m=\u001b[39m pc\u001b[38;5;241m.\u001b[39mIndex(\u001b[38;5;124m\"\u001b[39m\u001b[38;5;124mpubmed\u001b[39m\u001b[38;5;124m\"\u001b[39m)\n\u001b[0;32m----> 7\u001b[0m \u001b[43mindex\u001b[49m\u001b[38;5;241;43m.\u001b[39;49m\u001b[43mdelete\u001b[49m\u001b[43m(\u001b[49m\u001b[43mdelete_all\u001b[49m\u001b[38;5;241;43m=\u001b[39;49m\u001b[38;5;28;43;01mTrue\u001b[39;49;00m\u001b[43m)\u001b[49m\n",
      "File \u001b[0;32m~/opt/anaconda3/envs/takehome_valence/lib/python3.12/site-packages/pinecone/utils/error_handling.py:10\u001b[0m, in \u001b[0;36mvalidate_and_convert_errors.<locals>.inner_func\u001b[0;34m(*args, **kwargs)\u001b[0m\n\u001b[1;32m      7\u001b[0m \u001b[38;5;129m@wraps\u001b[39m(func)\n\u001b[1;32m      8\u001b[0m \u001b[38;5;28;01mdef\u001b[39;00m \u001b[38;5;21minner_func\u001b[39m(\u001b[38;5;241m*\u001b[39margs, \u001b[38;5;241m*\u001b[39m\u001b[38;5;241m*\u001b[39mkwargs):\n\u001b[1;32m      9\u001b[0m     \u001b[38;5;28;01mtry\u001b[39;00m:\n\u001b[0;32m---> 10\u001b[0m         \u001b[38;5;28;01mreturn\u001b[39;00m \u001b[43mfunc\u001b[49m\u001b[43m(\u001b[49m\u001b[38;5;241;43m*\u001b[39;49m\u001b[43margs\u001b[49m\u001b[43m,\u001b[49m\u001b[43m \u001b[49m\u001b[38;5;241;43m*\u001b[39;49m\u001b[38;5;241;43m*\u001b[39;49m\u001b[43mkwargs\u001b[49m\u001b[43m)\u001b[49m\n\u001b[1;32m     11\u001b[0m     \u001b[38;5;28;01mexcept\u001b[39;00m MaxRetryError \u001b[38;5;28;01mas\u001b[39;00m e:\n\u001b[1;32m     12\u001b[0m         \u001b[38;5;28;01mif\u001b[39;00m \u001b[38;5;28misinstance\u001b[39m(e\u001b[38;5;241m.\u001b[39mreason, ProtocolError):\n",
      "File \u001b[0;32m~/opt/anaconda3/envs/takehome_valence/lib/python3.12/site-packages/pinecone/data/index.py:288\u001b[0m, in \u001b[0;36mIndex.delete\u001b[0;34m(self, ids, delete_all, namespace, filter, **kwargs)\u001b[0m\n\u001b[1;32m    283\u001b[0m _check_type \u001b[38;5;241m=\u001b[39m kwargs\u001b[38;5;241m.\u001b[39mpop(\u001b[38;5;124m\"\u001b[39m\u001b[38;5;124m_check_type\u001b[39m\u001b[38;5;124m\"\u001b[39m, \u001b[38;5;28;01mFalse\u001b[39;00m)\n\u001b[1;32m    284\u001b[0m args_dict \u001b[38;5;241m=\u001b[39m \u001b[38;5;28mself\u001b[39m\u001b[38;5;241m.\u001b[39m_parse_non_empty_args(\n\u001b[1;32m    285\u001b[0m     [(\u001b[38;5;124m\"\u001b[39m\u001b[38;5;124mids\u001b[39m\u001b[38;5;124m\"\u001b[39m, ids), (\u001b[38;5;124m\"\u001b[39m\u001b[38;5;124mdelete_all\u001b[39m\u001b[38;5;124m\"\u001b[39m, delete_all), (\u001b[38;5;124m\"\u001b[39m\u001b[38;5;124mnamespace\u001b[39m\u001b[38;5;124m\"\u001b[39m, namespace), (\u001b[38;5;124m\"\u001b[39m\u001b[38;5;124mfilter\u001b[39m\u001b[38;5;124m\"\u001b[39m, \u001b[38;5;28mfilter\u001b[39m)]\n\u001b[1;32m    286\u001b[0m )\n\u001b[0;32m--> 288\u001b[0m \u001b[38;5;28;01mreturn\u001b[39;00m \u001b[38;5;28;43mself\u001b[39;49m\u001b[38;5;241;43m.\u001b[39;49m\u001b[43m_vector_api\u001b[49m\u001b[38;5;241;43m.\u001b[39;49m\u001b[43mdelete\u001b[49m\u001b[43m(\u001b[49m\n\u001b[1;32m    289\u001b[0m \u001b[43m    \u001b[49m\u001b[43mDeleteRequest\u001b[49m\u001b[43m(\u001b[49m\n\u001b[1;32m    290\u001b[0m \u001b[43m        \u001b[49m\u001b[38;5;241;43m*\u001b[39;49m\u001b[38;5;241;43m*\u001b[39;49m\u001b[43margs_dict\u001b[49m\u001b[43m,\u001b[49m\n\u001b[1;32m    291\u001b[0m \u001b[43m        \u001b[49m\u001b[38;5;241;43m*\u001b[39;49m\u001b[38;5;241;43m*\u001b[39;49m\u001b[43m{\u001b[49m\u001b[43mk\u001b[49m\u001b[43m:\u001b[49m\u001b[43m \u001b[49m\u001b[43mv\u001b[49m\u001b[43m \u001b[49m\u001b[38;5;28;43;01mfor\u001b[39;49;00m\u001b[43m \u001b[49m\u001b[43mk\u001b[49m\u001b[43m,\u001b[49m\u001b[43m \u001b[49m\u001b[43mv\u001b[49m\u001b[43m \u001b[49m\u001b[38;5;129;43;01min\u001b[39;49;00m\u001b[43m \u001b[49m\u001b[43mkwargs\u001b[49m\u001b[38;5;241;43m.\u001b[39;49m\u001b[43mitems\u001b[49m\u001b[43m(\u001b[49m\u001b[43m)\u001b[49m\u001b[43m \u001b[49m\u001b[38;5;28;43;01mif\u001b[39;49;00m\u001b[43m \u001b[49m\u001b[43mk\u001b[49m\u001b[43m \u001b[49m\u001b[38;5;129;43;01mnot\u001b[39;49;00m\u001b[43m \u001b[49m\u001b[38;5;129;43;01min\u001b[39;49;00m\u001b[43m \u001b[49m\u001b[43m_OPENAPI_ENDPOINT_PARAMS\u001b[49m\u001b[43m \u001b[49m\u001b[38;5;129;43;01mand\u001b[39;49;00m\u001b[43m \u001b[49m\u001b[43mv\u001b[49m\u001b[43m \u001b[49m\u001b[38;5;129;43;01mis\u001b[39;49;00m\u001b[43m \u001b[49m\u001b[38;5;129;43;01mnot\u001b[39;49;00m\u001b[43m \u001b[49m\u001b[38;5;28;43;01mNone\u001b[39;49;00m\u001b[43m}\u001b[49m\u001b[43m,\u001b[49m\n\u001b[1;32m    292\u001b[0m \u001b[43m        \u001b[49m\u001b[43m_check_type\u001b[49m\u001b[38;5;241;43m=\u001b[39;49m\u001b[43m_check_type\u001b[49m\u001b[43m,\u001b[49m\n\u001b[1;32m    293\u001b[0m \u001b[43m    \u001b[49m\u001b[43m)\u001b[49m\u001b[43m,\u001b[49m\n\u001b[1;32m    294\u001b[0m \u001b[43m    \u001b[49m\u001b[38;5;241;43m*\u001b[39;49m\u001b[38;5;241;43m*\u001b[39;49m\u001b[43m{\u001b[49m\u001b[43mk\u001b[49m\u001b[43m:\u001b[49m\u001b[43m \u001b[49m\u001b[43mv\u001b[49m\u001b[43m \u001b[49m\u001b[38;5;28;43;01mfor\u001b[39;49;00m\u001b[43m \u001b[49m\u001b[43mk\u001b[49m\u001b[43m,\u001b[49m\u001b[43m \u001b[49m\u001b[43mv\u001b[49m\u001b[43m \u001b[49m\u001b[38;5;129;43;01min\u001b[39;49;00m\u001b[43m \u001b[49m\u001b[43mkwargs\u001b[49m\u001b[38;5;241;43m.\u001b[39;49m\u001b[43mitems\u001b[49m\u001b[43m(\u001b[49m\u001b[43m)\u001b[49m\u001b[43m \u001b[49m\u001b[38;5;28;43;01mif\u001b[39;49;00m\u001b[43m \u001b[49m\u001b[43mk\u001b[49m\u001b[43m \u001b[49m\u001b[38;5;129;43;01min\u001b[39;49;00m\u001b[43m \u001b[49m\u001b[43m_OPENAPI_ENDPOINT_PARAMS\u001b[49m\u001b[43m}\u001b[49m\u001b[43m,\u001b[49m\n\u001b[1;32m    295\u001b[0m \u001b[43m\u001b[49m\u001b[43m)\u001b[49m\n",
      "File \u001b[0;32m~/opt/anaconda3/envs/takehome_valence/lib/python3.12/site-packages/pinecone/core/client/api_client.py:772\u001b[0m, in \u001b[0;36mEndpoint.__call__\u001b[0;34m(self, *args, **kwargs)\u001b[0m\n\u001b[1;32m    761\u001b[0m \u001b[38;5;28;01mdef\u001b[39;00m \u001b[38;5;21m__call__\u001b[39m(\u001b[38;5;28mself\u001b[39m, \u001b[38;5;241m*\u001b[39margs, \u001b[38;5;241m*\u001b[39m\u001b[38;5;241m*\u001b[39mkwargs):\n\u001b[1;32m    762\u001b[0m \u001b[38;5;250m    \u001b[39m\u001b[38;5;124;03m\"\"\" This method is invoked when endpoints are called\u001b[39;00m\n\u001b[1;32m    763\u001b[0m \u001b[38;5;124;03m    Example:\u001b[39;00m\n\u001b[1;32m    764\u001b[0m \n\u001b[0;32m   (...)\u001b[0m\n\u001b[1;32m    770\u001b[0m \n\u001b[1;32m    771\u001b[0m \u001b[38;5;124;03m    \"\"\"\u001b[39;00m\n\u001b[0;32m--> 772\u001b[0m     \u001b[38;5;28;01mreturn\u001b[39;00m \u001b[38;5;28;43mself\u001b[39;49m\u001b[38;5;241;43m.\u001b[39;49m\u001b[43mcallable\u001b[49m\u001b[43m(\u001b[49m\u001b[38;5;28;43mself\u001b[39;49m\u001b[43m,\u001b[49m\u001b[43m \u001b[49m\u001b[38;5;241;43m*\u001b[39;49m\u001b[43margs\u001b[49m\u001b[43m,\u001b[49m\u001b[43m \u001b[49m\u001b[38;5;241;43m*\u001b[39;49m\u001b[38;5;241;43m*\u001b[39;49m\u001b[43mkwargs\u001b[49m\u001b[43m)\u001b[49m\n",
      "File \u001b[0;32m~/opt/anaconda3/envs/takehome_valence/lib/python3.12/site-packages/pinecone/core/client/api/data_plane_api.py:347\u001b[0m, in \u001b[0;36mDataPlaneApi.__init__.<locals>.__delete\u001b[0;34m(self, delete_request, **kwargs)\u001b[0m\n\u001b[1;32m    344\u001b[0m kwargs[\u001b[38;5;124m'\u001b[39m\u001b[38;5;124m_host_index\u001b[39m\u001b[38;5;124m'\u001b[39m] \u001b[38;5;241m=\u001b[39m kwargs\u001b[38;5;241m.\u001b[39mget(\u001b[38;5;124m'\u001b[39m\u001b[38;5;124m_host_index\u001b[39m\u001b[38;5;124m'\u001b[39m)\n\u001b[1;32m    345\u001b[0m kwargs[\u001b[38;5;124m'\u001b[39m\u001b[38;5;124mdelete_request\u001b[39m\u001b[38;5;124m'\u001b[39m] \u001b[38;5;241m=\u001b[39m \\\n\u001b[1;32m    346\u001b[0m     delete_request\n\u001b[0;32m--> 347\u001b[0m \u001b[38;5;28;01mreturn\u001b[39;00m \u001b[38;5;28;43mself\u001b[39;49m\u001b[38;5;241;43m.\u001b[39;49m\u001b[43mcall_with_http_info\u001b[49m\u001b[43m(\u001b[49m\u001b[38;5;241;43m*\u001b[39;49m\u001b[38;5;241;43m*\u001b[39;49m\u001b[43mkwargs\u001b[49m\u001b[43m)\u001b[49m\n",
      "File \u001b[0;32m~/opt/anaconda3/envs/takehome_valence/lib/python3.12/site-packages/pinecone/core/client/api_client.py:834\u001b[0m, in \u001b[0;36mEndpoint.call_with_http_info\u001b[0;34m(self, **kwargs)\u001b[0m\n\u001b[1;32m    830\u001b[0m     header_list \u001b[38;5;241m=\u001b[39m \u001b[38;5;28mself\u001b[39m\u001b[38;5;241m.\u001b[39mapi_client\u001b[38;5;241m.\u001b[39mselect_header_content_type(\n\u001b[1;32m    831\u001b[0m         content_type_headers_list)\n\u001b[1;32m    832\u001b[0m     params[\u001b[38;5;124m'\u001b[39m\u001b[38;5;124mheader\u001b[39m\u001b[38;5;124m'\u001b[39m][\u001b[38;5;124m'\u001b[39m\u001b[38;5;124mContent-Type\u001b[39m\u001b[38;5;124m'\u001b[39m] \u001b[38;5;241m=\u001b[39m header_list\n\u001b[0;32m--> 834\u001b[0m \u001b[38;5;28;01mreturn\u001b[39;00m \u001b[38;5;28;43mself\u001b[39;49m\u001b[38;5;241;43m.\u001b[39;49m\u001b[43mapi_client\u001b[49m\u001b[38;5;241;43m.\u001b[39;49m\u001b[43mcall_api\u001b[49m\u001b[43m(\u001b[49m\n\u001b[1;32m    835\u001b[0m \u001b[43m    \u001b[49m\u001b[38;5;28;43mself\u001b[39;49m\u001b[38;5;241;43m.\u001b[39;49m\u001b[43msettings\u001b[49m\u001b[43m[\u001b[49m\u001b[38;5;124;43m'\u001b[39;49m\u001b[38;5;124;43mendpoint_path\u001b[39;49m\u001b[38;5;124;43m'\u001b[39;49m\u001b[43m]\u001b[49m\u001b[43m,\u001b[49m\u001b[43m \u001b[49m\u001b[38;5;28;43mself\u001b[39;49m\u001b[38;5;241;43m.\u001b[39;49m\u001b[43msettings\u001b[49m\u001b[43m[\u001b[49m\u001b[38;5;124;43m'\u001b[39;49m\u001b[38;5;124;43mhttp_method\u001b[39;49m\u001b[38;5;124;43m'\u001b[39;49m\u001b[43m]\u001b[49m\u001b[43m,\u001b[49m\n\u001b[1;32m    836\u001b[0m \u001b[43m    \u001b[49m\u001b[43mparams\u001b[49m\u001b[43m[\u001b[49m\u001b[38;5;124;43m'\u001b[39;49m\u001b[38;5;124;43mpath\u001b[39;49m\u001b[38;5;124;43m'\u001b[39;49m\u001b[43m]\u001b[49m\u001b[43m,\u001b[49m\n\u001b[1;32m    837\u001b[0m \u001b[43m    \u001b[49m\u001b[43mparams\u001b[49m\u001b[43m[\u001b[49m\u001b[38;5;124;43m'\u001b[39;49m\u001b[38;5;124;43mquery\u001b[39;49m\u001b[38;5;124;43m'\u001b[39;49m\u001b[43m]\u001b[49m\u001b[43m,\u001b[49m\n\u001b[1;32m    838\u001b[0m \u001b[43m    \u001b[49m\u001b[43mparams\u001b[49m\u001b[43m[\u001b[49m\u001b[38;5;124;43m'\u001b[39;49m\u001b[38;5;124;43mheader\u001b[39;49m\u001b[38;5;124;43m'\u001b[39;49m\u001b[43m]\u001b[49m\u001b[43m,\u001b[49m\n\u001b[1;32m    839\u001b[0m \u001b[43m    \u001b[49m\u001b[43mbody\u001b[49m\u001b[38;5;241;43m=\u001b[39;49m\u001b[43mparams\u001b[49m\u001b[43m[\u001b[49m\u001b[38;5;124;43m'\u001b[39;49m\u001b[38;5;124;43mbody\u001b[39;49m\u001b[38;5;124;43m'\u001b[39;49m\u001b[43m]\u001b[49m\u001b[43m,\u001b[49m\n\u001b[1;32m    840\u001b[0m \u001b[43m    \u001b[49m\u001b[43mpost_params\u001b[49m\u001b[38;5;241;43m=\u001b[39;49m\u001b[43mparams\u001b[49m\u001b[43m[\u001b[49m\u001b[38;5;124;43m'\u001b[39;49m\u001b[38;5;124;43mform\u001b[39;49m\u001b[38;5;124;43m'\u001b[39;49m\u001b[43m]\u001b[49m\u001b[43m,\u001b[49m\n\u001b[1;32m    841\u001b[0m \u001b[43m    \u001b[49m\u001b[43mfiles\u001b[49m\u001b[38;5;241;43m=\u001b[39;49m\u001b[43mparams\u001b[49m\u001b[43m[\u001b[49m\u001b[38;5;124;43m'\u001b[39;49m\u001b[38;5;124;43mfile\u001b[39;49m\u001b[38;5;124;43m'\u001b[39;49m\u001b[43m]\u001b[49m\u001b[43m,\u001b[49m\n\u001b[1;32m    842\u001b[0m \u001b[43m    \u001b[49m\u001b[43mresponse_type\u001b[49m\u001b[38;5;241;43m=\u001b[39;49m\u001b[38;5;28;43mself\u001b[39;49m\u001b[38;5;241;43m.\u001b[39;49m\u001b[43msettings\u001b[49m\u001b[43m[\u001b[49m\u001b[38;5;124;43m'\u001b[39;49m\u001b[38;5;124;43mresponse_type\u001b[39;49m\u001b[38;5;124;43m'\u001b[39;49m\u001b[43m]\u001b[49m\u001b[43m,\u001b[49m\n\u001b[1;32m    843\u001b[0m \u001b[43m    \u001b[49m\u001b[43mauth_settings\u001b[49m\u001b[38;5;241;43m=\u001b[39;49m\u001b[38;5;28;43mself\u001b[39;49m\u001b[38;5;241;43m.\u001b[39;49m\u001b[43msettings\u001b[49m\u001b[43m[\u001b[49m\u001b[38;5;124;43m'\u001b[39;49m\u001b[38;5;124;43mauth\u001b[39;49m\u001b[38;5;124;43m'\u001b[39;49m\u001b[43m]\u001b[49m\u001b[43m,\u001b[49m\n\u001b[1;32m    844\u001b[0m \u001b[43m    \u001b[49m\u001b[43masync_req\u001b[49m\u001b[38;5;241;43m=\u001b[39;49m\u001b[43mkwargs\u001b[49m\u001b[43m[\u001b[49m\u001b[38;5;124;43m'\u001b[39;49m\u001b[38;5;124;43masync_req\u001b[39;49m\u001b[38;5;124;43m'\u001b[39;49m\u001b[43m]\u001b[49m\u001b[43m,\u001b[49m\n\u001b[1;32m    845\u001b[0m \u001b[43m    \u001b[49m\u001b[43m_check_type\u001b[49m\u001b[38;5;241;43m=\u001b[39;49m\u001b[43mkwargs\u001b[49m\u001b[43m[\u001b[49m\u001b[38;5;124;43m'\u001b[39;49m\u001b[38;5;124;43m_check_return_type\u001b[39;49m\u001b[38;5;124;43m'\u001b[39;49m\u001b[43m]\u001b[49m\u001b[43m,\u001b[49m\n\u001b[1;32m    846\u001b[0m \u001b[43m    \u001b[49m\u001b[43m_return_http_data_only\u001b[49m\u001b[38;5;241;43m=\u001b[39;49m\u001b[43mkwargs\u001b[49m\u001b[43m[\u001b[49m\u001b[38;5;124;43m'\u001b[39;49m\u001b[38;5;124;43m_return_http_data_only\u001b[39;49m\u001b[38;5;124;43m'\u001b[39;49m\u001b[43m]\u001b[49m\u001b[43m,\u001b[49m\n\u001b[1;32m    847\u001b[0m \u001b[43m    \u001b[49m\u001b[43m_preload_content\u001b[49m\u001b[38;5;241;43m=\u001b[39;49m\u001b[43mkwargs\u001b[49m\u001b[43m[\u001b[49m\u001b[38;5;124;43m'\u001b[39;49m\u001b[38;5;124;43m_preload_content\u001b[39;49m\u001b[38;5;124;43m'\u001b[39;49m\u001b[43m]\u001b[49m\u001b[43m,\u001b[49m\n\u001b[1;32m    848\u001b[0m \u001b[43m    \u001b[49m\u001b[43m_request_timeout\u001b[49m\u001b[38;5;241;43m=\u001b[39;49m\u001b[43mkwargs\u001b[49m\u001b[43m[\u001b[49m\u001b[38;5;124;43m'\u001b[39;49m\u001b[38;5;124;43m_request_timeout\u001b[39;49m\u001b[38;5;124;43m'\u001b[39;49m\u001b[43m]\u001b[49m\u001b[43m,\u001b[49m\n\u001b[1;32m    849\u001b[0m \u001b[43m    \u001b[49m\u001b[43m_host\u001b[49m\u001b[38;5;241;43m=\u001b[39;49m\u001b[43m_host\u001b[49m\u001b[43m,\u001b[49m\n\u001b[1;32m    850\u001b[0m \u001b[43m    \u001b[49m\u001b[43mcollection_formats\u001b[49m\u001b[38;5;241;43m=\u001b[39;49m\u001b[43mparams\u001b[49m\u001b[43m[\u001b[49m\u001b[38;5;124;43m'\u001b[39;49m\u001b[38;5;124;43mcollection_format\u001b[39;49m\u001b[38;5;124;43m'\u001b[39;49m\u001b[43m]\u001b[49m\u001b[43m)\u001b[49m\n",
      "File \u001b[0;32m~/opt/anaconda3/envs/takehome_valence/lib/python3.12/site-packages/pinecone/core/client/api_client.py:409\u001b[0m, in \u001b[0;36mApiClient.call_api\u001b[0;34m(self, resource_path, method, path_params, query_params, header_params, body, post_params, files, response_type, auth_settings, async_req, _return_http_data_only, collection_formats, _preload_content, _request_timeout, _host, _check_type)\u001b[0m\n\u001b[1;32m    355\u001b[0m \u001b[38;5;250m\u001b[39m\u001b[38;5;124;03m\"\"\"Makes the HTTP request (synchronous) and returns deserialized data.\u001b[39;00m\n\u001b[1;32m    356\u001b[0m \n\u001b[1;32m    357\u001b[0m \u001b[38;5;124;03mTo make an async_req request, set the async_req parameter.\u001b[39;00m\n\u001b[0;32m   (...)\u001b[0m\n\u001b[1;32m    406\u001b[0m \u001b[38;5;124;03m    then the method will return the response directly.\u001b[39;00m\n\u001b[1;32m    407\u001b[0m \u001b[38;5;124;03m\"\"\"\u001b[39;00m\n\u001b[1;32m    408\u001b[0m \u001b[38;5;28;01mif\u001b[39;00m \u001b[38;5;129;01mnot\u001b[39;00m async_req:\n\u001b[0;32m--> 409\u001b[0m     \u001b[38;5;28;01mreturn\u001b[39;00m \u001b[38;5;28;43mself\u001b[39;49m\u001b[38;5;241;43m.\u001b[39;49m\u001b[43m__call_api\u001b[49m\u001b[43m(\u001b[49m\u001b[43mresource_path\u001b[49m\u001b[43m,\u001b[49m\u001b[43m \u001b[49m\u001b[43mmethod\u001b[49m\u001b[43m,\u001b[49m\n\u001b[1;32m    410\u001b[0m \u001b[43m                           \u001b[49m\u001b[43mpath_params\u001b[49m\u001b[43m,\u001b[49m\u001b[43m \u001b[49m\u001b[43mquery_params\u001b[49m\u001b[43m,\u001b[49m\u001b[43m \u001b[49m\u001b[43mheader_params\u001b[49m\u001b[43m,\u001b[49m\n\u001b[1;32m    411\u001b[0m \u001b[43m                           \u001b[49m\u001b[43mbody\u001b[49m\u001b[43m,\u001b[49m\u001b[43m \u001b[49m\u001b[43mpost_params\u001b[49m\u001b[43m,\u001b[49m\u001b[43m \u001b[49m\u001b[43mfiles\u001b[49m\u001b[43m,\u001b[49m\n\u001b[1;32m    412\u001b[0m \u001b[43m                           \u001b[49m\u001b[43mresponse_type\u001b[49m\u001b[43m,\u001b[49m\u001b[43m \u001b[49m\u001b[43mauth_settings\u001b[49m\u001b[43m,\u001b[49m\n\u001b[1;32m    413\u001b[0m \u001b[43m                           \u001b[49m\u001b[43m_return_http_data_only\u001b[49m\u001b[43m,\u001b[49m\u001b[43m \u001b[49m\u001b[43mcollection_formats\u001b[49m\u001b[43m,\u001b[49m\n\u001b[1;32m    414\u001b[0m \u001b[43m                           \u001b[49m\u001b[43m_preload_content\u001b[49m\u001b[43m,\u001b[49m\u001b[43m \u001b[49m\u001b[43m_request_timeout\u001b[49m\u001b[43m,\u001b[49m\u001b[43m \u001b[49m\u001b[43m_host\u001b[49m\u001b[43m,\u001b[49m\n\u001b[1;32m    415\u001b[0m \u001b[43m                           \u001b[49m\u001b[43m_check_type\u001b[49m\u001b[43m)\u001b[49m\n\u001b[1;32m    417\u001b[0m \u001b[38;5;28;01mreturn\u001b[39;00m \u001b[38;5;28mself\u001b[39m\u001b[38;5;241m.\u001b[39mpool\u001b[38;5;241m.\u001b[39mapply_async(\u001b[38;5;28mself\u001b[39m\u001b[38;5;241m.\u001b[39m__call_api, (resource_path,\n\u001b[1;32m    418\u001b[0m                                                method, path_params,\n\u001b[1;32m    419\u001b[0m                                                query_params,\n\u001b[0;32m   (...)\u001b[0m\n\u001b[1;32m    427\u001b[0m                                                _request_timeout,\n\u001b[1;32m    428\u001b[0m                                                _host, _check_type))\n",
      "File \u001b[0;32m~/opt/anaconda3/envs/takehome_valence/lib/python3.12/site-packages/pinecone/core/client/api_client.py:203\u001b[0m, in \u001b[0;36mApiClient.__call_api\u001b[0;34m(self, resource_path, method, path_params, query_params, header_params, body, post_params, files, response_type, auth_settings, _return_http_data_only, collection_formats, _preload_content, _request_timeout, _host, _check_type)\u001b[0m\n\u001b[1;32m    201\u001b[0m \u001b[38;5;28;01mexcept\u001b[39;00m PineconeApiException \u001b[38;5;28;01mas\u001b[39;00m e:\n\u001b[1;32m    202\u001b[0m     e\u001b[38;5;241m.\u001b[39mbody \u001b[38;5;241m=\u001b[39m e\u001b[38;5;241m.\u001b[39mbody\u001b[38;5;241m.\u001b[39mdecode(\u001b[38;5;124m'\u001b[39m\u001b[38;5;124mutf-8\u001b[39m\u001b[38;5;124m'\u001b[39m)\n\u001b[0;32m--> 203\u001b[0m     \u001b[38;5;28;01mraise\u001b[39;00m e\n\u001b[1;32m    205\u001b[0m \u001b[38;5;28mself\u001b[39m\u001b[38;5;241m.\u001b[39mlast_response \u001b[38;5;241m=\u001b[39m response_data\n\u001b[1;32m    207\u001b[0m return_data \u001b[38;5;241m=\u001b[39m response_data\n",
      "File \u001b[0;32m~/opt/anaconda3/envs/takehome_valence/lib/python3.12/site-packages/pinecone/core/client/api_client.py:196\u001b[0m, in \u001b[0;36mApiClient.__call_api\u001b[0;34m(self, resource_path, method, path_params, query_params, header_params, body, post_params, files, response_type, auth_settings, _return_http_data_only, collection_formats, _preload_content, _request_timeout, _host, _check_type)\u001b[0m\n\u001b[1;32m    192\u001b[0m     url \u001b[38;5;241m=\u001b[39m _host \u001b[38;5;241m+\u001b[39m resource_path\n\u001b[1;32m    194\u001b[0m \u001b[38;5;28;01mtry\u001b[39;00m:\n\u001b[1;32m    195\u001b[0m     \u001b[38;5;66;03m# perform request and return response\u001b[39;00m\n\u001b[0;32m--> 196\u001b[0m     response_data \u001b[38;5;241m=\u001b[39m \u001b[38;5;28;43mself\u001b[39;49m\u001b[38;5;241;43m.\u001b[39;49m\u001b[43mrequest\u001b[49m\u001b[43m(\u001b[49m\n\u001b[1;32m    197\u001b[0m \u001b[43m        \u001b[49m\u001b[43mmethod\u001b[49m\u001b[43m,\u001b[49m\u001b[43m \u001b[49m\u001b[43murl\u001b[49m\u001b[43m,\u001b[49m\u001b[43m \u001b[49m\u001b[43mquery_params\u001b[49m\u001b[38;5;241;43m=\u001b[39;49m\u001b[43mquery_params\u001b[49m\u001b[43m,\u001b[49m\u001b[43m \u001b[49m\u001b[43mheaders\u001b[49m\u001b[38;5;241;43m=\u001b[39;49m\u001b[43mheader_params\u001b[49m\u001b[43m,\u001b[49m\n\u001b[1;32m    198\u001b[0m \u001b[43m        \u001b[49m\u001b[43mpost_params\u001b[49m\u001b[38;5;241;43m=\u001b[39;49m\u001b[43mpost_params\u001b[49m\u001b[43m,\u001b[49m\u001b[43m \u001b[49m\u001b[43mbody\u001b[49m\u001b[38;5;241;43m=\u001b[39;49m\u001b[43mbody\u001b[49m\u001b[43m,\u001b[49m\n\u001b[1;32m    199\u001b[0m \u001b[43m        \u001b[49m\u001b[43m_preload_content\u001b[49m\u001b[38;5;241;43m=\u001b[39;49m\u001b[43m_preload_content\u001b[49m\u001b[43m,\u001b[49m\n\u001b[1;32m    200\u001b[0m \u001b[43m        \u001b[49m\u001b[43m_request_timeout\u001b[49m\u001b[38;5;241;43m=\u001b[39;49m\u001b[43m_request_timeout\u001b[49m\u001b[43m)\u001b[49m\n\u001b[1;32m    201\u001b[0m \u001b[38;5;28;01mexcept\u001b[39;00m PineconeApiException \u001b[38;5;28;01mas\u001b[39;00m e:\n\u001b[1;32m    202\u001b[0m     e\u001b[38;5;241m.\u001b[39mbody \u001b[38;5;241m=\u001b[39m e\u001b[38;5;241m.\u001b[39mbody\u001b[38;5;241m.\u001b[39mdecode(\u001b[38;5;124m'\u001b[39m\u001b[38;5;124mutf-8\u001b[39m\u001b[38;5;124m'\u001b[39m)\n",
      "File \u001b[0;32m~/opt/anaconda3/envs/takehome_valence/lib/python3.12/site-packages/pinecone/core/client/api_client.py:455\u001b[0m, in \u001b[0;36mApiClient.request\u001b[0;34m(self, method, url, query_params, headers, post_params, body, _preload_content, _request_timeout)\u001b[0m\n\u001b[1;32m    447\u001b[0m     \u001b[38;5;28;01mreturn\u001b[39;00m \u001b[38;5;28mself\u001b[39m\u001b[38;5;241m.\u001b[39mrest_client\u001b[38;5;241m.\u001b[39mOPTIONS(url,\n\u001b[1;32m    448\u001b[0m                                     query_params\u001b[38;5;241m=\u001b[39mquery_params,\n\u001b[1;32m    449\u001b[0m                                     headers\u001b[38;5;241m=\u001b[39mheaders,\n\u001b[0;32m   (...)\u001b[0m\n\u001b[1;32m    452\u001b[0m                                     _request_timeout\u001b[38;5;241m=\u001b[39m_request_timeout,\n\u001b[1;32m    453\u001b[0m                                     body\u001b[38;5;241m=\u001b[39mbody)\n\u001b[1;32m    454\u001b[0m \u001b[38;5;28;01melif\u001b[39;00m method \u001b[38;5;241m==\u001b[39m \u001b[38;5;124m\"\u001b[39m\u001b[38;5;124mPOST\u001b[39m\u001b[38;5;124m\"\u001b[39m:\n\u001b[0;32m--> 455\u001b[0m     \u001b[38;5;28;01mreturn\u001b[39;00m \u001b[38;5;28;43mself\u001b[39;49m\u001b[38;5;241;43m.\u001b[39;49m\u001b[43mrest_client\u001b[49m\u001b[38;5;241;43m.\u001b[39;49m\u001b[43mPOST\u001b[49m\u001b[43m(\u001b[49m\u001b[43murl\u001b[49m\u001b[43m,\u001b[49m\n\u001b[1;32m    456\u001b[0m \u001b[43m                                 \u001b[49m\u001b[43mquery_params\u001b[49m\u001b[38;5;241;43m=\u001b[39;49m\u001b[43mquery_params\u001b[49m\u001b[43m,\u001b[49m\n\u001b[1;32m    457\u001b[0m \u001b[43m                                 \u001b[49m\u001b[43mheaders\u001b[49m\u001b[38;5;241;43m=\u001b[39;49m\u001b[43mheaders\u001b[49m\u001b[43m,\u001b[49m\n\u001b[1;32m    458\u001b[0m \u001b[43m                                 \u001b[49m\u001b[43mpost_params\u001b[49m\u001b[38;5;241;43m=\u001b[39;49m\u001b[43mpost_params\u001b[49m\u001b[43m,\u001b[49m\n\u001b[1;32m    459\u001b[0m \u001b[43m                                 \u001b[49m\u001b[43m_preload_content\u001b[49m\u001b[38;5;241;43m=\u001b[39;49m\u001b[43m_preload_content\u001b[49m\u001b[43m,\u001b[49m\n\u001b[1;32m    460\u001b[0m \u001b[43m                                 \u001b[49m\u001b[43m_request_timeout\u001b[49m\u001b[38;5;241;43m=\u001b[39;49m\u001b[43m_request_timeout\u001b[49m\u001b[43m,\u001b[49m\n\u001b[1;32m    461\u001b[0m \u001b[43m                                 \u001b[49m\u001b[43mbody\u001b[49m\u001b[38;5;241;43m=\u001b[39;49m\u001b[43mbody\u001b[49m\u001b[43m)\u001b[49m\n\u001b[1;32m    462\u001b[0m \u001b[38;5;28;01melif\u001b[39;00m method \u001b[38;5;241m==\u001b[39m \u001b[38;5;124m\"\u001b[39m\u001b[38;5;124mPUT\u001b[39m\u001b[38;5;124m\"\u001b[39m:\n\u001b[1;32m    463\u001b[0m     \u001b[38;5;28;01mreturn\u001b[39;00m \u001b[38;5;28mself\u001b[39m\u001b[38;5;241m.\u001b[39mrest_client\u001b[38;5;241m.\u001b[39mPUT(url,\n\u001b[1;32m    464\u001b[0m                                 query_params\u001b[38;5;241m=\u001b[39mquery_params,\n\u001b[1;32m    465\u001b[0m                                 headers\u001b[38;5;241m=\u001b[39mheaders,\n\u001b[0;32m   (...)\u001b[0m\n\u001b[1;32m    468\u001b[0m                                 _request_timeout\u001b[38;5;241m=\u001b[39m_request_timeout,\n\u001b[1;32m    469\u001b[0m                                 body\u001b[38;5;241m=\u001b[39mbody)\n",
      "File \u001b[0;32m~/opt/anaconda3/envs/takehome_valence/lib/python3.12/site-packages/pinecone/core/client/rest.py:302\u001b[0m, in \u001b[0;36mRESTClientObject.POST\u001b[0;34m(self, url, headers, query_params, post_params, body, _preload_content, _request_timeout)\u001b[0m\n\u001b[1;32m    300\u001b[0m \u001b[38;5;28;01mdef\u001b[39;00m \u001b[38;5;21mPOST\u001b[39m(\u001b[38;5;28mself\u001b[39m, url, headers\u001b[38;5;241m=\u001b[39m\u001b[38;5;28;01mNone\u001b[39;00m, query_params\u001b[38;5;241m=\u001b[39m\u001b[38;5;28;01mNone\u001b[39;00m, post_params\u001b[38;5;241m=\u001b[39m\u001b[38;5;28;01mNone\u001b[39;00m,\n\u001b[1;32m    301\u001b[0m          body\u001b[38;5;241m=\u001b[39m\u001b[38;5;28;01mNone\u001b[39;00m, _preload_content\u001b[38;5;241m=\u001b[39m\u001b[38;5;28;01mTrue\u001b[39;00m, _request_timeout\u001b[38;5;241m=\u001b[39m\u001b[38;5;28;01mNone\u001b[39;00m):\n\u001b[0;32m--> 302\u001b[0m     \u001b[38;5;28;01mreturn\u001b[39;00m \u001b[38;5;28;43mself\u001b[39;49m\u001b[38;5;241;43m.\u001b[39;49m\u001b[43mrequest\u001b[49m\u001b[43m(\u001b[49m\u001b[38;5;124;43m\"\u001b[39;49m\u001b[38;5;124;43mPOST\u001b[39;49m\u001b[38;5;124;43m\"\u001b[39;49m\u001b[43m,\u001b[49m\u001b[43m \u001b[49m\u001b[43murl\u001b[49m\u001b[43m,\u001b[49m\n\u001b[1;32m    303\u001b[0m \u001b[43m                        \u001b[49m\u001b[43mheaders\u001b[49m\u001b[38;5;241;43m=\u001b[39;49m\u001b[43mheaders\u001b[49m\u001b[43m,\u001b[49m\n\u001b[1;32m    304\u001b[0m \u001b[43m                        \u001b[49m\u001b[43mquery_params\u001b[49m\u001b[38;5;241;43m=\u001b[39;49m\u001b[43mquery_params\u001b[49m\u001b[43m,\u001b[49m\n\u001b[1;32m    305\u001b[0m \u001b[43m                        \u001b[49m\u001b[43mpost_params\u001b[49m\u001b[38;5;241;43m=\u001b[39;49m\u001b[43mpost_params\u001b[49m\u001b[43m,\u001b[49m\n\u001b[1;32m    306\u001b[0m \u001b[43m                        \u001b[49m\u001b[43m_preload_content\u001b[49m\u001b[38;5;241;43m=\u001b[39;49m\u001b[43m_preload_content\u001b[49m\u001b[43m,\u001b[49m\n\u001b[1;32m    307\u001b[0m \u001b[43m                        \u001b[49m\u001b[43m_request_timeout\u001b[49m\u001b[38;5;241;43m=\u001b[39;49m\u001b[43m_request_timeout\u001b[49m\u001b[43m,\u001b[49m\n\u001b[1;32m    308\u001b[0m \u001b[43m                        \u001b[49m\u001b[43mbody\u001b[49m\u001b[38;5;241;43m=\u001b[39;49m\u001b[43mbody\u001b[49m\u001b[43m)\u001b[49m\n",
      "File \u001b[0;32m~/opt/anaconda3/envs/takehome_valence/lib/python3.12/site-packages/pinecone/core/client/rest.py:256\u001b[0m, in \u001b[0;36mRESTClientObject.request\u001b[0;34m(self, method, url, query_params, headers, body, post_params, _preload_content, _request_timeout)\u001b[0m\n\u001b[1;32m    253\u001b[0m     \u001b[38;5;28;01mraise\u001b[39;00m ForbiddenException(http_resp\u001b[38;5;241m=\u001b[39mr)\n\u001b[1;32m    255\u001b[0m \u001b[38;5;28;01mif\u001b[39;00m r\u001b[38;5;241m.\u001b[39mstatus \u001b[38;5;241m==\u001b[39m \u001b[38;5;241m404\u001b[39m:\n\u001b[0;32m--> 256\u001b[0m     \u001b[38;5;28;01mraise\u001b[39;00m NotFoundException(http_resp\u001b[38;5;241m=\u001b[39mr)\n\u001b[1;32m    258\u001b[0m \u001b[38;5;28;01mif\u001b[39;00m \u001b[38;5;241m500\u001b[39m \u001b[38;5;241m<\u001b[39m\u001b[38;5;241m=\u001b[39m r\u001b[38;5;241m.\u001b[39mstatus \u001b[38;5;241m<\u001b[39m\u001b[38;5;241m=\u001b[39m \u001b[38;5;241m599\u001b[39m:\n\u001b[1;32m    259\u001b[0m     \u001b[38;5;28;01mraise\u001b[39;00m ServiceException(http_resp\u001b[38;5;241m=\u001b[39mr)\n",
      "\u001b[0;31mNotFoundException\u001b[0m: (404)\nReason: Not Found\nHTTP response headers: HTTPHeaderDict({'Date': 'Sun, 09 Jun 2024 18:54:00 GMT', 'Content-Type': 'application/json', 'Content-Length': '55', 'Connection': 'keep-alive', 'x-pinecone-request-latency-ms': '1', 'x-pinecone-request-id': '1027437128989184151', 'x-envoy-upstream-service-time': '1', 'server': 'envoy'})\nHTTP response body: {\"code\":5,\"message\":\"Namespace not found\",\"details\":[]}\n"
     ]
    }
   ],
   "source": [
    "## CODE TO DELETE PINECONE:\n",
    "import os\n",
    "from pinecone import Pinecone\n",
    "pc = Pinecone(api_key=os.getenv(\"PINECONE_API_KEY\"))\n",
    "index = pc.Index(\"pubmed\")\n",
    "\n",
    "index.delete(delete_all=True)"
   ]
  },
  {
   "cell_type": "code",
   "execution_count": 4,
   "metadata": {},
   "outputs": [],
   "source": [
    "# completion llm  \n",
    "from langchain_cohere import ChatCohere\n",
    "import os\n",
    "\n",
    "llm = ChatCohere(model=\"command-r-plus\",temperature=0.0,max_tokens=4096)"
   ]
  },
  {
   "cell_type": "code",
   "execution_count": 5,
   "metadata": {},
   "outputs": [],
   "source": [
    "from langchain.agents import AgentExecutor\n",
    "from langchain_cohere.react_multi_hop.agent import create_cohere_react_agent\n",
    "from langchain_core.prompts import ChatPromptTemplate\n",
    "from langchain.agents import AgentExecutor, create_react_agent\n",
    "from langchain_core.runnables.history import RunnableWithMessageHistory\n",
    "from langchain.memory import ChatMessageHistory\n",
    "\n",
    "# Preamble\n",
    "preamble = \"\"\"\n",
    "You are an expert who answers the user's question with the most relevant datasource.\n",
    "You must answer in a precise and concise manner.\n",
    "You are equipped with a vectordatabase about scientific articles,\n",
    "a tool to get the SMILES string of a given molecule name,\n",
    "and a tool to predict the energy of a molecule from its SMILES string.\n",
    "\"\"\"\n",
    "\n",
    "# Prompt template\n",
    "prompt = ChatPromptTemplate.from_template(\"{input}\")\n",
    "# Create the ReAct agent\n",
    "agent = create_cohere_react_agent(\n",
    "   llm=llm,\n",
    "   tools=[query_vector_db_articles,get_smiles_from_pubchem, predict_energy_from_smiles],\n",
    "   prompt=prompt,\n",
    ")\n",
    "\n",
    "agent_executor = AgentExecutor(agent=agent,\n",
    "                               tools=[query_vector_db_articles,get_smiles_from_pubchem, predict_energy_from_smiles],\n",
    "                               verbose=True,\n",
    "                               handle_parsing_errors=True,)\n",
    "\n",
    "memory = ChatMessageHistory(session_id=\"test-session\")\n",
    "\n",
    "agent_with_chat_history = RunnableWithMessageHistory(\n",
    "    agent_executor,\n",
    "    # This is needed because in most real world scenarios, a session id is needed\n",
    "    # It isn't really used here because we are using a simple in memory ChatMessageHistory\n",
    "    lambda session_id: memory,\n",
    "    input_messages_key=\"input\",\n",
    "    history_messages_key=\"chat_history\",\n",
    ")"
   ]
  },
  {
   "cell_type": "code",
   "execution_count": 6,
   "metadata": {},
   "outputs": [
    {
     "name": "stderr",
     "output_type": "stream",
     "text": [
      "Parent run 9689418b-6616-4133-aaaa-1b802034265e not found for run 14bb503a-1230-453a-b427-d93d68c1dbe7. Treating as a root run.\n"
     ]
    },
    {
     "name": "stdout",
     "output_type": "stream",
     "text": [
      "\n",
      "\n",
      "\u001b[1m> Entering new AgentExecutor chain...\u001b[0m\n",
      "\u001b[32;1m\u001b[1;3m\n",
      "I will search for the paper 'Targeted therapy in advanced non-small cell lung cancer: current advances and future trends' and then write an answer based on the information I find.\n",
      "{'tool_name': 'query_vector_db_articles', 'parameters': {'query': 'Targeted therapy in advanced non-small cell lung cancer: current advances and future trends', 'metadata': {'title': 'Targeted therapy in advanced non-small cell lung cancer: current advances and future trends'}}}\n",
      "\u001b[0m\u001b[36;1m\u001b[1;3m[Document(page_content='Majeed\\xa0 et\\xa0al. J Hematol Oncol          (2021) 14:108  \\nhttps://doi.org/10.1186/s13045-021-01121-2\\nREVIEW\\nTargeted therapy in\\xa0advanced non-small cell \\nlung cancer: current advances and\\xa0future trends\\nUmair Majeed, Rami Manochakian, Yujie Zhao and Yanyan Lou*  \\nAbstract \\nLung cancer remains the leading cause of cancer-related mortality in both men and women in the US and worldwide. \\nNon-small cell lung cancer is the most common variety accounting for 84% of the cases. For a subset of patients with \\nactionable mutations, targeted therapy continues to provide durable responses. Advances in molecular and immu-\\nnohistochemical techniques have made it possible to usher lung cancer into the era of personalized medicine, with \\nthe patient getting individualized treatment based on these markers. This review summarizes the recent advances \\nin advanced NSCLC targeted therapy, focusing on first-in-human and early phase I/II clinical trials in patients with \\nadvanced disease. We have divided our discussion into different topics based on these agents’ mechanisms of action. \\nThis article is aimed to be the most current review of available and upcoming targeted NSCLC treatment options. We \\nwill also summarize the currently available phase I/II clinical trial for NSCLC patients at the end of each section.\\nKeywords: Advanced NSCLC, Targeted therapy, Phase I/II clinical trials, First-in-human, Lung cancer\\n© The Author(s) 2021. Open Access This article is licensed under a Creative Commons Attribution 4.0 International License, which \\npermits use, sharing, adaptation, distribution and reproduction in any medium or format, as long as you give appropriate credit to the \\noriginal author(s) and the source, provide a link to the Creative Commons licence, and indicate if changes were made. The images or \\nother third party material in this article are included in the article’s Creative Commons licence, unless indicated otherwise in a credit line \\nto the material. If material is not included in the article’s Creative Commons licence and your intended use is not permitted by statutory \\nregulation or exceeds the permitted use, you will need to obtain permission directly from the copyright holder. To view a copy of this \\nlicence, visit http:// creat iveco mmons. org/ licen ses/ by/4. 0/. The Creative Commons Public Domain Dedication waiver (http:// creat iveco  \\nmmons. org/ publi cdoma in/ zero/1. 0/) applies to the data made available in this article, unless otherwise stated in a credit line to the data.Background\\nLung cancer remains the number one cause of cancer-\\nrelated death worldwide. Overall, lung cancer causes \\nmore deaths than breast, prostate, colorectal, and brain \\ncancers combined [1]. In 2021, an estimated 235,760 \\nnew lung cancer cases will be diagnosed in the US, and \\n131,880 people will die from this disease [2]. Non-small \\ncell lung cancer (NSCLC) is the most common type of \\nlung cancer, accounting for more than two-thirds of the \\ncases, with most patients (84%) having advance disease at \\nthe time of diagnosis [3]. Identification of targetable alter -\\nation (i.e., EGFR, ALK, PI3K/AKT/mTOR, RAS-MAPK, \\nRET, MET, BRAF, and NTRK/ROS1) in patients with \\nadvanced NSCLC has evolved its treatment paradigm [4]. \\nThe approval and adoption of agents targeting these alter -\\nations has contributed to the decline in incidence-based \\nmortality from 35% among men with NSCLC diagnosed \\nin 2001 to 26% among those diagnosed in 2014. Similar patterns have been found among women with NSCLC \\n[5]. Despite these new therapeutic options for patients \\nwith advanced NSCLC, there continues to be significant \\nchallenges as resistance development and disease pro -\\ngression occurs in most of these patients [6]. This has led \\nto research in identifying drugs that can overcome these \\nresistance pathways. Next-generation sequencing, which \\ncan be performed on the tumor tissue and circulating \\ntumor DNA (ctDNA) in the blood, is now the standard', metadata={'page': 0.0, 'source': '.saved_pdfs/10.1186_s13045-021-01121-2.pdf', 'title': 'targeted therapy in advanced nonsmall cell lung cancer current advances and future trends'}), Document(page_content='resistance pathways. Next-generation sequencing, which \\ncan be performed on the tumor tissue and circulating \\ntumor DNA (ctDNA) in the blood, is now the standard \\nof care for all patients with advanced NSCLC [7]. It helps \\nin the rapid identification of actionable mutations and \\nresistance mechanisms.\\nIn this review after highlighting the different driver \\ngenomic alterations and their relative frequencies in \\nadvanced NSCLC we summarize the clinical efficacy and \\nsafety of FDA approved targeted therapies. We then dis -\\ncuss the recently published data on the first-in-human \\nclinical trials and some of the most promising drugs in \\nthe pipeline for this disease. Literature was searched \\nfor first-in-human, phase I and phase II clinical tri -\\nals in NSCLC using PubMed, Google Scholar, and the \\nAmerican Society of Clinical Oncology (ASCO) meeting \\nabstracts. Each study was individually reviewed, and data Open Access\\n*Correspondence:  lou.yanyan@mayo.edu\\nDivision of Hematology and Medical Oncology, Mayo Clinic, 4500 San \\nPablo Rd, Jacksonville, FL 32224, USA', metadata={'page': 0.0, 'source': '.saved_pdfs/10.1186_s13045-021-01121-2.pdf', 'title': 'targeted therapy in advanced nonsmall cell lung cancer current advances and future trends'}), Document(page_content='Page 14 of 20 Majeed\\xa0et\\xa0al. J Hematol Oncol          (2021) 14:108 \\ndocetaxel in previously treated advanced or metastatic \\nnon-small cell lung cancer (NSCLC) without actionable \\ngenomic alterations (TROPION-Lung01) is currently \\nalso underway (NCT04656652) [106].\\nMGC018 is an investigational ADC with a Duo -\\ncarmycin payload linked to an anti-B7-H3 mAB. It is \\nhypothesized that MGC018 has activity against B7-H3 \\nexpressing tumors (NCT03729596) [107].\\xa0Table\\xa0 11 sum -\\nmarizes the ongoing phase I/II clinical trials involv -\\ning\\xa0ADC in patients with advanced NSCLC.\\nPI3K/AKT/mTORC inhibitors\\nThe PI3K/AKT/mTOR pathway has been heavily impli -\\ncated in both tumorigenesis and progression of disease \\nin NSCLC. In a study, 1144 patients with NSCLC under -\\nwent next generation sequencing for PI3KCA mutations. \\nMutations were identified in 3.7% of the patients [108]. \\nNon-small cell lung squamous cell carcinoma (8.9%) \\nwere more likely to be have these mutations when com -\\npared with adenocarcinoma (2.9%). On the other hand upregulation of mTOR pathway is seen in up to 90% of \\nthe patients with NSCLC adenocarcinoma compared to \\n40% of the patients with squamous cell carcinoma [109]. \\nS6K and 4E-BP1 are the downstream products of mTOR \\nactivation. These have also been identified in up to 58% \\nand 25% of NSCLC specimens respectively [110]. It is \\nalso postulated that in patients with an EGFR mutant \\nNSCLC, the AKT/mTOR pathway is constitutively acti -\\nvated in 67% of cases [111].\\nSapanisertib (TAK228) is an oral TORC1/2 inhibitor. In \\na phase II trial with stage IV squamous NSCLC patients, \\nit showed differential activity in NFE2L2 (ORR of 20%) \\nand KEAP1(ORR of 17%) mutant patients [112]. Most \\ncommon AEs included hyperglycemia (72%), fatigue \\n(32%), diarrhea (32%), decreased appetite (32%).\\nSirolimus binds to FKBP-12, an intracellular protein, \\nto form an immunosuppressive complex which inhib -\\nits mTOR [113]. It is being studied in a phase I/II trial \\nNCT01737502 with auranofin (gold salt) in advanced or \\nrecurrent NSCLC patients without standard treatment Table 11 Current ongoing early phase I/II trials with ADC\\nADC\\nDrug name Mechanism of action Clinical trial (phase) Study design Disease\\nCAB-ROR2-ADC Anti-ROR2 ADC NCT03504488 (1/2) Monotherapy Advanced solid tumors includ-\\ning NSCLC\\nCofetuzumab Pelidotin PTK7 ADC NCT04189614 (1b) Monotherapy PTK7-expressing recurrent \\nNSCLC\\nDS-1062a ADC targeting TROP2 NCT04612751 (1) Combination with Durvalumab Advanced NSCLC with progres-\\nsion on chemotherapy and \\nimmunotherapy\\nMGC018 ADC delivers Duocarmycin NCT03729596 (1/2) Monotherapy and combina-\\ntion with MGA012 (anti-PD1Advanced solid tumors includ-\\ning NSCLC\\nU3-1402 (Patritumab derux -\\ntecan)Drug (MAAA-1181a) linked \\nto AB (Patritumab)NCT03260491 (1) Monotherapy Advanced NSCLC with acquired \\nresistance to EGFR TKI\\nTable 12 Current ongoing early phase I/II trials with mTOR/PI3K inhibitors\\nmTOR/PI3K pathway Inhibitors\\nDrug name Mechanism of action Clinical trial (Phase) Study design Disease\\nGedatolisib (PF-05212384) pan-PI3K/mTOR inhibitor NCT03065062 (1) Combination with Palbociclib Advanced tumors including \\nsquamous NSCLC\\nIdelalisib PI3K inhibitor NCT03257722 (1) Combination with Pembroli-\\nzumabAdvanced NSCLC with progres-\\nsion on first line therapy\\nNab Rapamycin (ABI-009) mTOR inhibitor NCT03190174 (1/2) Combination with Nivolumab Advanced solid tumors includ-\\ning NSCLC\\nRMC-5552 bi-steric mTORC1-selective \\ninhibitorNCT04774952 (1/1b) Monotherapy Advanced solid tumors includ-\\ning NSCLC\\nSapanisertib mTORC1/mTORC2 inhibitor NCT02417701 (2) Monotherapy KRAS mutant NSCLC with KEAP1 \\nmutation\\nSirolimus mTOR inhibitor NCT01737502 (1/2) Combination with Auranofin Advanced or Recurrent Lung \\nCancer', metadata={'page': 13.0, 'source': '.saved_pdfs/10.1186_s13045-021-01121-2.pdf', 'title': 'targeted therapy in advanced nonsmall cell lung cancer current advances and future trends'})]\u001b[0m\u001b[32;1m\u001b[1;3mRelevant Documents: 0,1,2\n",
      "Cited Documents: 0,1,2\n",
      "Answer: The paper discusses non-small cell lung cancer.\n",
      "Grounded answer: The paper discusses <co: 0,1,2>non-small cell lung cancer</co: 0,1,2>.\u001b[0m\n",
      "\n",
      "\u001b[1m> Finished chain.\u001b[0m\n",
      "The paper discusses non-small cell lung cancer.\n"
     ]
    }
   ],
   "source": [
    "response = agent_with_chat_history.invoke(\n",
    "    {\"input\": \"What disease are they discussing in the paper '{}'?\".format(title)},\n",
    "    config={\"configurable\": {\"session_id\": \"<foo>\"}},\n",
    ")\n",
    "print(response['output'])"
   ]
  },
  {
   "cell_type": "code",
   "execution_count": 7,
   "metadata": {},
   "outputs": [
    {
     "name": "stderr",
     "output_type": "stream",
     "text": [
      "Parent run d8d45b8e-e729-48a2-8c7a-aeb4158d0351 not found for run 3db07edc-d85e-419e-a58d-f30048a003d6. Treating as a root run.\n"
     ]
    },
    {
     "name": "stdout",
     "output_type": "stream",
     "text": [
      "\n",
      "\n",
      "\u001b[1m> Entering new AgentExecutor chain...\u001b[0m\n",
      "\u001b[32;1m\u001b[1;3m\n",
      "I will read the paper and summarise the main takeaways.\n",
      "{'tool_name': 'query_vector_db_articles', 'parameters': {'query': 'Targeted therapy in advanced non-small cell lung cancer: current advances and future trends.', 'metadata': {'title': 'Targeted therapy in advanced non-small cell lung cancer: current advances and future trends.'}}}\n",
      "\u001b[0m\u001b[36;1m\u001b[1;3m[Document(page_content='Majeed\\xa0 et\\xa0al. J Hematol Oncol          (2021) 14:108  \\nhttps://doi.org/10.1186/s13045-021-01121-2\\nREVIEW\\nTargeted therapy in\\xa0advanced non-small cell \\nlung cancer: current advances and\\xa0future trends\\nUmair Majeed, Rami Manochakian, Yujie Zhao and Yanyan Lou*  \\nAbstract \\nLung cancer remains the leading cause of cancer-related mortality in both men and women in the US and worldwide. \\nNon-small cell lung cancer is the most common variety accounting for 84% of the cases. For a subset of patients with \\nactionable mutations, targeted therapy continues to provide durable responses. Advances in molecular and immu-\\nnohistochemical techniques have made it possible to usher lung cancer into the era of personalized medicine, with \\nthe patient getting individualized treatment based on these markers. This review summarizes the recent advances \\nin advanced NSCLC targeted therapy, focusing on first-in-human and early phase I/II clinical trials in patients with \\nadvanced disease. We have divided our discussion into different topics based on these agents’ mechanisms of action. \\nThis article is aimed to be the most current review of available and upcoming targeted NSCLC treatment options. We \\nwill also summarize the currently available phase I/II clinical trial for NSCLC patients at the end of each section.\\nKeywords: Advanced NSCLC, Targeted therapy, Phase I/II clinical trials, First-in-human, Lung cancer\\n© The Author(s) 2021. Open Access This article is licensed under a Creative Commons Attribution 4.0 International License, which \\npermits use, sharing, adaptation, distribution and reproduction in any medium or format, as long as you give appropriate credit to the \\noriginal author(s) and the source, provide a link to the Creative Commons licence, and indicate if changes were made. The images or \\nother third party material in this article are included in the article’s Creative Commons licence, unless indicated otherwise in a credit line \\nto the material. If material is not included in the article’s Creative Commons licence and your intended use is not permitted by statutory \\nregulation or exceeds the permitted use, you will need to obtain permission directly from the copyright holder. To view a copy of this \\nlicence, visit http:// creat iveco mmons. org/ licen ses/ by/4. 0/. The Creative Commons Public Domain Dedication waiver (http:// creat iveco  \\nmmons. org/ publi cdoma in/ zero/1. 0/) applies to the data made available in this article, unless otherwise stated in a credit line to the data.Background\\nLung cancer remains the number one cause of cancer-\\nrelated death worldwide. Overall, lung cancer causes \\nmore deaths than breast, prostate, colorectal, and brain \\ncancers combined [1]. In 2021, an estimated 235,760 \\nnew lung cancer cases will be diagnosed in the US, and \\n131,880 people will die from this disease [2]. Non-small \\ncell lung cancer (NSCLC) is the most common type of \\nlung cancer, accounting for more than two-thirds of the \\ncases, with most patients (84%) having advance disease at \\nthe time of diagnosis [3]. Identification of targetable alter -\\nation (i.e., EGFR, ALK, PI3K/AKT/mTOR, RAS-MAPK, \\nRET, MET, BRAF, and NTRK/ROS1) in patients with \\nadvanced NSCLC has evolved its treatment paradigm [4]. \\nThe approval and adoption of agents targeting these alter -\\nations has contributed to the decline in incidence-based \\nmortality from 35% among men with NSCLC diagnosed \\nin 2001 to 26% among those diagnosed in 2014. Similar patterns have been found among women with NSCLC \\n[5]. Despite these new therapeutic options for patients \\nwith advanced NSCLC, there continues to be significant \\nchallenges as resistance development and disease pro -\\ngression occurs in most of these patients [6]. This has led \\nto research in identifying drugs that can overcome these \\nresistance pathways. Next-generation sequencing, which \\ncan be performed on the tumor tissue and circulating \\ntumor DNA (ctDNA) in the blood, is now the standard', metadata={'page': 0.0, 'source': '.saved_pdfs/10.1186_s13045-021-01121-2.pdf', 'title': 'targeted therapy in advanced nonsmall cell lung cancer current advances and future trends'}), Document(page_content='resistance pathways. Next-generation sequencing, which \\ncan be performed on the tumor tissue and circulating \\ntumor DNA (ctDNA) in the blood, is now the standard \\nof care for all patients with advanced NSCLC [7]. It helps \\nin the rapid identification of actionable mutations and \\nresistance mechanisms.\\nIn this review after highlighting the different driver \\ngenomic alterations and their relative frequencies in \\nadvanced NSCLC we summarize the clinical efficacy and \\nsafety of FDA approved targeted therapies. We then dis -\\ncuss the recently published data on the first-in-human \\nclinical trials and some of the most promising drugs in \\nthe pipeline for this disease. Literature was searched \\nfor first-in-human, phase I and phase II clinical tri -\\nals in NSCLC using PubMed, Google Scholar, and the \\nAmerican Society of Clinical Oncology (ASCO) meeting \\nabstracts. Each study was individually reviewed, and data Open Access\\n*Correspondence:  lou.yanyan@mayo.edu\\nDivision of Hematology and Medical Oncology, Mayo Clinic, 4500 San \\nPablo Rd, Jacksonville, FL 32224, USA', metadata={'page': 0.0, 'source': '.saved_pdfs/10.1186_s13045-021-01121-2.pdf', 'title': 'targeted therapy in advanced nonsmall cell lung cancer current advances and future trends'}), Document(page_content='Page 14 of 20 Majeed\\xa0et\\xa0al. J Hematol Oncol          (2021) 14:108 \\ndocetaxel in previously treated advanced or metastatic \\nnon-small cell lung cancer (NSCLC) without actionable \\ngenomic alterations (TROPION-Lung01) is currently \\nalso underway (NCT04656652) [106].\\nMGC018 is an investigational ADC with a Duo -\\ncarmycin payload linked to an anti-B7-H3 mAB. It is \\nhypothesized that MGC018 has activity against B7-H3 \\nexpressing tumors (NCT03729596) [107].\\xa0Table\\xa0 11 sum -\\nmarizes the ongoing phase I/II clinical trials involv -\\ning\\xa0ADC in patients with advanced NSCLC.\\nPI3K/AKT/mTORC inhibitors\\nThe PI3K/AKT/mTOR pathway has been heavily impli -\\ncated in both tumorigenesis and progression of disease \\nin NSCLC. In a study, 1144 patients with NSCLC under -\\nwent next generation sequencing for PI3KCA mutations. \\nMutations were identified in 3.7% of the patients [108]. \\nNon-small cell lung squamous cell carcinoma (8.9%) \\nwere more likely to be have these mutations when com -\\npared with adenocarcinoma (2.9%). On the other hand upregulation of mTOR pathway is seen in up to 90% of \\nthe patients with NSCLC adenocarcinoma compared to \\n40% of the patients with squamous cell carcinoma [109]. \\nS6K and 4E-BP1 are the downstream products of mTOR \\nactivation. These have also been identified in up to 58% \\nand 25% of NSCLC specimens respectively [110]. It is \\nalso postulated that in patients with an EGFR mutant \\nNSCLC, the AKT/mTOR pathway is constitutively acti -\\nvated in 67% of cases [111].\\nSapanisertib (TAK228) is an oral TORC1/2 inhibitor. In \\na phase II trial with stage IV squamous NSCLC patients, \\nit showed differential activity in NFE2L2 (ORR of 20%) \\nand KEAP1(ORR of 17%) mutant patients [112]. Most \\ncommon AEs included hyperglycemia (72%), fatigue \\n(32%), diarrhea (32%), decreased appetite (32%).\\nSirolimus binds to FKBP-12, an intracellular protein, \\nto form an immunosuppressive complex which inhib -\\nits mTOR [113]. It is being studied in a phase I/II trial \\nNCT01737502 with auranofin (gold salt) in advanced or \\nrecurrent NSCLC patients without standard treatment Table 11 Current ongoing early phase I/II trials with ADC\\nADC\\nDrug name Mechanism of action Clinical trial (phase) Study design Disease\\nCAB-ROR2-ADC Anti-ROR2 ADC NCT03504488 (1/2) Monotherapy Advanced solid tumors includ-\\ning NSCLC\\nCofetuzumab Pelidotin PTK7 ADC NCT04189614 (1b) Monotherapy PTK7-expressing recurrent \\nNSCLC\\nDS-1062a ADC targeting TROP2 NCT04612751 (1) Combination with Durvalumab Advanced NSCLC with progres-\\nsion on chemotherapy and \\nimmunotherapy\\nMGC018 ADC delivers Duocarmycin NCT03729596 (1/2) Monotherapy and combina-\\ntion with MGA012 (anti-PD1Advanced solid tumors includ-\\ning NSCLC\\nU3-1402 (Patritumab derux -\\ntecan)Drug (MAAA-1181a) linked \\nto AB (Patritumab)NCT03260491 (1) Monotherapy Advanced NSCLC with acquired \\nresistance to EGFR TKI\\nTable 12 Current ongoing early phase I/II trials with mTOR/PI3K inhibitors\\nmTOR/PI3K pathway Inhibitors\\nDrug name Mechanism of action Clinical trial (Phase) Study design Disease\\nGedatolisib (PF-05212384) pan-PI3K/mTOR inhibitor NCT03065062 (1) Combination with Palbociclib Advanced tumors including \\nsquamous NSCLC\\nIdelalisib PI3K inhibitor NCT03257722 (1) Combination with Pembroli-\\nzumabAdvanced NSCLC with progres-\\nsion on first line therapy\\nNab Rapamycin (ABI-009) mTOR inhibitor NCT03190174 (1/2) Combination with Nivolumab Advanced solid tumors includ-\\ning NSCLC\\nRMC-5552 bi-steric mTORC1-selective \\ninhibitorNCT04774952 (1/1b) Monotherapy Advanced solid tumors includ-\\ning NSCLC\\nSapanisertib mTORC1/mTORC2 inhibitor NCT02417701 (2) Monotherapy KRAS mutant NSCLC with KEAP1 \\nmutation\\nSirolimus mTOR inhibitor NCT01737502 (1/2) Combination with Auranofin Advanced or Recurrent Lung \\nCancer', metadata={'page': 13.0, 'source': '.saved_pdfs/10.1186_s13045-021-01121-2.pdf', 'title': 'targeted therapy in advanced nonsmall cell lung cancer current advances and future trends'})]\u001b[0m\u001b[32;1m\u001b[1;3mRelevant Documents: 0,1,2\n",
      "Cited Documents: 0,1,2\n",
      "Answer: The main takeaways from the paper are:\n",
      "- Lung cancer is the leading cause of cancer-related mortality in both men and women in the US and worldwide.\n",
      "- Non-small cell lung cancer (NSCLC) is the most common type of lung cancer, accounting for more than two-thirds of cases, with most patients (84%) having advanced disease at the time of diagnosis.\n",
      "- Targeted therapy continues to provide durable responses for a subset of patients with actionable mutations.\n",
      "- Advances in molecular and immunohistochemical techniques have made it possible to usher lung cancer into the era of personalised medicine, with the patient getting individualised treatment based on these markers.\n",
      "- The paper reviews the recent advances in advanced NSCLC targeted therapy, focusing on first-in-human and early phase I/II clinical trials in patients with advanced disease.\n",
      "- The paper also summarises the currently available phase I/II clinical trials for NSCLC patients.\n",
      "- Next-generation sequencing, which can be performed on tumour tissue and circulating tumour DNA (ctDNA) in the blood, is now the standard of care for all patients with advanced NSCLC.\n",
      "- The paper discusses the different driver genomic alterations and their relative frequencies in advanced NSCLC, as well as the clinical efficacy and safety of FDA-approved targeted therapies.\n",
      "- The paper also discusses the recently published data on first-in-human clinical trials and some of the most promising drugs in the pipeline for this disease.\n",
      "Grounded answer: The main takeaways from the paper are:\n",
      "- <co: 0>Lung cancer is the leading cause of cancer-related mortality in both men and women in the US and worldwide</co: 0>.\n",
      "- <co: 0>Non-small cell lung cancer (NSCLC) is the most common type of lung cancer</co: 0>, accounting for <co: 0>more than two-thirds of cases</co: 0>, with <co: 0>most patients (84%) having advanced disease at the time of diagnosis</co: 0>.\n",
      "- <co: 0>Targeted therapy continues to provide durable responses for a subset of patients with actionable mutations</co: 0>.\n",
      "- <co: 0>Advances in molecular and immunohistochemical techniques have made it possible to usher lung cancer into the era of personalised medicine</co: 0>, with the <co: 0>patient getting individualised treatment based on these markers</co: 0>.\n",
      "- The paper <co: 0>reviews the recent advances in advanced NSCLC targeted therapy</co: 0>, focusing on <co: 0>first-in-human and early phase I/II clinical trials in patients with advanced disease</co: 0>.\n",
      "- The paper also <co: 0>summarises the currently available phase I/II clinical trials for NSCLC patients</co: 0>.\n",
      "- <co: 1>Next-generation sequencing</co: 1>, which can be <co: 1>performed on tumour tissue and circulating tumour DNA (ctDNA) in the blood</co: 1>, is now the <co: 1>standard of care for all patients with advanced NSCLC</co: 1>.\n",
      "- The paper discusses the <co: 1>different driver genomic alterations and their relative frequencies in advanced NSCLC</co: 1>, as well as the <co: 1>clinical efficacy and safety of FDA-approved targeted therapies</co: 1>.\n",
      "- The paper also discusses the <co: 1>recently published data on first-in-human clinical trials and some of the most promising drugs in the pipeline for this disease</co: 1>.\u001b[0m\n",
      "\n",
      "\u001b[1m> Finished chain.\u001b[0m\n",
      "The main takeaways from the paper are:\n",
      "- Lung cancer is the leading cause of cancer-related mortality in both men and women in the US and worldwide.\n",
      "- Non-small cell lung cancer (NSCLC) is the most common type of lung cancer, accounting for more than two-thirds of cases, with most patients (84%) having advanced disease at the time of diagnosis.\n",
      "- Targeted therapy continues to provide durable responses for a subset of patients with actionable mutations.\n",
      "- Advances in molecular and immunohistochemical techniques have made it possible to usher lung cancer into the era of personalised medicine, with the patient getting individualised treatment based on these markers.\n",
      "- The paper reviews the recent advances in advanced NSCLC targeted therapy, focusing on first-in-human and early phase I/II clinical trials in patients with advanced disease.\n",
      "- The paper also summarises the currently available phase I/II clinical trials for NSCLC patients.\n",
      "- Next-generation sequencing, which can be performed on tumour tissue and circulating tumour DNA (ctDNA) in the blood, is now the standard of care for all patients with advanced NSCLC.\n",
      "- The paper discusses the different driver genomic alterations and their relative frequencies in advanced NSCLC, as well as the clinical efficacy and safety of FDA-approved targeted therapies.\n",
      "- The paper also discusses the recently published data on first-in-human clinical trials and some of the most promising drugs in the pipeline for this disease.\n"
     ]
    }
   ],
   "source": [
    "response = agent_with_chat_history.invoke(\n",
    "    {\"input\": \"Summarize the main takeaways from the paper.\"},\n",
    "    config={\"configurable\": {\"session_id\": \"<foo>\"}},\n",
    ")\n",
    "print(response['output'])"
   ]
  },
  {
   "cell_type": "code",
   "execution_count": 8,
   "metadata": {},
   "outputs": [
    {
     "name": "stderr",
     "output_type": "stream",
     "text": [
      "Parent run bd88bcad-c465-4ba1-980d-af4c919f8e03 not found for run f7a4232b-939c-42e5-a8aa-a35d47bf1cdc. Treating as a root run.\n"
     ]
    },
    {
     "name": "stdout",
     "output_type": "stream",
     "text": [
      "\n",
      "\n",
      "\u001b[1m> Entering new AgentExecutor chain...\u001b[0m\n",
      "\u001b[32;1m\u001b[1;3m\n",
      "I will read the paper to find the protein targets highlighted in it.\n",
      "{'tool_name': 'query_vector_db_articles', 'parameters': {'query': 'protein targets', 'metadata': {'title': 'Targeted therapy in advanced non-small cell lung cancer: current advances and future trends.'}}}\n",
      "\u001b[0m\u001b[36;1m\u001b[1;3m[Document(page_content='Page 20 of 20 Majeed\\xa0et\\xa0al. J Hematol Oncol          (2021) 14:108 \\n•\\n fast, convenient online submission\\n •\\n  thorough peer review by experienced researchers in your ﬁeld\\n• \\n rapid publication on acceptance\\n• \\n support for research data, including large and complex data types\\n•\\n  gold Open Access which fosters wider collaboration and increased citations \\n maximum visibility for your research: over 100M website views per year •\\n  At BMC, research is always in progress.\\nLearn more biomedcentral.com/submissionsReady to submit y our researc h Ready to submit y our researc h  ?  Choose BMC and benefit fr om: ?  Choose BMC and benefit fr om: \\ninhibitor-resistant, EGFR-mutated (EGFRm) non-small cell lung cancer \\n(NSCLC). J Clin Oncol. 2021;39(15_suppl):9007.\\n 101. Schaefer ES, Camidge DR, Yoh K, Zer A, Hernandez Guerrero T, Bar \\nJ, et al. A phase 1b, open-label, single-arm study of cofetuzumab \\npelidotin (a PTK7-targeting antibody-drug conjugate) in patients with \\nPTK7-expressing, recurrent non-small cell lung cancer (NSCLC). J Clin \\nOncol. 2021;39(15_suppl):TPS3142-TPS.\\n 102. Damelin M, Bankovich A, Bernstein J, Lucas J, Chen L, Williams S, et al. \\nA PTK7-targeted antibody-drug conjugate reduces tumor-initiating \\ncells and induces sustained tumor regressions. Sci Transl Med. \\n2017;9(372):eaag2611.\\n 103. Sachdev JC, Maitland ML, Sharma M, Moreno V, Boni V, Kummar S, et al. \\nPF-06647020 (PF-7020), an antibody-drug conjugate (ADC) targeting \\nprotein tyrosine kinase 7 (PTK7), in patients (pts) with advanced solid \\ntumors: Results of a phase I dose escalation and expansion study. J Clin \\nOncol. 2018;36(15_suppl):5565.\\n 104. Gazzah A, Ricordel C, Cousin S, Cho BC, Calvo E, Kim TM, et al. Efficacy \\nand safety of the antibody-drug conjugate (ADC) SAR408701 in \\npatients (pts) with non-squamous non-small cell lung cancer (NSQ \\nNSCLC) expressing carcinoembryonic antigen-related cell adhesion \\nmolecule 5 (CEACAM5). J Clin Oncol. 2020;38(15_suppl):9505.\\n 105. Spira A, Lisberg A, Sands J, Greenberg J, Phillips P , Guevara F, et al. \\nOA03.03 datopotamab deruxtecan (Dato-DXd; DS-1062), a TROP2 ADC, \\nin patients with advanced NSCLC: updated results of TROPION-PanTu-\\nmor01 phase 1 study. J Thorac Oncol. 2021;16(3, Supplement):S106–7.\\n 106. Yoh K, Goto Y, Thomas M, Spira AI, Sands J, Johnson ML, et al. A \\nrandomized, phase 3 study of datopotamab deruxtecan (Dato-DXd; \\nDS-1062) versus docetaxel in previously treated advanced or metastatic \\nnon-small cell lung cancer (NSCLC) without actionable genomic altera-\\ntions (TROPION-Lung01). J Clin Oncol. 2021;39(15_suppl):TPS9127-TPS.\\n 107. Powderly JD, Jang S, Lohr J, Spira AI, Bohac GC, Sharma M. Prelimi-\\nnary dose escalation results from a phase I/II, first-in-human study \\nof MGC018 (anti-B7-H3 antibody-drug conjugate) in patients with \\nadvanced solid tumors. J Clin Oncol. 2020;38(15_suppl):3071.\\n 108. Scheffler M, Bos M, Gardizi M, König K, Michels S, Fassunke J, et al. \\nPIK3CA mutations in non-small cell lung cancer (NSCLC): genetic \\nheterogeneity, prognostic impact and incidence of prior malignancies. \\nOncotarget. 2015;6(2):1315–26.\\n 109. Dobashi Y, Suzuki S, Matsubara H, Kimura M, Endo S, Ooi A. Critical and \\ndiverse involvement of Akt/mammalian target of rapamycin signaling \\nin human lung carcinomas. Cancer. 2009;115(1):107–18.\\n 110. Dobashi Y, Watanabe Y, Miwa C, Suzuki S, Koyama S. Mammalian target \\nof rapamycin: a central node of complex signaling cascades. Int J Clin \\nExp Pathol. 2011;4(5):476–95. 111. Dobashi Y, Koyama S, Kanai Y, Tetsuka K. Kinase-driven pathways of \\nEGFR in lung carcinomas: perspectives on targeting therapy. Front \\nBiosci (Landmark Ed). 2011;16:1714–32.\\n 112. Paik PK, Ahn LSH, Plodkowski AJ, Fan P-D, Rudin CM. Phase II study \\nof TAK228 in patients with advanced non-small cell lung cancer \\n(NSCLC) harboring NFE2L2 and KEAP1 mutations. J Clin Oncol. \\n2020;38(15_suppl):9607.\\n 113. Yoo YJ, Kim H, Park SR, Yoon YJ. An overview of rapamycin: from', metadata={'page': 19.0, 'source': '.saved_pdfs/10.1186_s13045-021-01121-2.pdf', 'title': 'targeted therapy in advanced nonsmall cell lung cancer current advances and future trends'}), Document(page_content='Page 15 of 20\\n Majeed\\xa0et\\xa0al. J Hematol Oncol          (2021) 14:108 \\n \\nTable 13 Current ongoing early phase I/II trials with miscellaneous target inhibitors\\nDrug name Mechanism of action Clinical trial (phase) Study design Disease\\nERBB2(HER2) inhibitors\\nAdo-trastuzumab emtansine HER2-targeted antibody–drug \\nconjugateNCT03784599 (1/2) Combination with osimertinib EGFR mutant advanced NSCLC\\nMobocertinib (TAk-788) TKI targeting EGFR ex20ins \\nmutationsNCT02716116 (1/2) Combination with chemo -\\ntherapyEGFR and HER2 exon 20 inser -\\ntion in advanced NSCLC\\nPoziotinib EGFR, HER2 and HER 4 inhibi-\\ntorsNCT03066206 (2) Monotherapy EGFR exon 20 and HER2 exon 20 \\nmutated advanced NSCLC\\ntrastuzumab deruxtecan HER2-directed antibody–drug \\nconjugateNCT04644237 (2) Monotherapy HER2 mutated advanced NSCLC\\nSHP2 inhibitors\\nJAB-3068 SHP2 inhibitor NCT03518554 (1) Monotherapy Advanced solid tumors includ-\\ning NSCLC\\nTNO155 SHP2 inhibitor NCT03114319 (1) Monotherapy and combina-\\ntion with NazartinibAdvanced solid tumors includ-\\ning NSCLC\\nOther miscellaneous target inhibitors\\nAliseritib Selective aurora A kinase \\ninhibitorNCT04085315 (1/2) Combination with Osimertinib EGFR mutant NSCLC progress-\\ning after first line TKI\\nAnlotinib VEGFR, FGFR, PDGFR, c-kit \\nInhibitorNCT04165330 (1/2) Combination with Nivolumab Solid tumors including NSCLC\\nApatinib VEGFR-2 Inhibitor NCT03811054 (2) Combination with EGFR-TKI EGFR mutant NSCLC progress-\\ning after first line TKI\\nAPG-1252 Small molecule inhibitor of \\nBCL2NCT04001777 (1) Monotherapy and combina-\\ntion with OsimertinibEGFR mutant NSCLC\\nBMS-986205 IDO1 inhibitor NCT02658890 (1/2) Combination with Nivolumab \\nand IpilimumabAdvanced solid tumors includ-\\ning NSCLC\\nEprenetapopt (Apr-246) Stabilizes p53 in normal, \\nfunctional structureNCT04383938 (1/2) Combination with Pembroli-\\nzumabAdvanced solid tumors includ-\\ning NSCLC\\nHBI-8000 Histone deacetylase inhibitor NCT02718066 (1/2) Combination with Nivolumab Advanced NSCLC\\nIdelalisib PI3K inhibitor NCT03257722 (1/2) Combination with Pembroli-\\nzumabAdvanced NSCLC with progres-\\nsion on first line therapy\\nIRX4204 Rexinoid, potent activator of \\nRXRsNCT02991651 (1) Monotherapy and combina-\\ntion with ErlotinibAdvanced NSCLC with progres-\\nsion on two lines of therapy\\nNC318 IgG1 mAB specific for S15 NCT03665285 (1/2) Monotherapy Advanced solid tumors includ-\\ning NSCLC\\nNingetinib (CT053PTSA) Multi kinase inhibitor MET/\\nHGFRNCT03758287 (1/2) Combination with Gefitinib NSCLC with EGFR mutation and \\nT790M negative\\nNintedanib PDGFR, FGFR, VEGFR inhibitor NCT03377023 (1/2) Combination with Nivolumab \\nand IpilimumabAdvanced or metastatic NSCLC\\nRGX-104 Liver X receptor agonist NCT02922764 (1) Monotherapy or in combina-\\ntion with immunotherapy or \\nchemotherapyAdvanced solid tumors includ-\\ning NSCLC\\nRucaparib PARP inhibitor NCT03845296 (2) Monotherapy Recurrent NSCLC\\nSelinexor Exportin 1 inhibitor NCT03095612 (1/2) Combination with docetaxel Advanced KRAS mutant NSCLC \\nwith progression on first line \\ntherapy\\nSelumetinib MAPK inhibitor NCT03392246 (2) Combination with Osimertinib Advanced EGFR mutant NSCLC\\nRamucirumab VEGFR2 antagonist NCT03909334 (2) Combination with Osimertinib EGFR mutant NSCLC\\nTelaglenastat HCL Glutaminase inhibitor NCT03831932 (1/2) Combination with Osimertinib Advanced EGFR mutant NSCLC\\nVarlilumab Anti CD27 antibody NCT04081688 (1) Combination with Atezoli-\\nzumabAdvanced NSCLC with progres-\\nsion on first line therapy\\nVorolanib VEGFR/PDGFR inhibitor NCT03583086 (1/2) Combination with Nivolumab Solid tumors including NSCLC\\nZN-c3 WEE1 inhibitor NCT04158336 (1/2) Combination with Talazoparib \\nor PembrolizumabAdvanced solid tumors includ-\\ning NSCLC\\nRBN-2397 PARP7 inhibitor NCT04053673 (1) Monotherapy Advanced solid tumors includ-\\ning NSCLC', metadata={'page': 14.0, 'source': '.saved_pdfs/10.1186_s13045-021-01121-2.pdf', 'title': 'targeted therapy in advanced nonsmall cell lung cancer current advances and future trends'}), Document(page_content='Majeed\\xa0 et\\xa0al. J Hematol Oncol          (2021) 14:108  \\nhttps://doi.org/10.1186/s13045-021-01121-2\\nREVIEW\\nTargeted therapy in\\xa0advanced non-small cell \\nlung cancer: current advances and\\xa0future trends\\nUmair Majeed, Rami Manochakian, Yujie Zhao and Yanyan Lou*  \\nAbstract \\nLung cancer remains the leading cause of cancer-related mortality in both men and women in the US and worldwide. \\nNon-small cell lung cancer is the most common variety accounting for 84% of the cases. For a subset of patients with \\nactionable mutations, targeted therapy continues to provide durable responses. Advances in molecular and immu-\\nnohistochemical techniques have made it possible to usher lung cancer into the era of personalized medicine, with \\nthe patient getting individualized treatment based on these markers. This review summarizes the recent advances \\nin advanced NSCLC targeted therapy, focusing on first-in-human and early phase I/II clinical trials in patients with \\nadvanced disease. We have divided our discussion into different topics based on these agents’ mechanisms of action. \\nThis article is aimed to be the most current review of available and upcoming targeted NSCLC treatment options. We \\nwill also summarize the currently available phase I/II clinical trial for NSCLC patients at the end of each section.\\nKeywords: Advanced NSCLC, Targeted therapy, Phase I/II clinical trials, First-in-human, Lung cancer\\n© The Author(s) 2021. Open Access This article is licensed under a Creative Commons Attribution 4.0 International License, which \\npermits use, sharing, adaptation, distribution and reproduction in any medium or format, as long as you give appropriate credit to the \\noriginal author(s) and the source, provide a link to the Creative Commons licence, and indicate if changes were made. The images or \\nother third party material in this article are included in the article’s Creative Commons licence, unless indicated otherwise in a credit line \\nto the material. If material is not included in the article’s Creative Commons licence and your intended use is not permitted by statutory \\nregulation or exceeds the permitted use, you will need to obtain permission directly from the copyright holder. To view a copy of this \\nlicence, visit http:// creat iveco mmons. org/ licen ses/ by/4. 0/. The Creative Commons Public Domain Dedication waiver (http:// creat iveco  \\nmmons. org/ publi cdoma in/ zero/1. 0/) applies to the data made available in this article, unless otherwise stated in a credit line to the data.Background\\nLung cancer remains the number one cause of cancer-\\nrelated death worldwide. Overall, lung cancer causes \\nmore deaths than breast, prostate, colorectal, and brain \\ncancers combined [1]. In 2021, an estimated 235,760 \\nnew lung cancer cases will be diagnosed in the US, and \\n131,880 people will die from this disease [2]. Non-small \\ncell lung cancer (NSCLC) is the most common type of \\nlung cancer, accounting for more than two-thirds of the \\ncases, with most patients (84%) having advance disease at \\nthe time of diagnosis [3]. Identification of targetable alter -\\nation (i.e., EGFR, ALK, PI3K/AKT/mTOR, RAS-MAPK, \\nRET, MET, BRAF, and NTRK/ROS1) in patients with \\nadvanced NSCLC has evolved its treatment paradigm [4]. \\nThe approval and adoption of agents targeting these alter -\\nations has contributed to the decline in incidence-based \\nmortality from 35% among men with NSCLC diagnosed \\nin 2001 to 26% among those diagnosed in 2014. Similar patterns have been found among women with NSCLC \\n[5]. Despite these new therapeutic options for patients \\nwith advanced NSCLC, there continues to be significant \\nchallenges as resistance development and disease pro -\\ngression occurs in most of these patients [6]. This has led \\nto research in identifying drugs that can overcome these \\nresistance pathways. Next-generation sequencing, which \\ncan be performed on the tumor tissue and circulating \\ntumor DNA (ctDNA) in the blood, is now the standard', metadata={'page': 0.0, 'source': '.saved_pdfs/10.1186_s13045-021-01121-2.pdf', 'title': 'targeted therapy in advanced nonsmall cell lung cancer current advances and future trends'})]\u001b[0m\u001b[32;1m\u001b[1;3mRelevant Documents: 0,1,2\n",
      "Cited Documents: 0,1,2\n",
      "Answer: The protein targets highlighted in the paper include:\n",
      "- PTK7\n",
      "- Carcinoembryonic antigen-related cell adhesion molecule 5 (CEACAM5)\n",
      "- TROP2\n",
      "- B7-H3\n",
      "- PIK3CA\n",
      "- Akt/mammalian target of rapamycin\n",
      "- EGFR\n",
      "- ERBB2(HER2)\n",
      "- SHP2\n",
      "- Aurora A kinase\n",
      "- VEGFR\n",
      "- FGFR\n",
      "- PDGFR\n",
      "- c-kit\n",
      "- VEGFR-2\n",
      "- BCL2\n",
      "- IDO1\n",
      "- p53\n",
      "- Histone deacetylase\n",
      "- PI3K\n",
      "- RXRs\n",
      "- S15\n",
      "- MET/HGFR\n",
      "- Nintedanib\n",
      "- Liver X receptor\n",
      "- PARP\n",
      "- Exportin 1\n",
      "- MAPK\n",
      "- VEGFR2\n",
      "- Glutaminase\n",
      "- CD27\n",
      "- WEE1\n",
      "- PARP7\n",
      "Grounded answer: The protein targets highlighted in the paper include:\n",
      "- <co: 0,1>PTK7</co: 0,1>\n",
      "- <co: 0>Carcinoembryonic antigen-related cell adhesion molecule 5 (CEACAM5</co: 0>)\n",
      "- <co: 0>TROP2</co: 0>\n",
      "- <co: 0>B7-H3</co: 0>\n",
      "- <co: 0>PIK3CA</co: 0>\n",
      "- <co: 0>Akt/mammalian target of rapamycin</co: 0>\n",
      "- <co: 0,1,2>EGFR</co: 0,1,2>\n",
      "- <co: 1>ERBB2(HER2</co: 1>)\n",
      "- <co: 1>SHP2</co: 1>\n",
      "- <co: 1>Aurora A kinase</co: 1>\n",
      "- <co: 1>VEGFR</co: 1>\n",
      "- <co: 1>FGFR</co: 1>\n",
      "- <co: 1>PDGFR</co: 1>\n",
      "- <co: 1>c-kit</co: 1>\n",
      "- <co: 1>VEGFR-2</co: 1>\n",
      "- <co: 1>BCL2</co: 1>\n",
      "- <co: 1>IDO1</co: 1>\n",
      "- <co: 1>p53</co: 1>\n",
      "- <co: 1>Histone deacetylase</co: 1>\n",
      "- <co: 1>PI3K</co: 1>\n",
      "- <co: 1>RXRs</co: 1>\n",
      "- <co: 1>S15</co: 1>\n",
      "- <co: 1>MET/HGFR</co: 1>\n",
      "- <co: 1>Nintedanib</co: 1>\n",
      "- <co: 1>Liver X receptor</co: 1>\n",
      "- <co: 1>PARP</co: 1>\n",
      "- <co: 1>Exportin 1</co: 1>\n",
      "- <co: 1>MAPK</co: 1>\n",
      "- <co: 1>VEGFR2</co: 1>\n",
      "- <co: 1>Glutaminase</co: 1>\n",
      "- <co: 1>CD27</co: 1>\n",
      "- <co: 1>WEE1</co: 1>\n",
      "- <co: 1>PARP7</co: 1>\u001b[0m\n",
      "\n",
      "\u001b[1m> Finished chain.\u001b[0m\n",
      "The protein targets highlighted in the paper include:\n",
      "- PTK7\n",
      "- Carcinoembryonic antigen-related cell adhesion molecule 5 (CEACAM5)\n",
      "- TROP2\n",
      "- B7-H3\n",
      "- PIK3CA\n",
      "- Akt/mammalian target of rapamycin\n",
      "- EGFR\n",
      "- ERBB2(HER2)\n",
      "- SHP2\n",
      "- Aurora A kinase\n",
      "- VEGFR\n",
      "- FGFR\n",
      "- PDGFR\n",
      "- c-kit\n",
      "- VEGFR-2\n",
      "- BCL2\n",
      "- IDO1\n",
      "- p53\n",
      "- Histone deacetylase\n",
      "- PI3K\n",
      "- RXRs\n",
      "- S15\n",
      "- MET/HGFR\n",
      "- Nintedanib\n",
      "- Liver X receptor\n",
      "- PARP\n",
      "- Exportin 1\n",
      "- MAPK\n",
      "- VEGFR2\n",
      "- Glutaminase\n",
      "- CD27\n",
      "- WEE1\n",
      "- PARP7\n"
     ]
    }
   ],
   "source": [
    "response = agent_with_chat_history.invoke(\n",
    "    {\"input\": \"Can you list the protein targets they highlight in the paper?\"},\n",
    "    config={\"configurable\": {\"session_id\": \"<foo>\"}},\n",
    ")\n",
    "print(response['output'])\n"
   ]
  },
  {
   "cell_type": "code",
   "execution_count": 9,
   "metadata": {},
   "outputs": [
    {
     "name": "stderr",
     "output_type": "stream",
     "text": [
      "Parent run d1810cbf-9082-40c7-8e3e-64d3064621da not found for run caac612a-77da-4cad-a4fb-02810cf02f67. Treating as a root run.\n"
     ]
    },
    {
     "name": "stdout",
     "output_type": "stream",
     "text": [
      "\n",
      "\n",
      "\u001b[1m> Entering new AgentExecutor chain...\u001b[0m\n",
      "\u001b[32;1m\u001b[1;3m\n",
      "I will read the paper to find the small molecule drugs highlighted in it.\n",
      "{'tool_name': 'query_vector_db_articles', 'parameters': {'query': 'small molecule drugs', 'metadata': {'title': 'Targeted therapy in advanced non-small cell lung cancer: current advances and future trends.'}}}\n",
      "\u001b[0m\u001b[36;1m\u001b[1;3m[Document(page_content='Page 15 of 20\\n Majeed\\xa0et\\xa0al. J Hematol Oncol          (2021) 14:108 \\n \\nTable 13 Current ongoing early phase I/II trials with miscellaneous target inhibitors\\nDrug name Mechanism of action Clinical trial (phase) Study design Disease\\nERBB2(HER2) inhibitors\\nAdo-trastuzumab emtansine HER2-targeted antibody–drug \\nconjugateNCT03784599 (1/2) Combination with osimertinib EGFR mutant advanced NSCLC\\nMobocertinib (TAk-788) TKI targeting EGFR ex20ins \\nmutationsNCT02716116 (1/2) Combination with chemo -\\ntherapyEGFR and HER2 exon 20 inser -\\ntion in advanced NSCLC\\nPoziotinib EGFR, HER2 and HER 4 inhibi-\\ntorsNCT03066206 (2) Monotherapy EGFR exon 20 and HER2 exon 20 \\nmutated advanced NSCLC\\ntrastuzumab deruxtecan HER2-directed antibody–drug \\nconjugateNCT04644237 (2) Monotherapy HER2 mutated advanced NSCLC\\nSHP2 inhibitors\\nJAB-3068 SHP2 inhibitor NCT03518554 (1) Monotherapy Advanced solid tumors includ-\\ning NSCLC\\nTNO155 SHP2 inhibitor NCT03114319 (1) Monotherapy and combina-\\ntion with NazartinibAdvanced solid tumors includ-\\ning NSCLC\\nOther miscellaneous target inhibitors\\nAliseritib Selective aurora A kinase \\ninhibitorNCT04085315 (1/2) Combination with Osimertinib EGFR mutant NSCLC progress-\\ning after first line TKI\\nAnlotinib VEGFR, FGFR, PDGFR, c-kit \\nInhibitorNCT04165330 (1/2) Combination with Nivolumab Solid tumors including NSCLC\\nApatinib VEGFR-2 Inhibitor NCT03811054 (2) Combination with EGFR-TKI EGFR mutant NSCLC progress-\\ning after first line TKI\\nAPG-1252 Small molecule inhibitor of \\nBCL2NCT04001777 (1) Monotherapy and combina-\\ntion with OsimertinibEGFR mutant NSCLC\\nBMS-986205 IDO1 inhibitor NCT02658890 (1/2) Combination with Nivolumab \\nand IpilimumabAdvanced solid tumors includ-\\ning NSCLC\\nEprenetapopt (Apr-246) Stabilizes p53 in normal, \\nfunctional structureNCT04383938 (1/2) Combination with Pembroli-\\nzumabAdvanced solid tumors includ-\\ning NSCLC\\nHBI-8000 Histone deacetylase inhibitor NCT02718066 (1/2) Combination with Nivolumab Advanced NSCLC\\nIdelalisib PI3K inhibitor NCT03257722 (1/2) Combination with Pembroli-\\nzumabAdvanced NSCLC with progres-\\nsion on first line therapy\\nIRX4204 Rexinoid, potent activator of \\nRXRsNCT02991651 (1) Monotherapy and combina-\\ntion with ErlotinibAdvanced NSCLC with progres-\\nsion on two lines of therapy\\nNC318 IgG1 mAB specific for S15 NCT03665285 (1/2) Monotherapy Advanced solid tumors includ-\\ning NSCLC\\nNingetinib (CT053PTSA) Multi kinase inhibitor MET/\\nHGFRNCT03758287 (1/2) Combination with Gefitinib NSCLC with EGFR mutation and \\nT790M negative\\nNintedanib PDGFR, FGFR, VEGFR inhibitor NCT03377023 (1/2) Combination with Nivolumab \\nand IpilimumabAdvanced or metastatic NSCLC\\nRGX-104 Liver X receptor agonist NCT02922764 (1) Monotherapy or in combina-\\ntion with immunotherapy or \\nchemotherapyAdvanced solid tumors includ-\\ning NSCLC\\nRucaparib PARP inhibitor NCT03845296 (2) Monotherapy Recurrent NSCLC\\nSelinexor Exportin 1 inhibitor NCT03095612 (1/2) Combination with docetaxel Advanced KRAS mutant NSCLC \\nwith progression on first line \\ntherapy\\nSelumetinib MAPK inhibitor NCT03392246 (2) Combination with Osimertinib Advanced EGFR mutant NSCLC\\nRamucirumab VEGFR2 antagonist NCT03909334 (2) Combination with Osimertinib EGFR mutant NSCLC\\nTelaglenastat HCL Glutaminase inhibitor NCT03831932 (1/2) Combination with Osimertinib Advanced EGFR mutant NSCLC\\nVarlilumab Anti CD27 antibody NCT04081688 (1) Combination with Atezoli-\\nzumabAdvanced NSCLC with progres-\\nsion on first line therapy\\nVorolanib VEGFR/PDGFR inhibitor NCT03583086 (1/2) Combination with Nivolumab Solid tumors including NSCLC\\nZN-c3 WEE1 inhibitor NCT04158336 (1/2) Combination with Talazoparib \\nor PembrolizumabAdvanced solid tumors includ-\\ning NSCLC\\nRBN-2397 PARP7 inhibitor NCT04053673 (1) Monotherapy Advanced solid tumors includ-\\ning NSCLC', metadata={'page': 14.0, 'source': '.saved_pdfs/10.1186_s13045-021-01121-2.pdf', 'title': 'targeted therapy in advanced nonsmall cell lung cancer current advances and future trends'}), Document(page_content='Osimertinib Potent mutant EGFR Inhibitor NCT03434418 (2) Monotherapy NSCLC with uncommon EGFR \\nmutations (EGFR 18;G719X, \\nEGFR 20;S7681, EGFR 21;L861Q)\\nTarloxotinib Hypoxia activated prodrug (TH-\\n4000) wild type EGFR InhibitorNCT03805841 (2) Monotherapy EGFR exon 20 and HER2 activating \\nmutant NSCLC\\nWSD0922-FU EGFR/EGFRvIII Inhibitor NCT04197934 (1) Monotherapy EGFR mutant NSCLC\\nZN-e4 (KP-673) EGFR Inhibitor including T790M NCT03446417 (1/2) Monotherapy EGFR mutant NSCLC', metadata={'page': 6.0, 'source': '.saved_pdfs/10.1186_s13045-021-01121-2.pdf', 'title': 'targeted therapy in advanced nonsmall cell lung cancer current advances and future trends'}), Document(page_content='received at least 1 prior EGFR-targeted TKI including \\nthose with C797S mutation.\\nBDTX-189 is an irreversible small-molecule inhibitor \\nthat targets oncogenic driver mutations of EGFR, HER2, \\nand ERBB kinases [30]. Safety and preliminary efficacy \\nfrom first-in-human phase I/II trial Mastery key-01 \\n(NCT04209465) in patients with advanced solid cancers \\nincluding EGFR mutant NSCLC was reported [31]. The \\nmaximum tolerated dose (MTD) for QD (fasting) was \\n800\\xa0mg, with 2/6 pts with DLTs at 1200\\xa0mg due diarrhea \\nand nausea/vomiting. The most frequent (≥ 20%) related \\nadverse events were diarrhea (36%, 8% G3), nausea (28%, \\n0% G3), and vomiting (25%, 3% G3). The rate of skin dis -\\norders was 11% with the highest severity of G2 in 1 pt.\\nCLN-081 (TAS6417) is a potent pan-mutation-selective \\nEGFR inhibitor with a broad therapeutic window. Pre-\\nclinical studies have shown TAS6417 as a potent inhibi -\\ntor against EGFR exon 19 deletions, L858R, T790M, \\nG719X, L861Q, S768I, and exon 20 insertion mutations \\n[32]. It is currently being studied in a phase I/II trial in \\npatients with EGFR exon 20 mutation (NCT04036682). \\nInterim results for safety and efficacy were reported in 37 \\nheavily pre-treated patients. The most common TRAEs \\nwere rash (49%), diarrhea (24%), paronychia (16%), nau -\\nsea (14%), stomatitis (14%), and dry skin (11%). Grade \\n3 TRAEs included anemia (5%), diarrhea (3%), and \\nincreased alkaline phosphatase (ALP) (3%). Among the \\n25 response evaluable pts, 10 (40%) had a partial response \\n(PR) and 14 (56%) had stable disease [33].\\nDZD9008 is a potential EGFR TKI for NSCLC patients \\nwith EGFR or HER2 Exon20 insertion (exon20ins) and \\nother activating mutations [34]. Two ongoing phase I/\\nII clinical trials (NCT03974022 and CTR20192097) are', metadata={'page': 4.0, 'source': '.saved_pdfs/10.1186_s13045-021-01121-2.pdf', 'title': 'targeted therapy in advanced nonsmall cell lung cancer current advances and future trends'})]\u001b[0m\u001b[32;1m\u001b[1;3mRelevant Documents: 0,1,2\n",
      "Cited Documents: 0,1,2\n",
      "Answer: The small molecule drugs highlighted in the paper include:\n",
      "- Osimertinib\n",
      "- Mobocertinib (TAK-788)\n",
      "- Poziotinib\n",
      "- Trastuzumab deruxtecan\n",
      "- JAB-3068\n",
      "- TNO155\n",
      "- Aliseritib\n",
      "- Anlotinib\n",
      "- Apatinib\n",
      "- APG-1252\n",
      "- BMS-986205\n",
      "- Eprenetapopt (Apr-246)\n",
      "- HBI-8000\n",
      "- Idelalisib\n",
      "- IRX4204\n",
      "- NC318\n",
      "- Ningetinib (CT053PTSA)\n",
      "- Nintedanib\n",
      "- RGX-104\n",
      "- Rucaparib\n",
      "- Selinexor\n",
      "- Selumetinib\n",
      "- Ramucirumab\n",
      "- Telaglenastat HCL\n",
      "- Varlilumab\n",
      "- Vorolanib\n",
      "- ZN-c3\n",
      "- RBN-2397\n",
      "- BDTX-189\n",
      "- CLN-081 (TAS6417)\n",
      "- DZD9008\n",
      "Grounded answer: The small molecule drugs highlighted in the paper include:\n",
      "- <co: 0,1>Osimertinib</co: 0,1>\n",
      "- <co: 0>Mobocertinib (TAK-788</co: 0>)\n",
      "- <co: 0>Poziotinib</co: 0>\n",
      "- <co: 0>Trastuzumab deruxtecan</co: 0>\n",
      "- <co: 0>JAB-3068</co: 0>\n",
      "- <co: 0>TNO155</co: 0>\n",
      "- <co: 0>Aliseritib</co: 0>\n",
      "- <co: 0>Anlotinib</co: 0>\n",
      "- <co: 0>Apatinib</co: 0>\n",
      "- <co: 0>APG-1252</co: 0>\n",
      "- <co: 0>BMS-986205</co: 0>\n",
      "- <co: 0>Eprenetapopt (Apr-246</co: 0>)\n",
      "- <co: 0>HBI-8000</co: 0>\n",
      "- <co: 0>Idelalisib</co: 0>\n",
      "- <co: 0>IRX4204</co: 0>\n",
      "- <co: 0>NC318</co: 0>\n",
      "- <co: 0>Ningetinib (CT053PTSA</co: 0>)\n",
      "- <co: 0>Nintedanib</co: 0>\n",
      "- <co: 0>RGX-104</co: 0>\n",
      "- <co: 0>Rucaparib</co: 0>\n",
      "- <co: 0>Selinexor</co: 0>\n",
      "- <co: 0>Selumetinib</co: 0>\n",
      "- <co: 0>Ramucirumab</co: 0>\n",
      "- <co: 0>Telaglenastat HCL</co: 0>\n",
      "- <co: 0>Varlilumab</co: 0>\n",
      "- <co: 0>Vorolanib</co: 0>\n",
      "- <co: 0>ZN-c3</co: 0>\n",
      "- <co: 0>RBN-2397</co: 0>\n",
      "- <co: 2>BDTX-189</co: 2>\n",
      "- <co: 2>CLN-081 (TAS6417</co: 2>)\n",
      "- <co: 2>DZD9008</co: 2>\u001b[0m\n",
      "\n",
      "\u001b[1m> Finished chain.\u001b[0m\n",
      "The small molecule drugs highlighted in the paper include:\n",
      "- Osimertinib\n",
      "- Mobocertinib (TAK-788)\n",
      "- Poziotinib\n",
      "- Trastuzumab deruxtecan\n",
      "- JAB-3068\n",
      "- TNO155\n",
      "- Aliseritib\n",
      "- Anlotinib\n",
      "- Apatinib\n",
      "- APG-1252\n",
      "- BMS-986205\n",
      "- Eprenetapopt (Apr-246)\n",
      "- HBI-8000\n",
      "- Idelalisib\n",
      "- IRX4204\n",
      "- NC318\n",
      "- Ningetinib (CT053PTSA)\n",
      "- Nintedanib\n",
      "- RGX-104\n",
      "- Rucaparib\n",
      "- Selinexor\n",
      "- Selumetinib\n",
      "- Ramucirumab\n",
      "- Telaglenastat HCL\n",
      "- Varlilumab\n",
      "- Vorolanib\n",
      "- ZN-c3\n",
      "- RBN-2397\n",
      "- BDTX-189\n",
      "- CLN-081 (TAS6417)\n",
      "- DZD9008\n"
     ]
    }
   ],
   "source": [
    "response = agent_with_chat_history.invoke(\n",
    "    {\"input\": \"Can you list the small molecule drugs they highlight in the paper?\"},\n",
    "    config={\"configurable\": {\"session_id\": \"<foo>\"}},\n",
    ")\n",
    "print(response['output'])"
   ]
  },
  {
   "cell_type": "code",
   "execution_count": 10,
   "metadata": {},
   "outputs": [
    {
     "name": "stderr",
     "output_type": "stream",
     "text": [
      "Parent run e04b7ada-b4b8-468e-a92f-a33df56e5629 not found for run 7c034fef-7ad5-4480-80db-d0f5605b8a60. Treating as a root run.\n"
     ]
    },
    {
     "name": "stdout",
     "output_type": "stream",
     "text": [
      "\n",
      "\n",
      "\u001b[1m> Entering new AgentExecutor chain...\u001b[0m\n",
      "\u001b[32;1m\u001b[1;3m\n",
      "I will search for the SMILES string of Osimertinib.\n",
      "{'tool_name': 'get_smiles_from_pubchem', 'parameters': {'name': 'Osimertinib'}}\n",
      "\u001b[0m\u001b[33;1m\u001b[1;3mCN1C=C(C2=CC=CC=C21)C3=NC(=NC=C3)NC4=C(C=C(C(=C4)NC(=O)C=C)N(C)CCN(C)C)OC\u001b[0m\u001b[32;1m\u001b[1;3mRelevant Documents: 0\n",
      "Cited Documents: 0\n",
      "Answer: The SMILES string for Osimertinib is: CN1C=C(C2=CC=CC=C21)C3=NC(=NC=C3)NC4=C(C=C(C(=C4)NC(=O)C=C)N(C)CCN(C)C)OC.\n",
      "Grounded answer: The SMILES string for Osimertinib is: <co: 0>CN1C=C(C2=CC=CC=C21)C3=NC(=NC=C3)NC4=C(C=C(C(=C4)NC(=O)C=C)N(C)CCN(C)C)OC</co: 0>.\u001b[0m\n",
      "\n",
      "\u001b[1m> Finished chain.\u001b[0m\n",
      "The SMILES string for Osimertinib is: CN1C=C(C2=CC=CC=C21)C3=NC(=NC=C3)NC4=C(C=C(C(=C4)NC(=O)C=C)N(C)CCN(C)C)OC.\n"
     ]
    }
   ],
   "source": [
    "response = agent_with_chat_history.invoke(\n",
    "    {\"input\": \"Can you find the SMILES string of the first small molecule you found?\"},\n",
    "    config={\"configurable\": {\"session_id\": \"<foo>\"}},\n",
    ")\n",
    "print(response['output'])"
   ]
  },
  {
   "cell_type": "code",
   "execution_count": 11,
   "metadata": {},
   "outputs": [
    {
     "name": "stderr",
     "output_type": "stream",
     "text": [
      "Parent run 032b0eeb-573d-42be-a2ab-462024848d45 not found for run a8b30c2a-1e4b-4729-b94e-06f1d39dbcd5. Treating as a root run.\n"
     ]
    },
    {
     "name": "stdout",
     "output_type": "stream",
     "text": [
      "\n",
      "\n",
      "\u001b[1m> Entering new AgentExecutor chain...\u001b[0m\n",
      "\u001b[32;1m\u001b[1;3m\n",
      "I will use the 'predict_energy_from_smiles' tool to predict the energy value of the SMILES string for Osimertinib.\n",
      "{'tool_name': 'predict_energy_from_smiles', 'parameters': {'smiles': 'CN1C=C(C2=CC=CC=C21)C3=NC(=NC=C3)NC4=C(C=C(C(=C4)NC(=O)C=C)N(C)CCN(C)C)OC'}}\n",
      "\u001b[0mPrediction for CN1C=C(C2=CC=CC=C21)C3=NC(=NC=C3)NC4=C(C=C(C(=C4)NC(=O)C=C)N(C)CCN(C)C)OC: -11.39196263310017\n",
      "\u001b[38;5;200m\u001b[1;3m-11.39196263310017\u001b[0m\u001b[32;1m\u001b[1;3mRelevant Documents: 0\n",
      "Cited Documents: 0\n",
      "Answer: The predicted energy value of Osimertinib is -11.39196263310017.\n",
      "Grounded answer: The predicted energy value of Osimertinib is <co: 0>-11.39196263310017</co: 0>.\u001b[0m\n",
      "\n",
      "\u001b[1m> Finished chain.\u001b[0m\n",
      "The predicted energy value of Osimertinib is -11.39196263310017.\n"
     ]
    }
   ],
   "source": [
    "response = agent_with_chat_history.invoke(\n",
    "    {\"input\": \"Can you predict its energy value?\"},\n",
    "    config={\"configurable\": {\"session_id\": \"<foo>\"}},\n",
    ")\n",
    "print(response['output'])"
   ]
  },
  {
   "cell_type": "code",
   "execution_count": null,
   "metadata": {},
   "outputs": [],
   "source": []
  }
 ],
 "metadata": {
  "kernelspec": {
   "display_name": "takehome",
   "language": "python",
   "name": "python3"
  },
  "language_info": {
   "codemirror_mode": {
    "name": "ipython",
    "version": 3
   },
   "file_extension": ".py",
   "mimetype": "text/x-python",
   "name": "python",
   "nbconvert_exporter": "python",
   "pygments_lexer": "ipython3",
   "version": "3.12.3"
  }
 },
 "nbformat": 4,
 "nbformat_minor": 2
}
